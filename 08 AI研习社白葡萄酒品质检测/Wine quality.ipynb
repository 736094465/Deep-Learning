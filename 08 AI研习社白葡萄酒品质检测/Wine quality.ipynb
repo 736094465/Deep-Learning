{
 "cells": [
  {
   "cell_type": "markdown",
   "metadata": {},
   "source": [
    "<img src=\"./param.png\" width=600>"
   ]
  },
  {
   "cell_type": "code",
   "execution_count": 1,
   "metadata": {},
   "outputs": [],
   "source": [
    "import numpy as np\n",
    "import pandas as pd\n",
    "import warnings\n",
    "warnings.filterwarnings(\"ignore\")"
   ]
  },
  {
   "cell_type": "code",
   "execution_count": 2,
   "metadata": {},
   "outputs": [],
   "source": [
    "train_data = pd.read_csv(\"./winequality_dataset/train.csv\",header=0,index_col=None)"
   ]
  },
  {
   "cell_type": "code",
   "execution_count": 3,
   "metadata": {},
   "outputs": [],
   "source": [
    "data = pd.read_csv(\"./winequality/winequality/winequality-white.csv\",header=0,index_col=None)"
   ]
  },
  {
   "cell_type": "code",
   "execution_count": 4,
   "metadata": {},
   "outputs": [],
   "source": [
    "train_data = train_data.append(data[:3500])"
   ]
  },
  {
   "cell_type": "code",
   "execution_count": 5,
   "metadata": {},
   "outputs": [
    {
     "data": {
      "text/html": [
       "<div>\n",
       "<style scoped>\n",
       "    .dataframe tbody tr th:only-of-type {\n",
       "        vertical-align: middle;\n",
       "    }\n",
       "\n",
       "    .dataframe tbody tr th {\n",
       "        vertical-align: top;\n",
       "    }\n",
       "\n",
       "    .dataframe thead th {\n",
       "        text-align: right;\n",
       "    }\n",
       "</style>\n",
       "<table border=\"1\" class=\"dataframe\">\n",
       "  <thead>\n",
       "    <tr style=\"text-align: right;\">\n",
       "      <th></th>\n",
       "      <th>fixed acidity</th>\n",
       "      <th>volatile acidity</th>\n",
       "      <th>citric acid</th>\n",
       "      <th>residual sugar</th>\n",
       "      <th>chlorides</th>\n",
       "      <th>free sulfur dioxide</th>\n",
       "      <th>total sulfur dioxide</th>\n",
       "      <th>density</th>\n",
       "      <th>pH</th>\n",
       "      <th>sulphates</th>\n",
       "      <th>alcohol</th>\n",
       "      <th>quality</th>\n",
       "    </tr>\n",
       "  </thead>\n",
       "  <tbody>\n",
       "    <tr>\n",
       "      <th>0</th>\n",
       "      <td>7.3</td>\n",
       "      <td>0.19</td>\n",
       "      <td>0.27</td>\n",
       "      <td>13.9</td>\n",
       "      <td>0.057</td>\n",
       "      <td>45.0</td>\n",
       "      <td>155.0</td>\n",
       "      <td>0.99807</td>\n",
       "      <td>2.94</td>\n",
       "      <td>0.41</td>\n",
       "      <td>8.8</td>\n",
       "      <td>8</td>\n",
       "    </tr>\n",
       "    <tr>\n",
       "      <th>1</th>\n",
       "      <td>6.2</td>\n",
       "      <td>0.20</td>\n",
       "      <td>0.49</td>\n",
       "      <td>1.6</td>\n",
       "      <td>0.065</td>\n",
       "      <td>17.0</td>\n",
       "      <td>143.0</td>\n",
       "      <td>0.99370</td>\n",
       "      <td>3.22</td>\n",
       "      <td>0.52</td>\n",
       "      <td>9.2</td>\n",
       "      <td>6</td>\n",
       "    </tr>\n",
       "    <tr>\n",
       "      <th>2</th>\n",
       "      <td>7.1</td>\n",
       "      <td>0.23</td>\n",
       "      <td>0.35</td>\n",
       "      <td>16.5</td>\n",
       "      <td>0.040</td>\n",
       "      <td>60.0</td>\n",
       "      <td>171.0</td>\n",
       "      <td>0.99900</td>\n",
       "      <td>3.16</td>\n",
       "      <td>0.59</td>\n",
       "      <td>9.1</td>\n",
       "      <td>6</td>\n",
       "    </tr>\n",
       "    <tr>\n",
       "      <th>3</th>\n",
       "      <td>7.5</td>\n",
       "      <td>0.20</td>\n",
       "      <td>0.47</td>\n",
       "      <td>16.9</td>\n",
       "      <td>0.052</td>\n",
       "      <td>51.0</td>\n",
       "      <td>188.0</td>\n",
       "      <td>0.99944</td>\n",
       "      <td>3.09</td>\n",
       "      <td>0.62</td>\n",
       "      <td>9.3</td>\n",
       "      <td>5</td>\n",
       "    </tr>\n",
       "    <tr>\n",
       "      <th>4</th>\n",
       "      <td>7.0</td>\n",
       "      <td>0.15</td>\n",
       "      <td>0.38</td>\n",
       "      <td>15.3</td>\n",
       "      <td>0.045</td>\n",
       "      <td>54.0</td>\n",
       "      <td>120.0</td>\n",
       "      <td>0.99750</td>\n",
       "      <td>3.18</td>\n",
       "      <td>0.42</td>\n",
       "      <td>9.8</td>\n",
       "      <td>6</td>\n",
       "    </tr>\n",
       "  </tbody>\n",
       "</table>\n",
       "</div>"
      ],
      "text/plain": [
       "   fixed acidity  volatile acidity  citric acid  residual sugar  chlorides  \\\n",
       "0            7.3              0.19         0.27            13.9      0.057   \n",
       "1            6.2              0.20         0.49             1.6      0.065   \n",
       "2            7.1              0.23         0.35            16.5      0.040   \n",
       "3            7.5              0.20         0.47            16.9      0.052   \n",
       "4            7.0              0.15         0.38            15.3      0.045   \n",
       "\n",
       "   free sulfur dioxide  total sulfur dioxide  density    pH  sulphates  \\\n",
       "0                 45.0                 155.0  0.99807  2.94       0.41   \n",
       "1                 17.0                 143.0  0.99370  3.22       0.52   \n",
       "2                 60.0                 171.0  0.99900  3.16       0.59   \n",
       "3                 51.0                 188.0  0.99944  3.09       0.62   \n",
       "4                 54.0                 120.0  0.99750  3.18       0.42   \n",
       "\n",
       "   alcohol  quality  \n",
       "0      8.8        8  \n",
       "1      9.2        6  \n",
       "2      9.1        6  \n",
       "3      9.3        5  \n",
       "4      9.8        6  "
      ]
     },
     "execution_count": 5,
     "metadata": {},
     "output_type": "execute_result"
    }
   ],
   "source": [
    "train_data.head()"
   ]
  },
  {
   "cell_type": "code",
   "execution_count": 6,
   "metadata": {},
   "outputs": [
    {
     "name": "stdout",
     "output_type": "stream",
     "text": [
      "<class 'pandas.core.frame.DataFrame'>\n",
      "Int64Index: 6897 entries, 0 to 3499\n",
      "Data columns (total 12 columns):\n",
      "fixed acidity           6897 non-null float64\n",
      "volatile acidity        6897 non-null float64\n",
      "citric acid             6897 non-null float64\n",
      "residual sugar          6897 non-null float64\n",
      "chlorides               6897 non-null float64\n",
      "free sulfur dioxide     6897 non-null float64\n",
      "total sulfur dioxide    6897 non-null float64\n",
      "density                 6897 non-null float64\n",
      "pH                      6897 non-null float64\n",
      "sulphates               6897 non-null float64\n",
      "alcohol                 6897 non-null float64\n",
      "quality                 6897 non-null int64\n",
      "dtypes: float64(11), int64(1)\n",
      "memory usage: 700.5 KB\n"
     ]
    }
   ],
   "source": [
    "train_data.info()"
   ]
  },
  {
   "cell_type": "code",
   "execution_count": 7,
   "metadata": {},
   "outputs": [
    {
     "data": {
      "text/plain": [
       "fixed acidity           0\n",
       "volatile acidity        0\n",
       "citric acid             0\n",
       "residual sugar          0\n",
       "chlorides               0\n",
       "free sulfur dioxide     0\n",
       "total sulfur dioxide    0\n",
       "density                 0\n",
       "pH                      0\n",
       "sulphates               0\n",
       "alcohol                 0\n",
       "quality                 0\n",
       "dtype: int64"
      ]
     },
     "execution_count": 7,
     "metadata": {},
     "output_type": "execute_result"
    }
   ],
   "source": [
    "train_data.isnull().sum()"
   ]
  },
  {
   "cell_type": "code",
   "execution_count": 8,
   "metadata": {},
   "outputs": [
    {
     "data": {
      "image/png": "[encoded data removed]",
      "text/plain": [
       "<Figure size 432x288 with 1 Axes>"
      ]
     },
     "metadata": {
      "needs_background": "light"
     },
     "output_type": "display_data"
    }
   ],
   "source": [
    "import matplotlib.pyplot as plt\n",
    "%matplotlib inline\n",
    "\n",
    "fig = plt.figure()\n",
    "ax = fig.add_subplot(111)\n",
    "ax.set(xlabel=\"total sulfur dioxide\",ylabel=\"free sulfur dioxide\")\n",
    "ax.scatter(train_data[\"total sulfur dioxide\"],train_data[\"free sulfur dioxide\"],c=\"r\")\n",
    "plt.show()"
   ]
  },
  {
   "cell_type": "markdown",
   "metadata": {},
   "source": [
    "### 数据集划分"
   ]
  },
  {
   "cell_type": "code",
   "execution_count": 9,
   "metadata": {},
   "outputs": [],
   "source": [
    "from sklearn.model_selection import train_test_split\n",
    "\n",
    "X = train_data.iloc[:,:-1]\n",
    "y = np.ravel(train_data.quality)\n",
    "\n",
    "X_train,X_test,y_train,y_test = train_test_split(X,y,test_size=0.2,random_state=2019)"
   ]
  },
  {
   "cell_type": "code",
   "execution_count": 10,
   "metadata": {},
   "outputs": [
    {
     "data": {
      "text/html": [
       "<div>\n",
       "<style scoped>\n",
       "    .dataframe tbody tr th:only-of-type {\n",
       "        vertical-align: middle;\n",
       "    }\n",
       "\n",
       "    .dataframe tbody tr th {\n",
       "        vertical-align: top;\n",
       "    }\n",
       "\n",
       "    .dataframe thead th {\n",
       "        text-align: right;\n",
       "    }\n",
       "</style>\n",
       "<table border=\"1\" class=\"dataframe\">\n",
       "  <thead>\n",
       "    <tr style=\"text-align: right;\">\n",
       "      <th></th>\n",
       "      <th>fixed acidity</th>\n",
       "      <th>volatile acidity</th>\n",
       "      <th>citric acid</th>\n",
       "      <th>residual sugar</th>\n",
       "      <th>chlorides</th>\n",
       "      <th>free sulfur dioxide</th>\n",
       "      <th>total sulfur dioxide</th>\n",
       "      <th>density</th>\n",
       "      <th>pH</th>\n",
       "      <th>sulphates</th>\n",
       "      <th>alcohol</th>\n",
       "    </tr>\n",
       "  </thead>\n",
       "  <tbody>\n",
       "    <tr>\n",
       "      <th>0</th>\n",
       "      <td>7.3</td>\n",
       "      <td>0.19</td>\n",
       "      <td>0.27</td>\n",
       "      <td>13.9</td>\n",
       "      <td>0.057</td>\n",
       "      <td>45.0</td>\n",
       "      <td>155.0</td>\n",
       "      <td>0.99807</td>\n",
       "      <td>2.94</td>\n",
       "      <td>0.41</td>\n",
       "      <td>8.8</td>\n",
       "    </tr>\n",
       "    <tr>\n",
       "      <th>1</th>\n",
       "      <td>6.2</td>\n",
       "      <td>0.20</td>\n",
       "      <td>0.49</td>\n",
       "      <td>1.6</td>\n",
       "      <td>0.065</td>\n",
       "      <td>17.0</td>\n",
       "      <td>143.0</td>\n",
       "      <td>0.99370</td>\n",
       "      <td>3.22</td>\n",
       "      <td>0.52</td>\n",
       "      <td>9.2</td>\n",
       "    </tr>\n",
       "    <tr>\n",
       "      <th>2</th>\n",
       "      <td>7.1</td>\n",
       "      <td>0.23</td>\n",
       "      <td>0.35</td>\n",
       "      <td>16.5</td>\n",
       "      <td>0.040</td>\n",
       "      <td>60.0</td>\n",
       "      <td>171.0</td>\n",
       "      <td>0.99900</td>\n",
       "      <td>3.16</td>\n",
       "      <td>0.59</td>\n",
       "      <td>9.1</td>\n",
       "    </tr>\n",
       "    <tr>\n",
       "      <th>3</th>\n",
       "      <td>7.5</td>\n",
       "      <td>0.20</td>\n",
       "      <td>0.47</td>\n",
       "      <td>16.9</td>\n",
       "      <td>0.052</td>\n",
       "      <td>51.0</td>\n",
       "      <td>188.0</td>\n",
       "      <td>0.99944</td>\n",
       "      <td>3.09</td>\n",
       "      <td>0.62</td>\n",
       "      <td>9.3</td>\n",
       "    </tr>\n",
       "    <tr>\n",
       "      <th>4</th>\n",
       "      <td>7.0</td>\n",
       "      <td>0.15</td>\n",
       "      <td>0.38</td>\n",
       "      <td>15.3</td>\n",
       "      <td>0.045</td>\n",
       "      <td>54.0</td>\n",
       "      <td>120.0</td>\n",
       "      <td>0.99750</td>\n",
       "      <td>3.18</td>\n",
       "      <td>0.42</td>\n",
       "      <td>9.8</td>\n",
       "    </tr>\n",
       "  </tbody>\n",
       "</table>\n",
       "</div>"
      ],
      "text/plain": [
       "   fixed acidity  volatile acidity  citric acid  residual sugar  chlorides  \\\n",
       "0            7.3              0.19         0.27            13.9      0.057   \n",
       "1            6.2              0.20         0.49             1.6      0.065   \n",
       "2            7.1              0.23         0.35            16.5      0.040   \n",
       "3            7.5              0.20         0.47            16.9      0.052   \n",
       "4            7.0              0.15         0.38            15.3      0.045   \n",
       "\n",
       "   free sulfur dioxide  total sulfur dioxide  density    pH  sulphates  \\\n",
       "0                 45.0                 155.0  0.99807  2.94       0.41   \n",
       "1                 17.0                 143.0  0.99370  3.22       0.52   \n",
       "2                 60.0                 171.0  0.99900  3.16       0.59   \n",
       "3                 51.0                 188.0  0.99944  3.09       0.62   \n",
       "4                 54.0                 120.0  0.99750  3.18       0.42   \n",
       "\n",
       "   alcohol  \n",
       "0      8.8  \n",
       "1      9.2  \n",
       "2      9.1  \n",
       "3      9.3  \n",
       "4      9.8  "
      ]
     },
     "execution_count": 10,
     "metadata": {},
     "output_type": "execute_result"
    }
   ],
   "source": [
    "X.head()"
   ]
  },
  {
   "cell_type": "code",
   "execution_count": 11,
   "metadata": {},
   "outputs": [
    {
     "data": {
      "text/plain": [
       "array([8, 6, 6, ..., 6, 6, 7], dtype=int64)"
      ]
     },
     "execution_count": 11,
     "metadata": {},
     "output_type": "execute_result"
    }
   ],
   "source": [
    "y"
   ]
  },
  {
   "cell_type": "code",
   "execution_count": 12,
   "metadata": {},
   "outputs": [
    {
     "name": "stdout",
     "output_type": "stream",
     "text": [
      "(5517, 11)\n",
      "(5517,)\n",
      "(1380, 11)\n",
      "(1380,)\n"
     ]
    }
   ],
   "source": [
    "print(X_train.shape)\n",
    "print(y_train.shape)\n",
    "print(X_test.shape)\n",
    "print(y_test.shape)"
   ]
  },
  {
   "cell_type": "markdown",
   "metadata": {},
   "source": [
    "### 数据预处理"
   ]
  },
  {
   "cell_type": "code",
   "execution_count": 11,
   "metadata": {},
   "outputs": [
    {
     "name": "stdout",
     "output_type": "stream",
     "text": [
      "Shape of X_train before transformation: (3200, 11)\n",
      "Shape of X_train after transformation: (3200, 77)\n"
     ]
    }
   ],
   "source": [
    "from sklearn.preprocessing import PolynomialFeatures\n",
    "\n",
    "print(\"Shape of X_train before transformation:\",X_train.shape)\n",
    "poly = PolynomialFeatures(degree=2,include_bias=False)\n",
    "X_train_poly = poly.fit_transform(X_train)\n",
    "X_test_poly = poly.transform(X_test)\n",
    "X_poly = poly.transform(X)\n",
    "print(\"Shape of X_train after transformation:\",X_train_poly.shape)\n"
   ]
  },
  {
   "cell_type": "code",
   "execution_count": 12,
   "metadata": {},
   "outputs": [],
   "source": [
    "from sklearn.preprocessing import StandardScaler\n",
    "from sklearn.preprocessing import MinMaxScaler\n",
    "\n",
    "scaler = MinMaxScaler().fit(X_train_poly)\n",
    "X_train = scaler.transform(X_train_poly)\n",
    "X_test = scaler.transform(X_test_poly)\n",
    "\n",
    "X = scaler.transform(X_poly)"
   ]
  },
  {
   "cell_type": "code",
   "execution_count": null,
   "metadata": {},
   "outputs": [],
   "source": []
  },
  {
   "cell_type": "markdown",
   "metadata": {},
   "source": [
    "### 数据归一化处理"
   ]
  },
  {
   "cell_type": "code",
   "execution_count": 13,
   "metadata": {},
   "outputs": [],
   "source": [
    "from sklearn.preprocessing import StandardScaler\n",
    "from sklearn.preprocessing import MinMaxScaler\n",
    "\n",
    "scaler = MinMaxScaler().fit(X_train)\n",
    "X_train = scaler.transform(X_train)\n",
    "X_test = scaler.transform(X_test)\n",
    "\n",
    "X = scaler.transform(X)"
   ]
  },
  {
   "cell_type": "markdown",
   "metadata": {},
   "source": [
    "### ML模型"
   ]
  },
  {
   "cell_type": "code",
   "execution_count": 13,
   "metadata": {},
   "outputs": [],
   "source": [
    "# 传统机器方法大杂烩\n",
    "from sklearn.preprocessing import StandardScaler,RobustScaler\n",
    "from sklearn.model_selection import train_test_split\n",
    "from sklearn.model_selection import KFold\n",
    "from sklearn.model_selection import cross_val_score\n",
    "\n",
    "from sklearn.linear_model import LogisticRegression\n",
    "from sklearn.naive_bayes import GaussianNB\n",
    "from sklearn.neighbors import KNeighborsClassifier\n",
    "from sklearn.tree import DecisionTreeClassifier\n",
    "from sklearn.svm import SVC\n",
    "from sklearn.discriminant_analysis import LinearDiscriminantAnalysis\n",
    "\n",
    "from catboost import CatBoostClassifier\n",
    "\n",
    "from sklearn.metrics import accuracy_score,confusion_matrix,classification_report"
   ]
  },
  {
   "cell_type": "code",
   "execution_count": 38,
   "metadata": {},
   "outputs": [],
   "source": [
    "def get_models():\n",
    "    models = []\n",
    "    models.append((\"LR\",LogisticRegression()))\n",
    "    models.append((\"NB\",GaussianNB()))\n",
    "    models.append((\"KNN\",KNeighborsClassifier()))\n",
    "    models.append((\"DT\",DecisionTreeClassifier()))\n",
    "    models.append((\"SVM rbf\",SVC()))\n",
    "    models.append((\"SVM linear\",SVC(kernel=\"linear\")))\n",
    "    models.append((\"LDA\",LinearDiscriminantAnalysis()))\n",
    "    models.append((\"Cat\",CatBoostClassifier(silent=True)))\n",
    "    return models\n",
    "\n",
    "def cross_validation_scores_for_various_ml_models(X_cv,y_cv):\n",
    "    print(\"cross validation accuracy\".upper())\n",
    "    models = get_models()\n",
    "    \n",
    "    results = []\n",
    "    names = []\n",
    "    \n",
    "    for name,model in models:\n",
    "        kfold = KFold(n_splits=5,shuffle=True,random_state=2019)\n",
    "        cv_result = cross_val_score(model,X_cv,y_cv,cv=kfold,scoring=\"accuracy\")\n",
    "        names.append(name)\n",
    "        results.append(cv_result)\n",
    "        print(\"{}cross validation,accuracy:{:0.2f}\".format(name,cv_result.mean()))"
   ]
  },
  {
   "cell_type": "code",
   "execution_count": 39,
   "metadata": {},
   "outputs": [
    {
     "name": "stdout",
     "output_type": "stream",
     "text": [
      "CROSS VALIDATION ACCURACY\n",
      "LRcross validation,accuracy:0.52\n",
      "NBcross validation,accuracy:0.45\n",
      "KNNcross validation,accuracy:0.46\n",
      "DTcross validation,accuracy:0.56\n",
      "SVM rbfcross validation,accuracy:0.54\n",
      "SVM linearcross validation,accuracy:0.53\n",
      "LDAcross validation,accuracy:0.53\n",
      "Catcross validation,accuracy:0.61\n"
     ]
    }
   ],
   "source": [
    "cross_validation_scores_for_various_ml_models(X,y)"
   ]
  },
  {
   "cell_type": "code",
   "execution_count": null,
   "metadata": {},
   "outputs": [],
   "source": []
  },
  {
   "cell_type": "markdown",
   "metadata": {},
   "source": [
    "**Random Forest**"
   ]
  },
  {
   "cell_type": "code",
   "execution_count": 14,
   "metadata": {},
   "outputs": [],
   "source": [
    "from sklearn.model_selection import train_test_split,cross_val_score,GridSearchCV\n",
    "from sklearn.metrics import mean_absolute_error,classification_report\n",
    "from sklearn.ensemble import RandomForestClassifier,RandomForestRegressor\n",
    "from xgboost import XGBRegressor"
   ]
  },
  {
   "cell_type": "code",
   "execution_count": null,
   "metadata": {},
   "outputs": [],
   "source": [
    "scores = {}\n",
    "\n",
    "for n_estimators in range(10,810,10):\n",
    "    RF_model = RandomForestClassifier(n_estimators=n_estimators,random_state=2019)\n",
    "    RF_model.fit(X_train,y_train)\n",
    "    RF_predictions = RF_model.predict(X_test)\n",
    "    RF_mae = mean_absolute_error(RF_predictions,y_test)\n",
    "    scores[n_estimators] = RF_mae"
   ]
  },
  {
   "cell_type": "code",
   "execution_count": null,
   "metadata": {},
   "outputs": [],
   "source": [
    "import matplotlib.pyplot as plt\n",
    "%matplotlib inline\n",
    "\n",
    "fig_RF,ax_RF = plt.subplots(figsize=(10,4))\n",
    "ax_RF.set_title(\"Mean Absolute Error with Number of Estimators of a Random Forest\")\n",
    "ax_RF.set_xlabel(\"Number of Estimators\")\n",
    "ax_RF.set_ylabel(\"Mean Absolute Error\")\n",
    "plt.plot(list(scores.keys()),list(scores.values()))"
   ]
  },
  {
   "cell_type": "code",
   "execution_count": null,
   "metadata": {},
   "outputs": [],
   "source": [
    "best_n_estimators = 0\n",
    "\n",
    "for n_estimators,score in scores.items():\n",
    "    if score == min(scores.values()):\n",
    "        best_n_estimators = n_estimators\n",
    "        print(f\"Best Number of Estimators:{n_estimators}\")"
   ]
  },
  {
   "cell_type": "code",
   "execution_count": null,
   "metadata": {},
   "outputs": [],
   "source": [
    "RF_model = RandomForestClassifier(n_estimators=best_n_estimators,random_state=2019)\n",
    "RF_model.fit(X_train,y_train)\n",
    "RF_predictions = RF_model.predict(X_test)\n",
    "RF_mae = mean_absolute_error(RF_predictions,y_test)\n",
    "\n",
    "print(f\"Mean Absolute Error:{RF_mae}\")\n",
    "print(classification_report(y_test,RF_predictions))"
   ]
  },
  {
   "cell_type": "code",
   "execution_count": 25,
   "metadata": {},
   "outputs": [
    {
     "name": "stdout",
     "output_type": "stream",
     "text": [
      "Fitting 3 folds for each of 6 candidates, totalling 18 fits\n"
     ]
    },
    {
     "name": "stderr",
     "output_type": "stream",
     "text": [
      "[Parallel(n_jobs=-1)]: Using backend LokyBackend with 4 concurrent workers.\n",
      "[Parallel(n_jobs=-1)]: Done  18 out of  18 | elapsed:   26.7s finished\n"
     ]
    },
    {
     "data": {
      "text/plain": [
       "GridSearchCV(cv=3, error_score='raise-deprecating',\n",
       "             estimator=RandomForestClassifier(bootstrap=True, class_weight=None,\n",
       "                                              criterion='gini', max_depth=None,\n",
       "                                              max_features='auto',\n",
       "                                              max_leaf_nodes=None,\n",
       "                                              min_impurity_decrease=0.0,\n",
       "                                              min_impurity_split=None,\n",
       "                                              min_samples_leaf=1,\n",
       "                                              min_samples_split=2,\n",
       "                                              min_weight_fraction_leaf=0.0,\n",
       "                                              n_estimators='warn', n_jobs=None,\n",
       "                                              oob_score=False,\n",
       "                                              random_state=2019, verbose=0,\n",
       "                                              warm_start=False),\n",
       "             iid='warn', n_jobs=-1,\n",
       "             param_grid={'n_estimators': [120, 140, 300, 500, 800, 1200]},\n",
       "             pre_dispatch='2*n_jobs', refit=True, return_train_score=False,\n",
       "             scoring='neg_mean_absolute_error', verbose=1)"
      ]
     },
     "execution_count": 25,
     "metadata": {},
     "output_type": "execute_result"
    }
   ],
   "source": [
    "from sklearn.model_selection import GridSearchCV\n",
    "\n",
    "param_grid = {\"n_estimators\":[120,140,300,500,800,1200]}\n",
    "RF_model_new = RandomForestClassifier(random_state=2019)\n",
    "RF_grid = GridSearchCV(RF_model_new,param_grid,verbose=1,n_jobs=-1,cv=3,scoring=\"neg_mean_absolute_error\")\n",
    "RF_grid.fit(X_train,y_train)"
   ]
  },
  {
   "cell_type": "code",
   "execution_count": 26,
   "metadata": {},
   "outputs": [
    {
     "data": {
      "text/plain": [
       "{'n_estimators': 1200}"
      ]
     },
     "execution_count": 26,
     "metadata": {},
     "output_type": "execute_result"
    }
   ],
   "source": [
    "RF_grid.best_params_"
   ]
  },
  {
   "cell_type": "code",
   "execution_count": 28,
   "metadata": {},
   "outputs": [
    {
     "name": "stdout",
     "output_type": "stream",
     "text": [
      "Mean Absolute Error:0.3926470588235294\n",
      "              precision    recall  f1-score   support\n",
      "\n",
      "           3       0.00      0.00      0.00         6\n",
      "           4       0.83      0.23      0.36        22\n",
      "           5       0.70      0.70      0.70       211\n",
      "           6       0.62      0.80      0.70       290\n",
      "           7       0.72      0.46      0.56       113\n",
      "           8       0.88      0.39      0.54        36\n",
      "           9       0.00      0.00      0.00         2\n",
      "\n",
      "    accuracy                           0.66       680\n",
      "   macro avg       0.54      0.37      0.41       680\n",
      "weighted avg       0.68      0.66      0.65       680\n",
      "\n"
     ]
    }
   ],
   "source": [
    "RF_model = RandomForestClassifier(n_estimators=140,random_state=2019)\n",
    "RF_model.fit(X_train,y_train)\n",
    "RF_predictions = RF_model.predict(X_test)\n",
    "RF_mae = mean_absolute_error(RF_predictions,y_test)\n",
    "\n",
    "print(f\"Mean Absolute Error:{RF_mae}\")\n",
    "print(classification_report(y_test,RF_predictions))"
   ]
  },
  {
   "cell_type": "markdown",
   "metadata": {},
   "source": [
    "**ExtraTreeClassifier**"
   ]
  },
  {
   "cell_type": "code",
   "execution_count": 24,
   "metadata": {},
   "outputs": [],
   "source": [
    "from sklearn.ensemble import ExtraTreesClassifier\n",
    "from sklearn.ensemble import ExtraTreesRegressor"
   ]
  },
  {
   "cell_type": "code",
   "execution_count": 25,
   "metadata": {},
   "outputs": [],
   "source": [
    "scores = {}\n",
    "\n",
    "for n_estimators in range(10,600,10):\n",
    "    extra_model = ExtraTreesClassifier(n_estimators=n_estimators,random_state=2019)\n",
    "    extra_model.fit(X_train,y_train)\n",
    "    extra_predictions = extra_model.predict(X_test)\n",
    "    extra_mae = mean_absolute_error(extra_predictions,y_test)\n",
    "    scores[n_estimators] = extra_mae"
   ]
  },
  {
   "cell_type": "code",
   "execution_count": 26,
   "metadata": {},
   "outputs": [
    {
     "data": {
      "text/plain": [
       "[<matplotlib.lines.Line2D at 0x1e3c5f922c8>]"
      ]
     },
     "execution_count": 26,
     "metadata": {},
     "output_type": "execute_result"
    },
    {
     "data": {
      "image/png": "[encoded data removed]",
      "text/plain": [
       "<Figure size 720x288 with 1 Axes>"
      ]
     },
     "metadata": {
      "needs_background": "light"
     },
     "output_type": "display_data"
    }
   ],
   "source": [
    "import matplotlib.pyplot as plt\n",
    "%matplotlib inline\n",
    "\n",
    "fig_RF,ax_RF = plt.subplots(figsize=(10,4))\n",
    "ax_RF.set_title(\"Mean Absolute Error with Number of Estimators of a Random Forest\")\n",
    "ax_RF.set_xlabel(\"Number of Estimators\")\n",
    "ax_RF.set_ylabel(\"Mean Absolute Error\")\n",
    "plt.plot(list(scores.keys()),list(scores.values()))"
   ]
  },
  {
   "cell_type": "code",
   "execution_count": 27,
   "metadata": {},
   "outputs": [
    {
     "name": "stdout",
     "output_type": "stream",
     "text": [
      "Best Number of Estimators:150\n"
     ]
    }
   ],
   "source": [
    "best_n_estimators = 0\n",
    "\n",
    "for n_estimators,score in scores.items():\n",
    "    if score == min(scores.values()):\n",
    "        best_n_estimators = n_estimators\n",
    "        print(f\"Best Number of Estimators:{n_estimators}\")"
   ]
  },
  {
   "cell_type": "code",
   "execution_count": 28,
   "metadata": {},
   "outputs": [
    {
     "name": "stdout",
     "output_type": "stream",
     "text": [
      "Mean Absolute Error:0.16304347826086957\n"
     ]
    }
   ],
   "source": [
    "extra_classifier = ExtraTreesClassifier(n_estimators=530,random_state=2019)\n",
    "extra_classifier = extra_classifier.fit(X_train,y_train)\n",
    "extra_classifier_prediction = extra_classifier.predict(X_test)\n",
    "extra_mae = mean_absolute_error(extra_classifier_prediction,y_test)\n",
    "print(f\"Mean Absolute Error:{extra_mae}\")"
   ]
  },
  {
   "cell_type": "code",
   "execution_count": null,
   "metadata": {},
   "outputs": [],
   "source": []
  },
  {
   "cell_type": "markdown",
   "metadata": {},
   "source": [
    "### Ensemble"
   ]
  },
  {
   "cell_type": "markdown",
   "metadata": {},
   "source": [
    "**K-Nearest Neighbors**"
   ]
  },
  {
   "cell_type": "code",
   "execution_count": 29,
   "metadata": {},
   "outputs": [
    {
     "name": "stdout",
     "output_type": "stream",
     "text": [
      "Fitting 3 folds for each of 10 candidates, totalling 30 fits\n"
     ]
    },
    {
     "name": "stderr",
     "output_type": "stream",
     "text": [
      "[Parallel(n_jobs=-1)]: Using backend LokyBackend with 4 concurrent workers.\n",
      "[Parallel(n_jobs=-1)]: Done  30 out of  30 | elapsed:    2.1s finished\n"
     ]
    },
    {
     "data": {
      "text/plain": [
       "RandomizedSearchCV(cv=3, error_score='raise-deprecating',\n",
       "                   estimator=KNeighborsClassifier(algorithm='auto',\n",
       "                                                  leaf_size=30,\n",
       "                                                  metric='minkowski',\n",
       "                                                  metric_params=None,\n",
       "                                                  n_jobs=None, n_neighbors=5,\n",
       "                                                  p=2, weights='uniform'),\n",
       "                   iid='warn', n_iter=10, n_jobs=-1,\n",
       "                   param_distributions={'n_neighbors': <scipy.stats._distn_infrastructure.rv_frozen object at 0x0000028CB56C7E48>,\n",
       "                                        'weights': ['uniform', 'distance']},\n",
       "                   pre_dispatch='2*n_jobs', random_state=None, refit=True,\n",
       "                   return_train_score=False, scoring=None, verbose=1)"
      ]
     },
     "execution_count": 29,
     "metadata": {},
     "output_type": "execute_result"
    }
   ],
   "source": [
    "from sklearn.model_selection import GridSearchCV\n",
    "from sklearn.model_selection import RandomizedSearchCV\n",
    "import scipy.stats as st\n",
    "from sklearn.neighbors import KNeighborsClassifier\n",
    "\n",
    "param_grid = {\"n_neighbors\":st.randint(1,40),\n",
    "                         \"weights\":[\"uniform\",\"distance\"]}\n",
    "\n",
    "KN_model = KNeighborsClassifier()\n",
    "KN_grid = RandomizedSearchCV(KN_model,param_grid,verbose=1,n_jobs=-1,cv=3)\n",
    "KN_grid.fit(X_train,y_train)"
   ]
  },
  {
   "cell_type": "code",
   "execution_count": 50,
   "metadata": {},
   "outputs": [
    {
     "name": "stdout",
     "output_type": "stream",
     "text": [
      "{'n_neighbors': 32, 'weights': 'distance'}\n"
     ]
    }
   ],
   "source": [
    "print(KN_grid.best_params_)"
   ]
  },
  {
   "cell_type": "code",
   "execution_count": 51,
   "metadata": {},
   "outputs": [
    {
     "name": "stdout",
     "output_type": "stream",
     "text": [
      "Mean Absolute Error:0.5441176470588235\n"
     ]
    }
   ],
   "source": [
    "KN_model = KNeighborsClassifier(n_neighbors=30,weights=\"distance\")\n",
    "KN_model.fit(X_train,y_train)\n",
    "KN_predictions = KN_model.predict(X_test)\n",
    "KN_mae = mean_absolute_error(KN_predictions,y_test)\n",
    "\n",
    "print(f\"Mean Absolute Error:{KN_mae}\")"
   ]
  },
  {
   "cell_type": "markdown",
   "metadata": {},
   "source": [
    "**Logistic Regression**"
   ]
  },
  {
   "cell_type": "code",
   "execution_count": 41,
   "metadata": {},
   "outputs": [
    {
     "name": "stdout",
     "output_type": "stream",
     "text": [
      "Mean Absolute Error:0.5970588235294118\n"
     ]
    }
   ],
   "source": [
    "from sklearn.linear_model import LogisticRegression\n",
    "\n",
    "logistic_regression = LogisticRegression()\n",
    "logistic_regression.fit(X_train,y_train)\n",
    "logistic_prediction = logistic_regression.predict(X_test)\n",
    "logistic_mae = mean_absolute_error(logistic_prediction,y_test)\n",
    "print(f\"Mean Absolute Error:{logistic_mae}\")"
   ]
  },
  {
   "cell_type": "markdown",
   "metadata": {},
   "source": [
    "**LinearRegression**"
   ]
  },
  {
   "cell_type": "code",
   "execution_count": 53,
   "metadata": {},
   "outputs": [
    {
     "name": "stdout",
     "output_type": "stream",
     "text": [
      "Mean Absolute Error:0.6353137915187634\n"
     ]
    }
   ],
   "source": [
    "from sklearn.linear_model import LinearRegression\n",
    "\n",
    "lin_regression = LinearRegression()\n",
    "lin_regression.fit(X_train,y_train)\n",
    "lin_prediction = lin_regression.predict(X_test)\n",
    "lin_mae = mean_absolute_error(lin_prediction,y_test)\n",
    "print(f\"Mean Absolute Error:{lin_mae}\")"
   ]
  },
  {
   "cell_type": "markdown",
   "metadata": {},
   "source": [
    "**ElasticNet**"
   ]
  },
  {
   "cell_type": "code",
   "execution_count": 54,
   "metadata": {},
   "outputs": [
    {
     "name": "stdout",
     "output_type": "stream",
     "text": [
      "Mean Absolute Error:0.698948525093073\n"
     ]
    }
   ],
   "source": [
    "from sklearn.linear_model import ElasticNet\n",
    "\n",
    "ela_regression = ElasticNet()\n",
    "ela_regression.fit(X_train,y_train)\n",
    "els_prediction = ela_regression.predict(X_test)\n",
    "ela_mae = mean_absolute_error(els_prediction,y_test)\n",
    "print(f\"Mean Absolute Error:{ela_mae}\")"
   ]
  },
  {
   "cell_type": "markdown",
   "metadata": {},
   "source": [
    "**PolynomialFeatures**"
   ]
  },
  {
   "cell_type": "code",
   "execution_count": 12,
   "metadata": {},
   "outputs": [],
   "source": [
    "from sklearn.preprocessing import PolynomialFeatures\n",
    "from sklearn.linear_model import LinearRegression\n",
    "\n",
    "poly_features = PolynomialFeatures(degree=5,include_bias=False)\n",
    "\n",
    "X_train_poly = poly_features.fit_transform(X_train)\n",
    "X_test_poly = poly_features.transform(X_test)"
   ]
  },
  {
   "cell_type": "code",
   "execution_count": 16,
   "metadata": {},
   "outputs": [
    {
     "name": "stdout",
     "output_type": "stream",
     "text": [
      "Mean Absolute Error:19.971436771294478\n"
     ]
    }
   ],
   "source": [
    "poly_reg = LinearRegression()\n",
    "poly_reg.fit(X_train_poly,y_train)\n",
    "poly_reg_prediction = poly_reg.predict(X_test_poly)\n",
    "poly_reg_mae = mean_absolute_error(poly_reg_prediction,y_test)\n",
    "print(f\"Mean Absolute Error:{poly_reg_mae}\")"
   ]
  },
  {
   "cell_type": "markdown",
   "metadata": {},
   "source": [
    "**SVM**"
   ]
  },
  {
   "cell_type": "code",
   "execution_count": 24,
   "metadata": {},
   "outputs": [
    {
     "name": "stdout",
     "output_type": "stream",
     "text": [
      "Fitting 3 folds for each of 40 candidates, totalling 120 fits\n"
     ]
    },
    {
     "name": "stderr",
     "output_type": "stream",
     "text": [
      "[Parallel(n_jobs=-1)]: Using backend LokyBackend with 4 concurrent workers.\n",
      "[Parallel(n_jobs=-1)]: Done  42 tasks      | elapsed:  1.1min\n",
      "[Parallel(n_jobs=-1)]: Done 120 out of 120 | elapsed:  3.1min finished\n",
      "D:\\software\\Anaconda\\anaconda\\envs\\tensorflow\\lib\\site-packages\\sklearn\\model_selection\\_search.py:814: DeprecationWarning: The default of the `iid` parameter will change from True to False in version 0.22 and will be removed in 0.24. This will change numeric results when test-set sizes are unequal.\n",
      "  DeprecationWarning)\n"
     ]
    },
    {
     "data": {
      "text/plain": [
       "GridSearchCV(cv=3, error_score='raise-deprecating',\n",
       "             estimator=SVC(C=1.0, cache_size=200, class_weight=None, coef0=0.0,\n",
       "                           decision_function_shape='ovr', degree=3,\n",
       "                           gamma='auto_deprecated', kernel='linear',\n",
       "                           max_iter=-1, probability=False, random_state=2019,\n",
       "                           shrinking=True, tol=0.001, verbose=False),\n",
       "             iid='warn', n_jobs=-1,\n",
       "             param_grid={'C': [0.001, 0.01, 0.1, 1, 10, 100, 200, 300, 400,\n",
       "                               500],\n",
       "                         'class_weight': ['balanced', None],\n",
       "                         'kernel': ['linear', 'rbf']},\n",
       "             pre_dispatch='2*n_jobs', refit=True, return_train_score=False,\n",
       "             scoring='neg_mean_absolute_error', verbose=1)"
      ]
     },
     "execution_count": 24,
     "metadata": {},
     "output_type": "execute_result"
    }
   ],
   "source": [
    "from sklearn.svm import SVC\n",
    "\n",
    "param_grid = {\"C\":[0.001,0.01,0.1,1,10,100,200,300,400,500],\n",
    "                         \"kernel\":[\"linear\",\"rbf\"],\n",
    "                         \"class_weight\":[\"balanced\",None]}\n",
    "\n",
    "SVM_model = SVC(random_state=2019,kernel=\"linear\")\n",
    "SVM_grid = GridSearchCV(SVM_model,param_grid,verbose=1,n_jobs=-1,cv=3,scoring=\"neg_mean_absolute_error\")\n",
    "SVM_grid.fit(X_train,y_train)"
   ]
  },
  {
   "cell_type": "code",
   "execution_count": 25,
   "metadata": {},
   "outputs": [
    {
     "data": {
      "text/plain": [
       "{'C': 500, 'class_weight': None, 'kernel': 'rbf'}"
      ]
     },
     "execution_count": 25,
     "metadata": {},
     "output_type": "execute_result"
    }
   ],
   "source": [
    "SVM_grid.best_params_"
   ]
  },
  {
   "cell_type": "code",
   "execution_count": 26,
   "metadata": {},
   "outputs": [
    {
     "name": "stdout",
     "output_type": "stream",
     "text": [
      "Mean Absolute Error:0.5676470588235294\n"
     ]
    }
   ],
   "source": [
    "svm_model = SVC(kernel=\"rbf\",C=500,random_state=2019,class_weight=None)\n",
    "svm_model.fit(X_train,y_train)\n",
    "svm_predictions = svm_model.predict(X_test)\n",
    "svm_mae = mean_absolute_error(svm_predictions,y_test)\n",
    "print(f\"Mean Absolute Error:{svm_mae}\")"
   ]
  },
  {
   "cell_type": "markdown",
   "metadata": {},
   "source": [
    "**BaggingClassifier**"
   ]
  },
  {
   "cell_type": "code",
   "execution_count": 27,
   "metadata": {},
   "outputs": [],
   "source": [
    "from sklearn.ensemble import BaggingClassifier"
   ]
  },
  {
   "cell_type": "code",
   "execution_count": 28,
   "metadata": {},
   "outputs": [],
   "source": [
    "scores = {}\n",
    "\n",
    "for n_estimators in range(10,500,10):\n",
    "    BC_model = BaggingClassifier(n_estimators=n_estimators,random_state=2019)\n",
    "    BC_model.fit(X_train,y_train)\n",
    "    BC_predictions = BC_model.predict(X_test)\n",
    "    BC_mae = mean_absolute_error(BC_predictions,y_test)\n",
    "    scores[n_estimators] = BC_mae"
   ]
  },
  {
   "cell_type": "code",
   "execution_count": 29,
   "metadata": {},
   "outputs": [
    {
     "data": {
      "text/plain": [
       "[<matplotlib.lines.Line2D at 0x231e6b0df48>]"
      ]
     },
     "execution_count": 29,
     "metadata": {},
     "output_type": "execute_result"
    },
    {
     "data": {
      "image/png": "[encoded data removed]",
      "text/plain": [
       "<Figure size 720x288 with 1 Axes>"
      ]
     },
     "metadata": {
      "needs_background": "light"
     },
     "output_type": "display_data"
    }
   ],
   "source": [
    "import matplotlib.pyplot as plt\n",
    "%matplotlib inline\n",
    "\n",
    "fig_RF,ax_RF = plt.subplots(figsize=(10,4))\n",
    "ax_RF.set_title(\"Mean Absolute Error with Number of Estimators of a Random Forest\")\n",
    "ax_RF.set_xlabel(\"Number of Estimators\")\n",
    "ax_RF.set_ylabel(\"Mean Absolute Error\")\n",
    "plt.plot(list(scores.keys()),list(scores.values()))"
   ]
  },
  {
   "cell_type": "code",
   "execution_count": 30,
   "metadata": {},
   "outputs": [
    {
     "name": "stdout",
     "output_type": "stream",
     "text": [
      "Best Number of Estimators:420\n"
     ]
    }
   ],
   "source": [
    "best_n_estimators = 0\n",
    "\n",
    "for n_estimators,score in scores.items():\n",
    "    if score == min(scores.values()):\n",
    "        best_n_estimators = n_estimators\n",
    "        print(f\"Best Number of Estimators:{n_estimators}\")"
   ]
  },
  {
   "cell_type": "code",
   "execution_count": 31,
   "metadata": {},
   "outputs": [
    {
     "name": "stdout",
     "output_type": "stream",
     "text": [
      "Mean Absolute Error:0.40147058823529413\n"
     ]
    }
   ],
   "source": [
    "bagging_classifier = BaggingClassifier(n_estimators=best_n_estimators,random_state=2019)\n",
    "bagging_classifier = bagging_classifier.fit(X_train,y_train)\n",
    "bagging_classifier_prediction = bagging_classifier.predict(X_test)\n",
    "bagging_mae = mean_absolute_error(bagging_classifier_prediction,y_test)\n",
    "print(f\"Mean Absolute Error:{bagging_mae}\")"
   ]
  },
  {
   "cell_type": "markdown",
   "metadata": {},
   "source": [
    "**Stochastic Gradient Descent**"
   ]
  },
  {
   "cell_type": "code",
   "execution_count": 25,
   "metadata": {},
   "outputs": [
    {
     "name": "stdout",
     "output_type": "stream",
     "text": [
      "Fitting 3 folds for each of 5 candidates, totalling 15 fits\n"
     ]
    },
    {
     "name": "stderr",
     "output_type": "stream",
     "text": [
      "[Parallel(n_jobs=-1)]: Using backend LokyBackend with 4 concurrent workers.\n",
      "[Parallel(n_jobs=-1)]: Done  15 out of  15 | elapsed:    1.9s finished\n",
      "D:\\software\\Anaconda\\anaconda\\envs\\tensorflow\\lib\\site-packages\\sklearn\\model_selection\\_search.py:814: DeprecationWarning: The default of the `iid` parameter will change from True to False in version 0.22 and will be removed in 0.24. This will change numeric results when test-set sizes are unequal.\n",
      "  DeprecationWarning)\n"
     ]
    },
    {
     "data": {
      "text/plain": [
       "GridSearchCV(cv=3, error_score='raise-deprecating',\n",
       "             estimator=SGDClassifier(alpha=0.0001, average=False,\n",
       "                                     class_weight=None, early_stopping=False,\n",
       "                                     epsilon=0.1, eta0=0.0, fit_intercept=True,\n",
       "                                     l1_ratio=0.15, learning_rate='optimal',\n",
       "                                     loss='hinge', max_iter=5,\n",
       "                                     n_iter_no_change=5, n_jobs=None,\n",
       "                                     penalty='l2', power_t=0.5,\n",
       "                                     random_state=None, shuffle=True, tol=None,\n",
       "                                     validation_fraction=0.1, verbose=0,\n",
       "                                     warm_start=False),\n",
       "             iid='warn', n_jobs=-1,\n",
       "             param_grid={'loss': ['hinge', 'log', 'modified_huber',\n",
       "                                  'epsilon_insensitive',\n",
       "                                  'squared_epsilon_insensitive']},\n",
       "             pre_dispatch='2*n_jobs', refit=True, return_train_score=False,\n",
       "             scoring=None, verbose=1)"
      ]
     },
     "execution_count": 25,
     "metadata": {},
     "output_type": "execute_result"
    }
   ],
   "source": [
    "from sklearn.model_selection import GridSearchCV\n",
    "from sklearn.linear_model import SGDClassifier\n",
    "\n",
    "param_grid = {\"loss\":[\"hinge\",\"log\",\"modified_huber\",\"epsilon_insensitive\",\"squared_epsilon_insensitive\"]}\n",
    "\n",
    "SGD_model =SGDClassifier(max_iter=5,tol=None)\n",
    "SGD_grid = GridSearchCV(SGD_model,param_grid,verbose=1,n_jobs=-1,cv=3)\n",
    "SGD_grid.fit(X_train,y_train)"
   ]
  },
  {
   "cell_type": "code",
   "execution_count": 26,
   "metadata": {},
   "outputs": [
    {
     "name": "stdout",
     "output_type": "stream",
     "text": [
      "{'loss': 'modified_huber'}\n"
     ]
    }
   ],
   "source": [
    "print(SGD_grid.best_params_)"
   ]
  },
  {
   "cell_type": "code",
   "execution_count": 27,
   "metadata": {},
   "outputs": [
    {
     "name": "stdout",
     "output_type": "stream",
     "text": [
      "Mean Absolute Error:0.9308823529411765\n"
     ]
    }
   ],
   "source": [
    "SGD_model =SGDClassifier(max_iter=5,loss=\"log\",tol=None)\n",
    "SGD_model.fit(X_train,y_train)\n",
    "SGD_predictions = SGD_model.predict(X_test)\n",
    "SGD_mae = mean_absolute_error(SGD_predictions,y_test)\n",
    "\n",
    "print(f\"Mean Absolute Error:{SGD_mae}\")"
   ]
  },
  {
   "cell_type": "markdown",
   "metadata": {},
   "source": [
    "**AdaBoost Classifier**"
   ]
  },
  {
   "cell_type": "code",
   "execution_count": 14,
   "metadata": {},
   "outputs": [],
   "source": [
    "from sklearn.ensemble import AdaBoostClassifier\n",
    "\n",
    "scores = {}\n",
    "\n",
    "for n_estimators in range(10,600,10):\n",
    "    Adaboost_model = AdaBoostClassifier(n_estimators=n_estimators,random_state=2019)\n",
    "    Adaboost_model.fit(X_train,y_train)\n",
    "    Adaboost_predictions = Adaboost_model.predict(X_test)\n",
    "    Adaboost_mae = mean_absolute_error(Adaboost_predictions,y_test)\n",
    "    scores[n_estimators] = Adaboost_mae"
   ]
  },
  {
   "cell_type": "code",
   "execution_count": 15,
   "metadata": {},
   "outputs": [
    {
     "data": {
      "text/plain": [
       "[<matplotlib.lines.Line2D at 0x1ff63cc1148>]"
      ]
     },
     "execution_count": 15,
     "metadata": {},
     "output_type": "execute_result"
    },
    {
     "data": {
      "image/png": "[encoded data removed]",
      "text/plain": [
       "<Figure size 720x288 with 1 Axes>"
      ]
     },
     "metadata": {
      "needs_background": "light"
     },
     "output_type": "display_data"
    }
   ],
   "source": [
    "import matplotlib.pyplot as plt\n",
    "%matplotlib inline\n",
    "\n",
    "fig_RF,ax_RF = plt.subplots(figsize=(10,4))\n",
    "ax_RF.set_title(\"Mean Absolute Error with Number of Estimators of a Random Forest\")\n",
    "ax_RF.set_xlabel(\"Number of Estimators\")\n",
    "ax_RF.set_ylabel(\"Mean Absolute Error\")\n",
    "plt.plot(list(scores.keys()),list(scores.values()))"
   ]
  },
  {
   "cell_type": "code",
   "execution_count": null,
   "metadata": {},
   "outputs": [],
   "source": [
    "best_n_estimators = 0\n",
    "\n",
    "for n_estimators,score in scores.items():\n",
    "    if score == min(scores.values()):\n",
    "        best_n_estimators = n_estimators\n",
    "        print(f\"Best Number of Estimators:{n_estimators}\")"
   ]
  },
  {
   "cell_type": "code",
   "execution_count": 30,
   "metadata": {},
   "outputs": [
    {
     "name": "stdout",
     "output_type": "stream",
     "text": [
      "Fitting 3 folds for each of 10 candidates, totalling 30 fits\n"
     ]
    },
    {
     "name": "stderr",
     "output_type": "stream",
     "text": [
      "[Parallel(n_jobs=-1)]: Using backend LokyBackend with 4 concurrent workers.\n",
      "[Parallel(n_jobs=-1)]: Done  30 out of  30 | elapsed:    7.9s finished\n",
      "D:\\software\\Anaconda\\anaconda\\envs\\tensorflow\\lib\\site-packages\\sklearn\\model_selection\\_search.py:814: DeprecationWarning: The default of the `iid` parameter will change from True to False in version 0.22 and will be removed in 0.24. This will change numeric results when test-set sizes are unequal.\n",
      "  DeprecationWarning)\n"
     ]
    },
    {
     "data": {
      "text/plain": [
       "RandomizedSearchCV(cv=3, error_score='raise-deprecating',\n",
       "                   estimator=AdaBoostClassifier(algorithm='SAMME.R',\n",
       "                                                base_estimator=None,\n",
       "                                                learning_rate=1.0,\n",
       "                                                n_estimators=50,\n",
       "                                                random_state=None),\n",
       "                   iid='warn', n_iter=10, n_jobs=-1,\n",
       "                   param_distributions={'learning_rate': array([1]),\n",
       "                                        'n_estimators': <scipy.stats._distn_infrastructure.rv_frozen object at 0x0000028CB56C7B48>},\n",
       "                   pre_dispatch='2*n_jobs', random_state=None, refit=True,\n",
       "                   return_train_score=False, scoring=None, verbose=1)"
      ]
     },
     "execution_count": 30,
     "metadata": {},
     "output_type": "execute_result"
    }
   ],
   "source": [
    "param_grid = {\"n_estimators\":st.randint(1,500)}\n",
    "\n",
    "AB_model = AdaBoostClassifier()\n",
    "AB_grid = RandomizedSearchCV(AB_model,param_grid,verbose=1,n_jobs=-1,cv=3)\n",
    "AB_grid.fit(X_train,y_train)"
   ]
  },
  {
   "cell_type": "code",
   "execution_count": 31,
   "metadata": {},
   "outputs": [
    {
     "data": {
      "text/plain": [
       "{'learning_rate': 1, 'n_estimators': 197}"
      ]
     },
     "execution_count": 31,
     "metadata": {},
     "output_type": "execute_result"
    }
   ],
   "source": [
    "AB_grid.best_params_"
   ]
  },
  {
   "cell_type": "code",
   "execution_count": 32,
   "metadata": {},
   "outputs": [
    {
     "name": "stdout",
     "output_type": "stream",
     "text": [
      "Mean Absolute Error:0.6823529411764706\n"
     ]
    }
   ],
   "source": [
    "AB_model = AdaBoostClassifier(n_estimators=2,learning_rate=1)\n",
    "AB_model.fit(X_train,y_train)\n",
    "AB_predictions = AB_model.predict(X_test)\n",
    "AB_mae = mean_absolute_error(AB_predictions,y_test)\n",
    "\n",
    "print(f\"Mean Absolute Error:{AB_mae}\")"
   ]
  },
  {
   "cell_type": "markdown",
   "metadata": {},
   "source": [
    "**Gradient Boosting Classifier**"
   ]
  },
  {
   "cell_type": "code",
   "execution_count": 17,
   "metadata": {},
   "outputs": [],
   "source": [
    "from sklearn.ensemble import GradientBoostingClassifier"
   ]
  },
  {
   "cell_type": "code",
   "execution_count": 19,
   "metadata": {},
   "outputs": [],
   "source": [
    "scores = {}\n",
    "\n",
    "for n_estimators in range(100,600,10):\n",
    "    gb_model = GradientBoostingClassifier(n_estimators=n_estimators,random_state=2019)\n",
    "    gb_model.fit(X_train,y_train)\n",
    "    gb_predictions = gb_model.predict(X_test)\n",
    "    gb_mae = mean_absolute_error(gb_predictions,y_test)\n",
    "    scores[n_estimators] = gb_mae"
   ]
  },
  {
   "cell_type": "code",
   "execution_count": 20,
   "metadata": {},
   "outputs": [
    {
     "data": {
      "text/plain": [
       "[<matplotlib.lines.Line2D at 0x1ff63cc1a88>]"
      ]
     },
     "execution_count": 20,
     "metadata": {},
     "output_type": "execute_result"
    },
    {
     "data": {
      "image/png": "[encoded data removed]",
      "text/plain": [
       "<Figure size 720x288 with 1 Axes>"
      ]
     },
     "metadata": {
      "needs_background": "light"
     },
     "output_type": "display_data"
    }
   ],
   "source": [
    "import matplotlib.pyplot as plt\n",
    "%matplotlib inline\n",
    "\n",
    "fig_RF,ax_RF = plt.subplots(figsize=(10,4))\n",
    "ax_RF.set_title(\"Mean Absolute Error with Number of Estimators of a Random Forest\")\n",
    "ax_RF.set_xlabel(\"Number of Estimators\")\n",
    "ax_RF.set_ylabel(\"Mean Absolute Error\")\n",
    "plt.plot(list(scores.keys()),list(scores.values()))"
   ]
  },
  {
   "cell_type": "code",
   "execution_count": 21,
   "metadata": {},
   "outputs": [
    {
     "name": "stdout",
     "output_type": "stream",
     "text": [
      "Best Number of Estimators:300\n"
     ]
    }
   ],
   "source": [
    "best_n_estimators = 0\n",
    "\n",
    "for n_estimators,score in scores.items():\n",
    "    if score == min(scores.values()):\n",
    "        best_n_estimators = n_estimators\n",
    "        print(f\"Best Number of Estimators:{n_estimators}\")"
   ]
  },
  {
   "cell_type": "code",
   "execution_count": 22,
   "metadata": {},
   "outputs": [
    {
     "name": "stdout",
     "output_type": "stream",
     "text": [
      "Mean Absolute Error:0.425\n"
     ]
    }
   ],
   "source": [
    "gradient_boosting_classifier = GradientBoostingClassifier(n_estimators=600)\n",
    "gradient_boosting_classifier = gradient_boosting_classifier.fit(X_train,y_train)\n",
    "gradient_boosting_classifier_prediction = gradient_boosting_classifier.predict(X_test)\n",
    "gradient_boosting_mae = mean_absolute_error(gradient_boosting_classifier_prediction,y_test)\n",
    "print(f\"Mean Absolute Error:{gradient_boosting_mae}\")"
   ]
  },
  {
   "cell_type": "markdown",
   "metadata": {},
   "source": [
    "**XGBoost Classifier**"
   ]
  },
  {
   "cell_type": "code",
   "execution_count": 23,
   "metadata": {},
   "outputs": [],
   "source": [
    "from xgboost.sklearn import XGBClassifier\n",
    "\n",
    "scores = {}\n",
    "\n",
    "for n_estimators in range(100,1000,10):\n",
    "    xgb_model = XGBClassifier(n_estimators=n_estimators,random_state=2019)\n",
    "    xgb_model.fit(X_train,y_train)\n",
    "    xgb_predictions = xgb_model.predict(X_test)\n",
    "    xgb_mae = mean_absolute_error(xgb_predictions,y_test)\n",
    "    scores[n_estimators] = xgb_mae"
   ]
  },
  {
   "cell_type": "code",
   "execution_count": 24,
   "metadata": {},
   "outputs": [
    {
     "data": {
      "text/plain": [
       "[<matplotlib.lines.Line2D at 0x1ff63efde88>]"
      ]
     },
     "execution_count": 24,
     "metadata": {},
     "output_type": "execute_result"
    },
    {
     "data": {
      "image/png": "[encoded data removed]",
      "text/plain": [
       "<Figure size 720x288 with 1 Axes>"
      ]
     },
     "metadata": {
      "needs_background": "light"
     },
     "output_type": "display_data"
    }
   ],
   "source": [
    "import matplotlib.pyplot as plt\n",
    "%matplotlib inline\n",
    "\n",
    "fig_RF,ax_RF = plt.subplots(figsize=(10,4))\n",
    "ax_RF.set_title(\"Mean Absolute Error with Number of Estimators of a Random Forest\")\n",
    "ax_RF.set_xlabel(\"Number of Estimators\")\n",
    "ax_RF.set_ylabel(\"Mean Absolute Error\")\n",
    "plt.plot(list(scores.keys()),list(scores.values()))"
   ]
  },
  {
   "cell_type": "code",
   "execution_count": 25,
   "metadata": {},
   "outputs": [
    {
     "name": "stdout",
     "output_type": "stream",
     "text": [
      "Best Number of Estimators:980\n"
     ]
    }
   ],
   "source": [
    "best_n_estimators = 0\n",
    "\n",
    "for n_estimators,score in scores.items():\n",
    "    if score == min(scores.values()):\n",
    "        best_n_estimators = n_estimators\n",
    "        print(f\"Best Number of Estimators:{n_estimators}\")"
   ]
  },
  {
   "cell_type": "code",
   "execution_count": 26,
   "metadata": {},
   "outputs": [
    {
     "name": "stdout",
     "output_type": "stream",
     "text": [
      "Mean Absolute Error:0.4235294117647059\n"
     ]
    }
   ],
   "source": [
    "xgb_classifier = XGBClassifier(n_estimators=best_n_estimators)\n",
    "xgb_classifier.fit(X_train,y_train)\n",
    "xgb_classifier_prediction = xgb_classifier.predict(X_test)\n",
    "xgb_mae = mean_absolute_error(xgb_classifier_prediction,y_test)\n",
    "print(f\"Mean Absolute Error:{xgb_mae}\")"
   ]
  },
  {
   "cell_type": "markdown",
   "metadata": {},
   "source": [
    "**LightGMB**"
   ]
  },
  {
   "cell_type": "code",
   "execution_count": 30,
   "metadata": {},
   "outputs": [],
   "source": [
    "from lightgbm import LGBMClassifier\n",
    "\n",
    "\n",
    "scores = {}\n",
    "\n",
    "for n_estimators in range(100,1000,10):\n",
    "    lgb_model = LGBMClassifier(n_estimators=n_estimators,random_state=2019)\n",
    "    lgb_model.fit(X_train,y_train)\n",
    "    lgb_predictions = lgb_model.predict(X_test)\n",
    "    lgb_mae = mean_absolute_error(lgb_predictions,y_test)\n",
    "    scores[n_estimators] = lgb_mae"
   ]
  },
  {
   "cell_type": "code",
   "execution_count": 31,
   "metadata": {},
   "outputs": [
    {
     "data": {
      "text/plain": [
       "[<matplotlib.lines.Line2D at 0x1ff74ae1748>]"
      ]
     },
     "execution_count": 31,
     "metadata": {},
     "output_type": "execute_result"
    },
    {
     "data": {
      "image/png": "[encoded data removed]",
      "text/plain": [
       "<Figure size 720x288 with 1 Axes>"
      ]
     },
     "metadata": {
      "needs_background": "light"
     },
     "output_type": "display_data"
    }
   ],
   "source": [
    "import matplotlib.pyplot as plt\n",
    "%matplotlib inline\n",
    "\n",
    "fig_RF,ax_RF = plt.subplots(figsize=(10,4))\n",
    "ax_RF.set_title(\"Mean Absolute Error with Number of Estimators of a Random Forest\")\n",
    "ax_RF.set_xlabel(\"Number of Estimators\")\n",
    "ax_RF.set_ylabel(\"Mean Absolute Error\")\n",
    "plt.plot(list(scores.keys()),list(scores.values()))"
   ]
  },
  {
   "cell_type": "code",
   "execution_count": 32,
   "metadata": {},
   "outputs": [
    {
     "name": "stdout",
     "output_type": "stream",
     "text": [
      "Best Number of Estimators:520\n",
      "Best Number of Estimators:570\n",
      "Best Number of Estimators:590\n",
      "Best Number of Estimators:780\n"
     ]
    }
   ],
   "source": [
    "best_n_estimators = 0\n",
    "\n",
    "for n_estimators,score in scores.items():\n",
    "    if score == min(scores.values()):\n",
    "        best_n_estimators = n_estimators\n",
    "        print(f\"Best Number of Estimators:{n_estimators}\")"
   ]
  },
  {
   "cell_type": "code",
   "execution_count": 36,
   "metadata": {},
   "outputs": [
    {
     "name": "stdout",
     "output_type": "stream",
     "text": [
      "Mean Absolute Error:0.40147058823529413\n"
     ]
    }
   ],
   "source": [
    "lgb_classifier = LGBMClassifier(n_estimators=570)\n",
    "lgb_classifier.fit(X_train,y_train)\n",
    "lgb_classifier_prediction = lgb_classifier.predict(X_test)\n",
    "lgb_mae = mean_absolute_error(lgb_classifier_prediction,y_test)\n",
    "print(f\"Mean Absolute Error:{lgb_mae}\")"
   ]
  },
  {
   "cell_type": "code",
   "execution_count": null,
   "metadata": {},
   "outputs": [],
   "source": []
  },
  {
   "cell_type": "markdown",
   "metadata": {},
   "source": [
    "**CatBoost Classifier**"
   ]
  },
  {
   "cell_type": "code",
   "execution_count": 37,
   "metadata": {},
   "outputs": [],
   "source": [
    "from catboost import CatBoostClassifier"
   ]
  },
  {
   "cell_type": "code",
   "execution_count": 38,
   "metadata": {},
   "outputs": [
    {
     "name": "stdout",
     "output_type": "stream",
     "text": [
      "Mean Absolute Error:0.46911764705882353\n"
     ]
    }
   ],
   "source": [
    "cat_classifier = CatBoostClassifier(silent=True)\n",
    "cat_classifier.fit(X_train,y_train)\n",
    "cat_classifier_prediction = cat_classifier.predict(X_test)\n",
    "cat_mae = mean_absolute_error(cat_classifier_prediction,y_test)\n",
    "print(f\"Mean Absolute Error:{cat_mae}\")"
   ]
  },
  {
   "cell_type": "markdown",
   "metadata": {},
   "source": [
    "**Voting Classifier**"
   ]
  },
  {
   "cell_type": "code",
   "execution_count": 43,
   "metadata": {},
   "outputs": [
    {
     "name": "stdout",
     "output_type": "stream",
     "text": [
      "Mean Absolute Error:0.3985294117647059\n"
     ]
    }
   ],
   "source": [
    "from sklearn.ensemble import VotingClassifier\n",
    "voting_classifier = VotingClassifier(estimators=[\n",
    "    (\"lgb_classifier\",LGBMClassifier(n_estimators=570)),\n",
    "    (\"extra_classifier\",ExtraTreesClassifier(n_estimators=70)),\n",
    "    (\"random_classifier\",RandomForestClassifier(n_estimators=160)),\n",
    "     (\"bagging_classifier\",BaggingClassifier(n_estimators=160))\n",
    "])\n",
    "voting_classifier = voting_classifier.fit(X_train,y_train)\n",
    "voting_classifier_prediction = voting_classifier.predict(X_test)\n",
    "voting_mae = mean_absolute_error(voting_classifier_prediction,y_test)\n",
    "print(f\"Mean Absolute Error:{voting_mae}\")"
   ]
  },
  {
   "cell_type": "code",
   "execution_count": null,
   "metadata": {},
   "outputs": [],
   "source": []
  },
  {
   "cell_type": "markdown",
   "metadata": {},
   "source": [
    "**MLP**"
   ]
  },
  {
   "cell_type": "code",
   "execution_count": null,
   "metadata": {},
   "outputs": [],
   "source": [
    "from sklearn.neural_network import MLPRegressor\n",
    "\n",
    "paramters = [{\"hidden_layer_sizes\":[3,5,10,100],\n",
    "                    \"alpha\":[0.1,1,10,100],\n",
    "                    \"activation\":[\"relu\",\"logistic\",\"tanh\",\"identity\"]}]\n",
    "nn = MLPRegressor(solver=\"lbfgs\",random_state=2019)\n",
    "nn = GridSearchCV(nn,paramters,n_jobs=-1,verbose=1,cv=3)\n",
    "nn.fit(X_train,y_train)"
   ]
  },
  {
   "cell_type": "code",
   "execution_count": null,
   "metadata": {},
   "outputs": [],
   "source": [
    "nn.best_params_"
   ]
  },
  {
   "cell_type": "code",
   "execution_count": null,
   "metadata": {},
   "outputs": [],
   "source": [
    "nn = MLPRegressor(solver=\"lbfgs\",random_state=2019,activation=\"tanh\",alpha=10,hidden_layer_sizes=100)\n",
    "nn.fit(X_train,y_train)\n",
    "nn_predictions = nn.predict(X_test)\n",
    "nn_mae = mean_absolute_error(nn_predictions,y_test)\n",
    "print(f\"Mean Absolute Error:{nn_mae}\")"
   ]
  },
  {
   "cell_type": "markdown",
   "metadata": {},
   "source": [
    "### DL模型"
   ]
  },
  {
   "cell_type": "code",
   "execution_count": null,
   "metadata": {},
   "outputs": [],
   "source": [
    "# 模型定义\n",
    "from keras.models import Sequential\n",
    "from keras.layers import Dense,Dropout\n",
    "\n",
    "model = Sequential()\n",
    "\n",
    "# model.add(Dense(128,activation=\"relu\"))\n",
    "# model.add(Dropout(0.2))\n",
    "# model.add(Dense(64,activation=\"relu\"))\n",
    "# model.add(Dropout(0.2))\n",
    "model.add(Dense(32,activation=\"relu\"))\n",
    "model.add(Dropout(0.2))\n",
    "model.add(Dense(16,activation=\"relu\"))\n",
    "model.add(Dropout(0.2))\n",
    "model.add(Dense(1))"
   ]
  },
  {
   "cell_type": "code",
   "execution_count": null,
   "metadata": {},
   "outputs": [],
   "source": [
    "from keras.callbacks import EarlyStopping,ReduceLROnPlateau,ModelCheckpoint,LearningRateScheduler\n",
    "\n",
    "checkpoint = ModelCheckpoint(\"dl.h5\",\n",
    "                             monitor=\"val_loss\",\n",
    "                             mode=\"min\",\n",
    "                             save_best_only = True,\n",
    "                             verbose=1)\n",
    "\n",
    "earlystop = EarlyStopping(monitor = 'val_loss', \n",
    "                          min_delta = 0, \n",
    "                          patience = 5,\n",
    "                          verbose = 1,\n",
    "                          restore_best_weights = True)\n",
    "\n",
    "reduce_lr = ReduceLROnPlateau(monitor = 'val_loss',\n",
    "                              factor = 0.2,\n",
    "                              patience = 3,\n",
    "                              verbose = 1)\n",
    "                              #min_delta = 0.00001)\n",
    "\n",
    "callbacks = [earlystop, checkpoint, reduce_lr]"
   ]
  },
  {
   "cell_type": "code",
   "execution_count": null,
   "metadata": {},
   "outputs": [],
   "source": [
    "# 模型编译\n",
    "model.compile(loss=\"mae\",optimizer=\"adam\",metrics=[\"mae\"])"
   ]
  },
  {
   "cell_type": "code",
   "execution_count": null,
   "metadata": {},
   "outputs": [],
   "source": [
    "# 模型训练\n",
    "model.fit(X_train,y_train,epochs=100,batch_size=1,verbose=1,validation_data=(X_test,y_test),callbacks=callbacks)"
   ]
  },
  {
   "cell_type": "markdown",
   "metadata": {},
   "source": [
    "### 预测"
   ]
  },
  {
   "cell_type": "code",
   "execution_count": 33,
   "metadata": {},
   "outputs": [
    {
     "data": {
      "text/plain": [
       "RandomForestClassifier(bootstrap=True, class_weight=None, criterion='gini',\n",
       "                       max_depth=None, max_features='auto', max_leaf_nodes=None,\n",
       "                       min_impurity_decrease=0.0, min_impurity_split=None,\n",
       "                       min_samples_leaf=1, min_samples_split=2,\n",
       "                       min_weight_fraction_leaf=0.0, n_estimators=100,\n",
       "                       n_jobs=None, oob_score=False, random_state=None,\n",
       "                       verbose=0, warm_start=False)"
      ]
     },
     "execution_count": 33,
     "metadata": {},
     "output_type": "execute_result"
    }
   ],
   "source": [
    "\n",
    "RF_model = RandomForestClassifier(n_estimators=100)\n",
    "RF_model.fit(X,y)"
   ]
  },
  {
   "cell_type": "code",
   "execution_count": 25,
   "metadata": {},
   "outputs": [
    {
     "data": {
      "text/plain": [
       "ExtraTreesClassifier(bootstrap=False, class_weight=None, criterion='gini',\n",
       "                     max_depth=None, max_features='auto', max_leaf_nodes=None,\n",
       "                     min_impurity_decrease=0.0, min_impurity_split=None,\n",
       "                     min_samples_leaf=1, min_samples_split=2,\n",
       "                     min_weight_fraction_leaf=0.0, n_estimators=680,\n",
       "                     n_jobs=None, oob_score=False, random_state=None, verbose=0,\n",
       "                     warm_start=False)"
      ]
     },
     "execution_count": 25,
     "metadata": {},
     "output_type": "execute_result"
    }
   ],
   "source": [
    "extra_model = ExtraTreesClassifier(n_estimators=680)\n",
    "extra_model.fit(X,y)"
   ]
  },
  {
   "cell_type": "code",
   "execution_count": 22,
   "metadata": {},
   "outputs": [],
   "source": [
    "predict_df = pd.read_csv(\"winequality_dataset/test.csv\",header=None)"
   ]
  },
  {
   "cell_type": "code",
   "execution_count": 23,
   "metadata": {},
   "outputs": [
    {
     "data": {
      "text/html": [
       "<div>\n",
       "<style scoped>\n",
       "    .dataframe tbody tr th:only-of-type {\n",
       "        vertical-align: middle;\n",
       "    }\n",
       "\n",
       "    .dataframe tbody tr th {\n",
       "        vertical-align: top;\n",
       "    }\n",
       "\n",
       "    .dataframe thead th {\n",
       "        text-align: right;\n",
       "    }\n",
       "</style>\n",
       "<table border=\"1\" class=\"dataframe\">\n",
       "  <thead>\n",
       "    <tr style=\"text-align: right;\">\n",
       "      <th></th>\n",
       "      <th>0</th>\n",
       "      <th>1</th>\n",
       "      <th>2</th>\n",
       "      <th>3</th>\n",
       "      <th>4</th>\n",
       "      <th>5</th>\n",
       "      <th>6</th>\n",
       "      <th>7</th>\n",
       "      <th>8</th>\n",
       "      <th>9</th>\n",
       "      <th>10</th>\n",
       "    </tr>\n",
       "  </thead>\n",
       "  <tbody>\n",
       "    <tr>\n",
       "      <th>0</th>\n",
       "      <td>8.9</td>\n",
       "      <td>0.300</td>\n",
       "      <td>0.35</td>\n",
       "      <td>4.60</td>\n",
       "      <td>0.032</td>\n",
       "      <td>32.0</td>\n",
       "      <td>148.0</td>\n",
       "      <td>0.99458</td>\n",
       "      <td>3.15</td>\n",
       "      <td>0.45</td>\n",
       "      <td>11.5</td>\n",
       "    </tr>\n",
       "    <tr>\n",
       "      <th>1</th>\n",
       "      <td>6.9</td>\n",
       "      <td>0.310</td>\n",
       "      <td>0.32</td>\n",
       "      <td>1.20</td>\n",
       "      <td>0.024</td>\n",
       "      <td>20.0</td>\n",
       "      <td>166.0</td>\n",
       "      <td>0.99208</td>\n",
       "      <td>3.05</td>\n",
       "      <td>0.54</td>\n",
       "      <td>9.8</td>\n",
       "    </tr>\n",
       "    <tr>\n",
       "      <th>2</th>\n",
       "      <td>6.3</td>\n",
       "      <td>0.190</td>\n",
       "      <td>0.29</td>\n",
       "      <td>2.00</td>\n",
       "      <td>0.022</td>\n",
       "      <td>33.0</td>\n",
       "      <td>96.0</td>\n",
       "      <td>0.98902</td>\n",
       "      <td>3.04</td>\n",
       "      <td>0.54</td>\n",
       "      <td>12.8</td>\n",
       "    </tr>\n",
       "    <tr>\n",
       "      <th>3</th>\n",
       "      <td>8.4</td>\n",
       "      <td>0.310</td>\n",
       "      <td>0.31</td>\n",
       "      <td>0.95</td>\n",
       "      <td>0.021</td>\n",
       "      <td>52.0</td>\n",
       "      <td>148.0</td>\n",
       "      <td>0.99038</td>\n",
       "      <td>2.93</td>\n",
       "      <td>0.32</td>\n",
       "      <td>11.5</td>\n",
       "    </tr>\n",
       "    <tr>\n",
       "      <th>4</th>\n",
       "      <td>7.0</td>\n",
       "      <td>0.240</td>\n",
       "      <td>0.24</td>\n",
       "      <td>1.80</td>\n",
       "      <td>0.047</td>\n",
       "      <td>29.0</td>\n",
       "      <td>91.0</td>\n",
       "      <td>0.99251</td>\n",
       "      <td>3.30</td>\n",
       "      <td>0.43</td>\n",
       "      <td>9.9</td>\n",
       "    </tr>\n",
       "    <tr>\n",
       "      <th>...</th>\n",
       "      <td>...</td>\n",
       "      <td>...</td>\n",
       "      <td>...</td>\n",
       "      <td>...</td>\n",
       "      <td>...</td>\n",
       "      <td>...</td>\n",
       "      <td>...</td>\n",
       "      <td>...</td>\n",
       "      <td>...</td>\n",
       "      <td>...</td>\n",
       "      <td>...</td>\n",
       "    </tr>\n",
       "    <tr>\n",
       "      <th>1495</th>\n",
       "      <td>6.4</td>\n",
       "      <td>0.380</td>\n",
       "      <td>0.24</td>\n",
       "      <td>7.20</td>\n",
       "      <td>0.047</td>\n",
       "      <td>41.0</td>\n",
       "      <td>151.0</td>\n",
       "      <td>0.99604</td>\n",
       "      <td>3.11</td>\n",
       "      <td>0.60</td>\n",
       "      <td>9.2</td>\n",
       "    </tr>\n",
       "    <tr>\n",
       "      <th>1496</th>\n",
       "      <td>7.0</td>\n",
       "      <td>0.230</td>\n",
       "      <td>0.36</td>\n",
       "      <td>13.00</td>\n",
       "      <td>0.051</td>\n",
       "      <td>72.0</td>\n",
       "      <td>177.0</td>\n",
       "      <td>0.99720</td>\n",
       "      <td>3.16</td>\n",
       "      <td>0.49</td>\n",
       "      <td>9.8</td>\n",
       "    </tr>\n",
       "    <tr>\n",
       "      <th>1497</th>\n",
       "      <td>7.3</td>\n",
       "      <td>0.655</td>\n",
       "      <td>0.20</td>\n",
       "      <td>10.20</td>\n",
       "      <td>0.071</td>\n",
       "      <td>28.0</td>\n",
       "      <td>212.0</td>\n",
       "      <td>0.99710</td>\n",
       "      <td>2.96</td>\n",
       "      <td>0.58</td>\n",
       "      <td>9.2</td>\n",
       "    </tr>\n",
       "    <tr>\n",
       "      <th>1498</th>\n",
       "      <td>7.1</td>\n",
       "      <td>0.280</td>\n",
       "      <td>0.26</td>\n",
       "      <td>1.90</td>\n",
       "      <td>0.049</td>\n",
       "      <td>12.0</td>\n",
       "      <td>86.0</td>\n",
       "      <td>0.99340</td>\n",
       "      <td>3.15</td>\n",
       "      <td>0.38</td>\n",
       "      <td>9.4</td>\n",
       "    </tr>\n",
       "    <tr>\n",
       "      <th>1499</th>\n",
       "      <td>7.1</td>\n",
       "      <td>0.420</td>\n",
       "      <td>0.20</td>\n",
       "      <td>2.80</td>\n",
       "      <td>0.038</td>\n",
       "      <td>28.0</td>\n",
       "      <td>109.0</td>\n",
       "      <td>0.98968</td>\n",
       "      <td>3.23</td>\n",
       "      <td>0.47</td>\n",
       "      <td>13.4</td>\n",
       "    </tr>\n",
       "  </tbody>\n",
       "</table>\n",
       "<p>1500 rows × 11 columns</p>\n",
       "</div>"
      ],
      "text/plain": [
       "       0      1     2      3      4     5      6        7     8     9     10\n",
       "0     8.9  0.300  0.35   4.60  0.032  32.0  148.0  0.99458  3.15  0.45  11.5\n",
       "1     6.9  0.310  0.32   1.20  0.024  20.0  166.0  0.99208  3.05  0.54   9.8\n",
       "2     6.3  0.190  0.29   2.00  0.022  33.0   96.0  0.98902  3.04  0.54  12.8\n",
       "3     8.4  0.310  0.31   0.95  0.021  52.0  148.0  0.99038  2.93  0.32  11.5\n",
       "4     7.0  0.240  0.24   1.80  0.047  29.0   91.0  0.99251  3.30  0.43   9.9\n",
       "...   ...    ...   ...    ...    ...   ...    ...      ...   ...   ...   ...\n",
       "1495  6.4  0.380  0.24   7.20  0.047  41.0  151.0  0.99604  3.11  0.60   9.2\n",
       "1496  7.0  0.230  0.36  13.00  0.051  72.0  177.0  0.99720  3.16  0.49   9.8\n",
       "1497  7.3  0.655  0.20  10.20  0.071  28.0  212.0  0.99710  2.96  0.58   9.2\n",
       "1498  7.1  0.280  0.26   1.90  0.049  12.0   86.0  0.99340  3.15  0.38   9.4\n",
       "1499  7.1  0.420  0.20   2.80  0.038  28.0  109.0  0.98968  3.23  0.47  13.4\n",
       "\n",
       "[1500 rows x 11 columns]"
      ]
     },
     "execution_count": 23,
     "metadata": {},
     "output_type": "execute_result"
    }
   ],
   "source": [
    "predict_df"
   ]
  },
  {
   "cell_type": "code",
   "execution_count": 28,
   "metadata": {},
   "outputs": [],
   "source": [
    "predict_data = scaler.transform(predict_df)"
   ]
  },
  {
   "cell_type": "code",
   "execution_count": 24,
   "metadata": {},
   "outputs": [],
   "source": [
    "predict_data = predict_df"
   ]
  },
  {
   "cell_type": "code",
   "execution_count": 25,
   "metadata": {},
   "outputs": [],
   "source": [
    "predict_res = RF_model.predict(predict_data)"
   ]
  },
  {
   "cell_type": "code",
   "execution_count": 26,
   "metadata": {},
   "outputs": [],
   "source": [
    "id = np.arange(predict_df.shape[0])+1\n",
    "df = pd.DataFrame({\"id\":id,\"predict\":predict_res})"
   ]
  },
  {
   "cell_type": "code",
   "execution_count": 27,
   "metadata": {},
   "outputs": [],
   "source": [
    "df.to_csv(\"submit00.csv\",index=None,header=None)"
   ]
  },
  {
   "cell_type": "markdown",
   "metadata": {},
   "source": [
    "**伪标签**"
   ]
  },
  {
   "cell_type": "code",
   "execution_count": null,
   "metadata": {},
   "outputs": [],
   "source": [
    "res_csv = pd.read_csv(\"res.csv\",names=[\"id\",\"predict\"])"
   ]
  },
  {
   "cell_type": "code",
   "execution_count": null,
   "metadata": {},
   "outputs": [],
   "source": [
    "res_predict = res_csv[\"predict\"]"
   ]
  },
  {
   "cell_type": "code",
   "execution_count": null,
   "metadata": {},
   "outputs": [],
   "source": [
    "predict_df = pd.read_csv(\"winequality_dataset/test.csv\",header=None)"
   ]
  },
  {
   "cell_type": "code",
   "execution_count": null,
   "metadata": {},
   "outputs": [],
   "source": [
    "predict_df"
   ]
  },
  {
   "cell_type": "code",
   "execution_count": null,
   "metadata": {},
   "outputs": [],
   "source": [
    "predict_df[\"predict\"] = res_predict"
   ]
  },
  {
   "cell_type": "code",
   "execution_count": null,
   "metadata": {},
   "outputs": [],
   "source": [
    "predict_df.to_csv(\"predict_test.csv\")"
   ]
  },
  {
   "cell_type": "code",
   "execution_count": null,
   "metadata": {},
   "outputs": [],
   "source": []
  }
 ],
 "metadata": {
  "kernelspec": {
   "display_name": "Python 3",
   "language": "python",
   "name": "python3"
  },
  "language_info": {
   "codemirror_mode": {
    "name": "ipython",
    "version": 3
   },
   "file_extension": ".py",
   "mimetype": "text/x-python",
   "name": "python",
   "nbconvert_exporter": "python",
   "pygments_lexer": "ipython3",
   "version": "3.7.4"
  }
 },
 "nbformat": 4,
 "nbformat_minor": 2
}
