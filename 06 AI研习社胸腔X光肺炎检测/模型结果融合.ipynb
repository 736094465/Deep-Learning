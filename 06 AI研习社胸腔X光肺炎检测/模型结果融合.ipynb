{
 "cells": [
  {
   "cell_type": "code",
   "execution_count": 2,
   "metadata": {},
   "outputs": [
    {
     "name": "stderr",
     "output_type": "stream",
     "text": [
      "D:\\software\\Anaconda\\anaconda\\envs\\tensorflow\\lib\\site-packages\\ipykernel_launcher.py:19: SettingWithCopyWarning: \n",
      "A value is trying to be set on a copy of a slice from a DataFrame\n",
      "\n",
      "See the caveats in the documentation: http://pandas.pydata.org/pandas-docs/stable/user_guide/indexing.html#returning-a-view-versus-a-copy\n",
      "D:\\software\\Anaconda\\anaconda\\envs\\tensorflow\\lib\\site-packages\\ipykernel_launcher.py:17: SettingWithCopyWarning: \n",
      "A value is trying to be set on a copy of a slice from a DataFrame\n",
      "\n",
      "See the caveats in the documentation: http://pandas.pydata.org/pandas-docs/stable/user_guide/indexing.html#returning-a-view-versus-a-copy\n"
     ]
    }
   ],
   "source": [
    "# 模型结果融合\n",
    "import pandas as pd\n",
    "import numpy as np\n",
    "\n",
    "df1 = pd.read_csv(\"./submit28_97.44.csv\",names=[\"id\",\"predict\"])\n",
    "df2 = pd.read_csv(\"./submit29_98.86.csv\",names=[\"id\",\"predict\"])\n",
    "df3 = pd.read_csv(\"./submit30_99.03.csv\",names=[\"id\",\"predict\"])\n",
    "\n",
    "df1_predict = df1[\"predict\"]\n",
    "df2_predict = df2[\"predict\"]\n",
    "df3_predict = df3[\"predict\"]\n",
    "\n",
    "df_predict = df1_predict\n",
    "\n",
    "for i in range(df1.shape[0]):\n",
    "    if df1_predict[i] != df2_predict[i]:\n",
    "        df_predict[i] = df3_predict[i]\n",
    "    else:\n",
    "        df_predict[i] = df1_predict[i]\n",
    "\n",
    "id = np.arange(df1.shape[0]) + 1\n",
    "df = pd.DataFrame({\"id\":id,\"predict\":df_predict})\n",
    "df.to_csv(\"res.csv\",header=None,index=None)\n"
   ]
  },
  {
   "cell_type": "code",
   "execution_count": 22,
   "metadata": {},
   "outputs": [
    {
     "name": "stdout",
     "output_type": "stream",
     "text": [
      "101 0.0 1.0\n",
      "106 0.0 1.0\n",
      "143 0.0 1.0\n",
      "391 0.0 1.0\n",
      "422 0.0 1.0\n",
      "493 0.0 1.0\n",
      "511 0.0 1.0\n",
      "792 0.0 1.0\n",
      "977 1.0 0.0\n",
      "1155 0.0 1.0\n",
      "1172 0.0 1.0\n",
      "1217 0.0 1.0\n",
      "1323 0.0 1.0\n",
      "1405 0.0 1.0\n",
      "1474 0.0 1.0\n",
      "1495 0.0 1.0\n",
      "1659 0.0 1.0\n",
      "1676 0.0 1.0\n",
      "18\n"
     ]
    }
   ],
   "source": [
    "df4 = pd.read_csv(\"./submit27_96.3.csv\",names=[\"id\",\"predict\"])\n",
    "df = pd.read_csv(\"./res.csv\",names=[\"id\",\"predict\"])\n",
    "\n",
    "df4_predict = df4[\"predict\"]\n",
    "df_predict = df[\"predict\"]\n",
    "\n",
    "len = 0 \n",
    "for i in range(df.shape[0]):\n",
    "    if df4_predict[i] != df_predict[i]:\n",
    "        print(i,df4_predict[i],df_predict[i])\n",
    "        len += 1\n",
    "print(len)"
   ]
  },
  {
   "cell_type": "code",
   "execution_count": 23,
   "metadata": {},
   "outputs": [
    {
     "name": "stdout",
     "output_type": "stream",
     "text": [
      "101 0.0 1.0\n",
      "106 0.0 1.0\n",
      "143 0.0 1.0\n",
      "237 1.0 0.0\n",
      "285 0.0 1.0\n",
      "391 0.0 1.0\n",
      "422 0.0 1.0\n",
      "459 0.0 1.0\n",
      "493 0.0 1.0\n",
      "511 0.0 1.0\n",
      "524 0.0 1.0\n",
      "696 1.0 0.0\n",
      "768 0.0 1.0\n",
      "792 0.0 1.0\n",
      "800 1.0 0.0\n",
      "820 0.0 1.0\n",
      "977 1.0 0.0\n",
      "1000 1.0 0.0\n",
      "1032 0.0 1.0\n",
      "1091 1.0 0.0\n",
      "1108 1.0 0.0\n",
      "1155 0.0 1.0\n",
      "1172 0.0 1.0\n",
      "1217 0.0 1.0\n",
      "1262 1.0 0.0\n",
      "1323 0.0 1.0\n",
      "1390 1.0 0.0\n",
      "1405 0.0 1.0\n",
      "1469 0.0 1.0\n",
      "1474 0.0 1.0\n",
      "1495 0.0 1.0\n",
      "1510 0.0 1.0\n",
      "1561 0.0 1.0\n",
      "1595 1.0 0.0\n",
      "1604 0.0 1.0\n",
      "1659 0.0 1.0\n",
      "1676 0.0 1.0\n",
      "1713 0.0 1.0\n",
      "1724 0.0 1.0\n",
      "1731 0.0 1.0\n",
      "40\n"
     ]
    }
   ],
   "source": [
    "df4 = pd.read_csv(\"./submit27_96.3.csv\",names=[\"id\",\"predict\"])\n",
    "df = pd.read_csv(\"./submit26_96.07.csv\",names=[\"id\",\"predict\"])\n",
    "\n",
    "df4_predict = df4[\"predict\"]\n",
    "df_predict = df[\"predict\"]\n",
    "\n",
    "len = 0 \n",
    "for i in range(df.shape[0]):\n",
    "    if df4_predict[i] != df_predict[i]:\n",
    "        print(i,df4_predict[i],df_predict[i])\n",
    "        len += 1\n",
    "print(len)"
   ]
  },
  {
   "cell_type": "code",
   "execution_count": null,
   "metadata": {},
   "outputs": [],
   "source": []
  }
 ],
 "metadata": {
  "kernelspec": {
   "display_name": "Python 3",
   "language": "python",
   "name": "python3"
  },
  "language_info": {
   "codemirror_mode": {
    "name": "ipython",
    "version": 3
   },
   "file_extension": ".py",
   "mimetype": "text/x-python",
   "name": "python",
   "nbconvert_exporter": "python",
   "pygments_lexer": "ipython3",
   "version": "3.7.4"
  }
 },
 "nbformat": 4,
 "nbformat_minor": 2
}
