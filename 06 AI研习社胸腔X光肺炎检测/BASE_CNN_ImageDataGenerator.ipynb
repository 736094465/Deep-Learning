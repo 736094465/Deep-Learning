{
 "cells": [
  {
   "cell_type": "code",
   "execution_count": 1,
   "metadata": {},
   "outputs": [
    {
     "name": "stderr",
     "output_type": "stream",
     "text": [
      "Using TensorFlow backend.\n"
     ]
    }
   ],
   "source": [
    "# 导包\n",
    "import numpy as np\n",
    "import pandas as pd\n",
    "import matplotlib.pyplot as plt\n",
    "from glob import glob\n",
    "from keras.models import *\n",
    "from keras.layers import *\n",
    "from keras.preprocessing.image import *\n",
    "from keras.utils import *\n",
    "from keras.optimizers import *\n",
    "from keras.applications import *\n",
    "from keras.applications import  imagenet_utils\n",
    "from keras.callbacks import EarlyStopping,ReduceLROnPlateau,ModelCheckpoint,LearningRateScheduler\n",
    "from efficientnet.keras import EfficientNetB5"
   ]
  },
  {
   "cell_type": "code",
   "execution_count": 2,
   "metadata": {},
   "outputs": [
    {
     "data": {
      "text/plain": [
       "<matplotlib.axes._subplots.AxesSubplot at 0x1e161969988>"
      ]
     },
     "execution_count": 2,
     "metadata": {},
     "output_type": "execute_result"
    },
    {
     "data": {
      "image/png": "[encoded data removed]",
      "text/plain": [
       "<Figure size 432x288 with 1 Axes>"
      ]
     },
     "metadata": {},
     "output_type": "display_data"
    }
   ],
   "source": [
    "# EDA探索数据\n",
    "import matplotlib.pyplot as plt\n",
    "import seaborn as sns\n",
    "import os\n",
    "\n",
    "train_dir_path = \"./xray_dataset/train\"\n",
    "train_normal_path = os.path.join(train_dir_path,\"NORMAL\")\n",
    "train_pneumonia_path = os.path.join(train_dir_path,\"PNEUMONIA\")\n",
    "train_normal_length = len(os.listdir(train_normal_path))\n",
    "train_pneumonia_length = len(os.listdir(train_pneumonia_path))\n",
    "\n",
    "sns.set_style(\"whitegrid\")\n",
    "sns.barplot(x = [\"NORMAL\",\"PNEUMONIA\"],y = np.array([train_normal_length,train_pneumonia_length]))"
   ]
  },
  {
   "cell_type": "code",
   "execution_count": 3,
   "metadata": {},
   "outputs": [],
   "source": [
    "img_rows,img_cols = 224,224\n",
    "batch_size= 8"
   ]
  },
  {
   "cell_type": "code",
   "execution_count": 4,
   "metadata": {},
   "outputs": [
    {
     "name": "stdout",
     "output_type": "stream",
     "text": [
      "Found 3280 images belonging to 2 classes.\n",
      "Found 819 images belonging to 2 classes.\n"
     ]
    }
   ],
   "source": [
    "# ImageDataGenerator读取数据\n",
    "from keras.preprocessing.image import ImageDataGenerator\n",
    "import os\n",
    "\n",
    "\n",
    "train_path = \"C:\\\\Users\\\\LvChaoZhang\\\\00contest\\\\09 ai研习社胸腔X光肺炎检测\\\\xray_dataset\\\\train\"\n",
    "\n",
    "\n",
    "# train_datagen = ImageDataGenerator(rescale = 1./255,\n",
    "#                                                               shear_range = 0.2,\n",
    "#                                                               zoom_range = 0.2,\n",
    "#                                                               horizontal_flip = True,\n",
    "#                                                               vertical_flip=True,\n",
    "#                                                               validation_split=0.2,\n",
    "#                                                               fill_mode=\"nearest\")\n",
    "train_datagen = ImageDataGenerator(rescale = 1./255,\n",
    "                                                              validation_split=0.2)\n",
    "\n",
    "train_set = train_datagen.flow_from_directory(train_path,\n",
    "                                                                            target_size=(img_rows,img_cols),\n",
    "                                                                            batch_size=batch_size,\n",
    "                                                                            color_mode=\"rgb\",\n",
    "                                                                            class_mode=\"binary\",\n",
    "                                                                            shuffle=True,\n",
    "                                                                            seed=2019,\n",
    "                                                                            subset=\"training\")\n",
    "val_set = train_datagen.flow_from_directory(train_path,\n",
    "                                                                      target_size=(img_rows,img_cols),\n",
    "                                                                      batch_size=batch_size,\n",
    "                                                                      class_mode=\"binary\",\n",
    "                                                                      color_mode=\"rgb\",\n",
    "                                                                      shuffle=False,\n",
    "                                                                      subset=\"validation\")"
   ]
  },
  {
   "cell_type": "code",
   "execution_count": 5,
   "metadata": {},
   "outputs": [
    {
     "data": {
      "text/plain": [
       "{'NORMAL': 0, 'PNEUMONIA': 1}"
      ]
     },
     "execution_count": 5,
     "metadata": {},
     "output_type": "execute_result"
    }
   ],
   "source": [
    "train_set.class_indices"
   ]
  },
  {
   "cell_type": "code",
   "execution_count": null,
   "metadata": {},
   "outputs": [],
   "source": [
    "# 初始模型\n",
    "model = Sequential()\n",
    "\n",
    "model.add(Conv2D(32,(3,3),input_shape=(img_rows,img_cols,3),activation='relu'))\n",
    "model.add(Conv2D(32,(3,3),activation='relu'))\n",
    "\n",
    "model.add(MaxPooling2D(pool_size=(2,2)))\n",
    "model.add(Dropout(0.2))\n",
    "\n",
    "model.add(Conv2D(64,(3,3),activation='relu'))\n",
    "model.add(Conv2D(64,(3,3),activation='relu'))\n",
    "\n",
    "model.add(MaxPooling2D(pool_size=(2,2)))\n",
    "model.add(Dropout(0.2))\n",
    "\n",
    "model.add(Conv2D(128,(3,3),activation='relu'))\n",
    "model.add(Conv2D(128,(3,3),activation='relu'))\n",
    "\n",
    "model.add(MaxPooling2D(pool_size=(2,2)))\n",
    "model.add(Dropout(0.2))\n",
    "\n",
    "model.add(Flatten())\n",
    "# model.add(Dense(units=256,activation='relu'))\n",
    "# model.add(Dropout(0.2))\n",
    "model.add(Dense(units=256,activation='relu'))\n",
    "model.add(Dropout(0.2))\n",
    "model.add(Dense(units=1,activation='sigmoid'))"
   ]
  },
  {
   "cell_type": "code",
   "execution_count": null,
   "metadata": {},
   "outputs": [],
   "source": [
    "# 模型 VGG161.0\n",
    "base_model = VGG16(weights=\"imagenet\",include_top=False,input_shape=(img_rows,img_cols,3))\n",
    "for layer in base_model.layers:\n",
    "    layer.trainable=False\n",
    "x = base_model.output\n",
    "x = GlobalAveragePooling2D()(x)\n",
    "x = Dense(128,activation=\"relu\")(x)\n",
    "x = Dropout(0.5)(x)\n",
    "out = Dense(1,activation=\"sigmoid\")(x)\n",
    "model = Model(base_model.input,out)"
   ]
  },
  {
   "cell_type": "code",
   "execution_count": null,
   "metadata": {},
   "outputs": [],
   "source": [
    "# 模型 2.0\n",
    "model = Sequential()\n",
    "\n",
    "model.add(Conv2D(10,(5,5),input_shape=(img_rows,img_cols,3),activation='relu'))\n",
    "model.add(MaxPooling2D(pool_size=(2,2)))\n",
    "\n",
    "model.add(Conv2D(10,(5,5),activation='relu'))\n",
    "model.add(MaxPooling2D(pool_size=(2,2)))\n",
    "\n",
    "model.add(Flatten())\n",
    "# model.add(Dense(units=256,activation='relu'))\n",
    "# model.add(Dropout(0.2))\n",
    "model.add(Dense(units=128,activation='relu'))\n",
    "\n",
    "#model.add(Dropout(0.2))\n",
    "model.add(Dense(units=1,activation='sigmoid'))"
   ]
  },
  {
   "cell_type": "code",
   "execution_count": null,
   "metadata": {},
   "outputs": [],
   "source": [
    "# 模型 3.0\n",
    "# 初始模型\n",
    "model = Sequential()\n",
    "\n",
    "model.add(Conv2D(32,(3,3),input_shape=(img_rows,img_cols,3),activation='relu'))\n",
    "model.add(Conv2D(32,(3,3),activation='relu'))\n",
    "model.add(MaxPooling2D(pool_size=(2,2)))\n",
    "model.add(Dropout(0.5))\n",
    "\n",
    "model.add(Conv2D(64,(3,3),activation='relu'))\n",
    "model.add(Conv2D(64,(3,3),activation='relu'))\n",
    "model.add(MaxPooling2D(pool_size=(2,2)))\n",
    "model.add(Dropout(0.5))\n",
    "\n",
    "model.add(Flatten())\n",
    "model.add(Dense(units=256,activation='relu'))\n",
    "model.add(Dropout(0.5))\n",
    "model.add(Dense(units=1,activation='sigmoid'))"
   ]
  },
  {
   "cell_type": "code",
   "execution_count": 6,
   "metadata": {},
   "outputs": [
    {
     "name": "stdout",
     "output_type": "stream",
     "text": [
      "WARNING:tensorflow:From D:\\software\\Anaconda\\anaconda\\envs\\tensorflow\\lib\\site-packages\\keras\\backend\\tensorflow_backend.py:74: The name tf.get_default_graph is deprecated. Please use tf.compat.v1.get_default_graph instead.\n",
      "\n",
      "WARNING:tensorflow:From D:\\software\\Anaconda\\anaconda\\envs\\tensorflow\\lib\\site-packages\\keras\\backend\\tensorflow_backend.py:517: The name tf.placeholder is deprecated. Please use tf.compat.v1.placeholder instead.\n",
      "\n",
      "WARNING:tensorflow:From D:\\software\\Anaconda\\anaconda\\envs\\tensorflow\\lib\\site-packages\\keras\\backend\\tensorflow_backend.py:4138: The name tf.random_uniform is deprecated. Please use tf.random.uniform instead.\n",
      "\n",
      "WARNING:tensorflow:From D:\\software\\Anaconda\\anaconda\\envs\\tensorflow\\lib\\site-packages\\keras\\backend\\tensorflow_backend.py:3976: The name tf.nn.max_pool is deprecated. Please use tf.nn.max_pool2d instead.\n",
      "\n",
      "WARNING:tensorflow:From D:\\software\\Anaconda\\anaconda\\envs\\tensorflow\\lib\\site-packages\\keras\\backend\\tensorflow_backend.py:133: The name tf.placeholder_with_default is deprecated. Please use tf.compat.v1.placeholder_with_default instead.\n",
      "\n",
      "WARNING:tensorflow:From D:\\software\\Anaconda\\anaconda\\envs\\tensorflow\\lib\\site-packages\\keras\\backend\\tensorflow_backend.py:3445: calling dropout (from tensorflow.python.ops.nn_ops) with keep_prob is deprecated and will be removed in a future version.\n",
      "Instructions for updating:\n",
      "Please use `rate` instead of `keep_prob`. Rate should be set to `rate = 1 - keep_prob`.\n"
     ]
    }
   ],
   "source": [
    "# 模型4.0\n",
    "\n",
    "model = Sequential()\n",
    "\n",
    "scale = 32\n",
    "\n",
    "# convolution 1 \n",
    "model.add(Conv2D(scale,(3,3),input_shape=(img_rows,img_cols,3)))\n",
    "model.add(LeakyReLU(alpha=0.1))\n",
    "# convolution 2\n",
    "model.add(Conv2D(2*scale,(3,3)))\n",
    "model.add(LeakyReLU(alpha=0.1))\n",
    "model.add(MaxPooling2D(pool_size=(2,2)))\n",
    "model.add(Dropout(0.1))\n",
    "\n",
    "# convolution 3\n",
    "model.add(Conv2D(3*scale,(3,3)))\n",
    "model.add(LeakyReLU(alpha=0.1))\n",
    "# convolution 4\n",
    "model.add(Conv2D(4*scale,(3,3)))\n",
    "model.add(LeakyReLU(alpha=0.1))\n",
    "model.add(MaxPooling2D(pool_size=(2,2)))\n",
    "model.add(Dropout(0.1))\n",
    "\n",
    "# convolution 5\n",
    "model.add(Conv2D(5*scale,(3,3)))\n",
    "model.add(LeakyReLU(alpha=0.1))\n",
    "# convolution 6\n",
    "model.add(Conv2D(3*scale,(3,3)))\n",
    "model.add(MaxPooling2D(pool_size=(2,2)))\n",
    "model.add(Dropout(0.1))\n",
    "\n",
    "# convolution 7\n",
    "model.add(Conv2D(6*scale,(3,3)))\n",
    "model.add(LeakyReLU(alpha=0.1))\n",
    "model.add(MaxPooling2D(pool_size=(2,2)))\n",
    "model.add(Dropout(0.1))\n",
    "\n",
    "# convolution 8\n",
    "model.add(Conv2D(7*scale,(3,3)))\n",
    "model.add(LeakyReLU(alpha=0.1))\n",
    "model.add(MaxPooling2D(pool_size=(2,2)))\n",
    "model.add(Dropout(0.1))\n",
    "\n",
    "# flatten layer\n",
    "model.add(Flatten())\n",
    "\n",
    "# first dense layer\n",
    "model.add(Dense(units=15*scale))\n",
    "model.add(LeakyReLU(alpha=0.1))\n",
    "model.add(Dropout(0.5))\n",
    "\n",
    "# second dense layer\n",
    "model.add(Dense(units=15*scale))\n",
    "model.add(LeakyReLU(alpha=0.1))\n",
    "model.add(Dropout(0.5))\n",
    "\n",
    "# third dense layer\n",
    "model.add(Dense(units=15*scale))\n",
    "model.add(LeakyReLU(alpha=0.1))\n",
    "model.add(Dropout(0.5))\n",
    "\n",
    "# output layer\n",
    "model.add(Dense(1,activation=\"sigmoid\"))"
   ]
  },
  {
   "cell_type": "code",
   "execution_count": 11,
   "metadata": {},
   "outputs": [
    {
     "name": "stdout",
     "output_type": "stream",
     "text": [
      "Downloading data from https://github.com/Callidior/keras-applications/releases/download/efficientnet/efficientnet-b5_weights_tf_dim_ordering_tf_kernels_autoaugment_notop.h5\n",
      "115515392/115515256 [==============================] - 530s 5us/step\n"
     ]
    }
   ],
   "source": [
    "# 试验模型Efficientnet\n",
    "base_model = EfficientNetB5(weights=\"imagenet\",include_top=False,input_shape=(img_rows,img_cols,3))\n",
    "for layer in base_model.layers:\n",
    "    layer.trainable=False\n",
    "x = base_model.output\n",
    "x = GlobalAveragePooling2D()(x)\n",
    "x = Dense(10,activation=\"relu\")(x)\n",
    "x = Dropout(0.5)(x)\n",
    "out = Dense(1,activation=\"sigmoid\")(x)\n",
    "model = Model(base_model.input,out)"
   ]
  },
  {
   "cell_type": "code",
   "execution_count": 12,
   "metadata": {
    "scrolled": true
   },
   "outputs": [],
   "source": [
    "# 模型编译\n",
    "import keras.backend as K\n",
    "\n",
    "# focal loss \n",
    "def focal_loss(alpha=0.25,gamma=2.0):\n",
    "    def focal_crossentropy(y_true, y_pred):\n",
    "        bce = K.binary_crossentropy(y_true, y_pred)\n",
    "        \n",
    "        y_pred = K.clip(y_pred, K.epsilon(), 1.- K.epsilon())\n",
    "        p_t = (y_true*y_pred) + ((1-y_true)*(1-y_pred))\n",
    "        \n",
    "        alpha_factor = 1\n",
    "        modulating_factor = 1\n",
    "\n",
    "        alpha_factor = y_true*alpha + ((1-alpha)*(1-y_true))\n",
    "        modulating_factor = K.pow((1-p_t), gamma)\n",
    "\n",
    "        # compute the final loss and return\n",
    "        return K.mean(alpha_factor*modulating_factor*bce, axis=-1)\n",
    "    return focal_crossentropy"
   ]
  },
  {
   "cell_type": "code",
   "execution_count": 13,
   "metadata": {},
   "outputs": [
    {
     "name": "stdout",
     "output_type": "stream",
     "text": [
      "WARNING:tensorflow:From D:\\software\\Anaconda\\anaconda\\envs\\tensorflow\\lib\\site-packages\\keras\\optimizers.py:790: The name tf.train.Optimizer is deprecated. Please use tf.compat.v1.train.Optimizer instead.\n",
      "\n",
      "WARNING:tensorflow:From D:\\software\\Anaconda\\anaconda\\envs\\tensorflow\\lib\\site-packages\\tensorflow\\python\\ops\\nn_impl.py:180: add_dispatch_support.<locals>.wrapper (from tensorflow.python.ops.array_ops) is deprecated and will be removed in a future version.\n",
      "Instructions for updating:\n",
      "Use tf.where in 2.0, which has the same broadcast rule as np.where\n"
     ]
    }
   ],
   "source": [
    "model.compile(loss=focal_loss(),metrics=[\"accuracy\"],optimizer=Adam(lr=0.0001))"
   ]
  },
  {
   "cell_type": "code",
   "execution_count": 14,
   "metadata": {},
   "outputs": [],
   "source": [
    "# Implement Learning rate decay\n",
    "checkpoint = ModelCheckpoint(\"chest_xray_cnn2.h5\",\n",
    "                             monitor=\"val_loss\",\n",
    "                             mode=\"min\",\n",
    "                             save_best_only = True,\n",
    "                             verbose=1)\n",
    "\n",
    "earlystop = EarlyStopping(monitor = 'val_loss', \n",
    "                          min_delta = 0, \n",
    "                          patience = 5,\n",
    "                          verbose = 1,\n",
    "                          restore_best_weights = True)\n",
    "\n",
    "reduce_lr = ReduceLROnPlateau(monitor = 'val_loss',\n",
    "                              factor = 0.2,\n",
    "                              patience = 3,\n",
    "                              verbose = 1)\n",
    "                              #min_delta = 0.00001)\n",
    "\n",
    "\n",
    "callbacks = [earlystop, checkpoint, reduce_lr]"
   ]
  },
  {
   "cell_type": "code",
   "execution_count": null,
   "metadata": {},
   "outputs": [],
   "source": [
    "from sklearn.utils import class_weight\n",
    "classweight = class_weight.compute_class_weight(\"balanced\",np.unique(train_labels),train_labels)\n",
    "print(classweight)\n",
    "# class_weight={0:1.84307554 ,1:0.68613994}"
   ]
  },
  {
   "cell_type": "code",
   "execution_count": 16,
   "metadata": {
    "scrolled": true
   },
   "outputs": [
    {
     "name": "stdout",
     "output_type": "stream",
     "text": [
      "Epoch 1/25\n",
      "410/410 [==============================] - 107s 262ms/step - loss: 0.0402 - acc: 0.7561 - val_loss: 0.0581 - val_acc: 0.8027\n",
      "\n",
      "Epoch 00001: val_loss did not improve from 0.05759\n",
      "Epoch 2/25\n",
      "410/410 [==============================] - 111s 271ms/step - loss: 0.0386 - acc: 0.7835 - val_loss: 0.0592 - val_acc: 0.7953\n",
      "\n",
      "Epoch 00002: val_loss did not improve from 0.05759\n",
      "Epoch 3/25\n",
      "410/410 [==============================] - 109s 266ms/step - loss: 0.0385 - acc: 0.7979 - val_loss: 0.0592 - val_acc: 0.7953\n",
      "\n",
      "Epoch 00003: val_loss did not improve from 0.05759\n",
      "Epoch 4/25\n",
      "410/410 [==============================] - 109s 267ms/step - loss: 0.0390 - acc: 0.7896 - val_loss: 0.0596 - val_acc: 0.7917\n",
      "\n",
      "Epoch 00004: val_loss did not improve from 0.05759\n",
      "\n",
      "Epoch 00004: ReduceLROnPlateau reducing learning rate to 3.999999898951501e-06.\n",
      "Epoch 5/25\n",
      "410/410 [==============================] - 111s 271ms/step - loss: 0.0389 - acc: 0.8018 - val_loss: 0.0597 - val_acc: 0.7904\n",
      "\n",
      "Epoch 00005: val_loss did not improve from 0.05759\n",
      "Epoch 6/25\n",
      "410/410 [==============================] - 111s 270ms/step - loss: 0.0378 - acc: 0.8006 - val_loss: 0.0598 - val_acc: 0.7904\n",
      "Restoring model weights from the end of the best epoch\n",
      "\n",
      "Epoch 00006: val_loss did not improve from 0.05759\n",
      "Epoch 00006: early stopping\n"
     ]
    }
   ],
   "source": [
    "# 训练\n",
    "history = model.fit_generator(train_set,\n",
    "                                 steps_per_epoch=3280//batch_size,\n",
    "                                 epochs = 25,\n",
    "                                 validation_data=val_set,\n",
    "                                 validation_steps=819 //batch_size,\n",
    "                                 shuffle=True,\n",
    "                                 callbacks=callbacks)\n",
    "                                 #class_weight={0:1.84307554 ,1:0.68613994})"
   ]
  },
  {
   "cell_type": "code",
   "execution_count": 11,
   "metadata": {},
   "outputs": [
    {
     "data": {
      "image/png": "[encoded data removed]",
      "text/plain": [
       "<Figure size 432x288 with 1 Axes>"
      ]
     },
     "metadata": {
      "needs_background": "light"
     },
     "output_type": "display_data"
    }
   ],
   "source": [
    "# 训练曲线\n",
    "import numpy as np\n",
    "import matplotlib.pyplot as plt\n",
    "%matplotlib inline\n",
    "\n",
    "#Accuracy\n",
    "plt.plot(history.history[\"acc\"])\n",
    "plt.plot(history.history[\"val_acc\"])\n",
    "plt.title(\"Model Accuracy\")\n",
    "plt.xlabel(\"Epoch\")\n",
    "plt.ylabel(\"Accuracy\")\n",
    "plt.legend([\"Training Set\",\"Validation Set\"],loc=\"upper left\")\n",
    "\n",
    "# Loss\n",
    "plt.plot(history.history[\"loss\"])\n",
    "plt.plot(history.history[\"val_loss\"])\n",
    "plt.title(\"Model loss\")\n",
    "plt.xlabel(\"Epoch\")\n",
    "plt.ylabel(\"Loss\")\n",
    "plt.legend([\"Training set\",\"Test set\"],loc=\"upper left\")\n",
    "\n",
    "plt.show()"
   ]
  },
  {
   "cell_type": "code",
   "execution_count": null,
   "metadata": {},
   "outputs": [],
   "source": [
    "# 混淆矩阵\n",
    "from keras.utils import to_categorical\n",
    "from pathlib import Path\n",
    "import cv2\n",
    "\n",
    "base_dir = \"./xray_dataset/train/\"\n",
    "normal_cases_dir = Path(base_dir + \"NORMAL\")\n",
    "pneumonia_cases_dir = Path(base_dir + \"PNEUMONIA\")\n",
    "\n",
    "normal_cases = normal_cases_dir.glob(\"*.jpeg\")\n",
    "pneumonia_cases = pneumonia_cases_dir.glob(\"*.jpeg\")\n",
    "\n",
    "train_data = []\n",
    "train_labels = []\n",
    "\n",
    "for img in normal_cases:\n",
    "    img = cv2.imread(str(img))\n",
    "    img = cv2.resize(img,(224,224))\n",
    "    if img.shape[2] == 1:\n",
    "        img = np.dstack([img,img,img])\n",
    "    else:\n",
    "        img = cv2.cvtColor(img,cv2.COLOR_BGR2RGB)\n",
    "    img = img.astype(np.float32)/255.\n",
    "    #label = to_categorical(0,num_classes=2)\n",
    "    label = 0\n",
    "    train_data.append(img)\n",
    "    train_labels.append(label)\n",
    "    \n",
    "for img in pneumonia_cases:\n",
    "    img = cv2.imread(str(img))\n",
    "    img = cv2.resize(img,(224,224))\n",
    "    if img.shape[2] == 1:\n",
    "        img = np.dstack([img,img,img])\n",
    "    else:\n",
    "        img = cv2.cvtColor(img,cv2.COLOR_BGR2RGB)\n",
    "    img = img.astype(np.float32)/255.\n",
    "    #label = to_categorical(1,num_classes=2)\n",
    "    label = 1\n",
    "    train_data.append(img)\n",
    "    train_labels.append(label)\n",
    "\n",
    "train_data = np.array(train_data)\n",
    "train_labels = np.array(train_labels)\n",
    "\n",
    "print(\"Total number of train examples:\",train_data.shape)\n",
    "print(\"Total number of labels:\",train_labels.shape)"
   ]
  },
  {
   "cell_type": "code",
   "execution_count": null,
   "metadata": {},
   "outputs": [],
   "source": [
    "train_loss,train_score = model.evaluate(train_data,train_labels)\n",
    "print(\"Loss on the train:\",train_loss)\n",
    "print(\"Accuracy on train set:\",train_score)"
   ]
  },
  {
   "cell_type": "code",
   "execution_count": null,
   "metadata": {},
   "outputs": [],
   "source": [
    "preds = model.predict(train_data,batch_size=16)"
   ]
  },
  {
   "cell_type": "code",
   "execution_count": null,
   "metadata": {},
   "outputs": [],
   "source": [
    "for i in range(len(preds)):\n",
    "    if preds[i] > 0.5:\n",
    "        preds[i] = 1\n",
    "    else:\n",
    "        preds[i] = 0\n",
    "pred = preds[:,0]"
   ]
  },
  {
   "cell_type": "code",
   "execution_count": null,
   "metadata": {},
   "outputs": [],
   "source": [
    "# 混淆矩阵\n",
    "from mlxtend.plotting import plot_confusion_matrix\n",
    "from sklearn.metrics import confusion_matrix\n",
    "import matplotlib.pyplot as plt\n",
    "%matplotlib inline\n",
    "\n",
    "cm = confusion_matrix(train_labels,pred)\n",
    "plt.figure()\n",
    "plot_confusion_matrix(cm,figsize=(12,8),hide_ticks=True,cmap=plt.cm.Blues)\n",
    "plt.xticks(range(2),[\"Normal\",\"Pneumonia\"],fontsize=16)\n",
    "plt.yticks(range(2),[\"Normal\",\"Pneumonia\"],fontsize=16)\n",
    "plt.show()"
   ]
  },
  {
   "cell_type": "code",
   "execution_count": null,
   "metadata": {},
   "outputs": [],
   "source": [
    "# 计算精准率和召回率\n",
    "tn,fp,fn,tp = cm.ravel()\n",
    "\n",
    "precision = tp/(tp+fp)\n",
    "recall = tp/(tp+fn)\n",
    "\n",
    "print(\"Recall of the model is {:.2f}\".format(recall))\n",
    "print(\"Precision of the model is {:.2f}\".format(precision))"
   ]
  },
  {
   "cell_type": "code",
   "execution_count": null,
   "metadata": {},
   "outputs": [],
   "source": [
    "# ==== 预测 ==="
   ]
  },
  {
   "cell_type": "code",
   "execution_count": 13,
   "metadata": {},
   "outputs": [],
   "source": [
    "import cv2\n",
    "import numpy as np\n",
    "import pandas as pd\n",
    "\n",
    "# 定义读取图片函数\n",
    "def  get_img(file_path,img_rows,img_cols):\n",
    "    img = cv2.imread(file_path)\n",
    "    img = cv2.resize(img,(img_rows,img_cols),interpolation=cv2.INTER_CUBIC)\n",
    "#     if img.shape[2] == 1:\n",
    "#         img = np.dstack([img,img,img])\n",
    "    img = cv2.cvtColor(img,cv2.COLOR_BGR2RGB)\n",
    "    img = img.astype(np.float32)/255.\n",
    "    return img"
   ]
  },
  {
   "cell_type": "code",
   "execution_count": 14,
   "metadata": {},
   "outputs": [],
   "source": [
    "# 定义加载测试集的函数\n",
    "def load_test_data(test_path,img_rows,img_cols):\n",
    "    x_test_id = []\n",
    "    x_test = []\n",
    "\n",
    "    img_names = os.listdir(test_path)\n",
    "    img_names.sort(key=lambda x:int(x[:-5]))\n",
    "    for img_name in img_names:\n",
    "        feature = get_img(os.path.join(test_path,img_name),img_rows,img_cols)\n",
    "        id = img_name\n",
    "\n",
    "        x_test_id.append(id)\n",
    "        x_test.append(feature)\n",
    "\n",
    "    #对x_test进行转换\n",
    "    x_test = np.array(x_test)\n",
    "\n",
    "    return x_test,x_test_id"
   ]
  },
  {
   "cell_type": "code",
   "execution_count": 15,
   "metadata": {},
   "outputs": [],
   "source": [
    "test_dir_path = \"./xray_dataset/test/\""
   ]
  },
  {
   "cell_type": "code",
   "execution_count": 16,
   "metadata": {
    "scrolled": true
   },
   "outputs": [],
   "source": [
    "x_test,x_id = load_test_data(test_dir_path,img_rows,img_cols)"
   ]
  },
  {
   "cell_type": "code",
   "execution_count": 25,
   "metadata": {},
   "outputs": [],
   "source": [
    "model.load_weights(\"chest_xray_cnn1.h5\")"
   ]
  },
  {
   "cell_type": "code",
   "execution_count": 30,
   "metadata": {},
   "outputs": [],
   "source": [
    "y_pred = model.predict(x_test)"
   ]
  },
  {
   "cell_type": "code",
   "execution_count": 31,
   "metadata": {},
   "outputs": [
    {
     "data": {
      "text/plain": [
       "array([[2.5647879e-04],\n",
       "       [1.6162097e-03],\n",
       "       [9.9977380e-01],\n",
       "       [4.3713784e-01],\n",
       "       [9.9988210e-01],\n",
       "       [8.4823644e-01],\n",
       "       [5.0941110e-04],\n",
       "       [3.3339858e-04],\n",
       "       [1.0000000e+00],\n",
       "       [8.8866949e-01]], dtype=float32)"
      ]
     },
     "execution_count": 31,
     "metadata": {},
     "output_type": "execute_result"
    }
   ],
   "source": [
    "y_pred[:10]"
   ]
  },
  {
   "cell_type": "code",
   "execution_count": 32,
   "metadata": {},
   "outputs": [],
   "source": [
    "for i in range(len(x_test)):\n",
    "    if y_pred[i]>0.5:\n",
    "        y_pred[i]=1;\n",
    "    else:\n",
    "        y_pred[i]=0;"
   ]
  },
  {
   "cell_type": "code",
   "execution_count": 33,
   "metadata": {},
   "outputs": [],
   "source": [
    "id = np.arange(len(x_test))+1"
   ]
  },
  {
   "cell_type": "code",
   "execution_count": 34,
   "metadata": {},
   "outputs": [],
   "source": [
    "df = pd.DataFrame({\"id\":id,\"predict\":y_pred[:,0]})"
   ]
  },
  {
   "cell_type": "code",
   "execution_count": 35,
   "metadata": {},
   "outputs": [],
   "source": [
    "df.to_csv(\"submit30.csv\",index=None,header=None)"
   ]
  },
  {
   "cell_type": "code",
   "execution_count": null,
   "metadata": {},
   "outputs": [],
   "source": []
  },
  {
   "cell_type": "code",
   "execution_count": null,
   "metadata": {},
   "outputs": [],
   "source": []
  },
  {
   "cell_type": "markdown",
   "metadata": {},
   "source": [
    "### 知识总结"
   ]
  },
  {
   "cell_type": "markdown",
   "metadata": {},
   "source": [
    "**一、Python环境中两种排序方案:**\n",
    " - 1. 用库函数sorted()对字符串排序，它的对象是字符\n",
    " - 2. 用函数sort()对数字排序，它的对象是数字，如果读取文件的话，需要进行处理（对文件后缀名进行\"屏蔽\"）"
   ]
  },
  {
   "cell_type": "markdown",
   "metadata": {},
   "source": [
    "**1.测试库函数sorted()**"
   ]
  },
  {
   "cell_type": "code",
   "execution_count": null,
   "metadata": {},
   "outputs": [],
   "source": [
    "import numpy as np\n",
    "import os\n",
    "\n",
    "img_path = \"./img/\"\n",
    "img_list = sorted(os.listdir(img_path))\n",
    "img_nums = len(img_list)\n",
    "for i in range(img_nums):\n",
    "    img_name = img_path + img_list[i]\n",
    "    print(img_name)"
   ]
  },
  {
   "cell_type": "markdown",
   "metadata": {},
   "source": [
    "**结果展示**\n",
    " - ./img/11.jpg\n",
    " - ./img/111.jpg\n",
    " - ./img/1111.jpg\n",
    " - ./img/221.jpg\n",
    " - ./img/23.jpg\n",
    " - ./img/32.jpg\n",
    " - ./img/4.jpg "
   ]
  },
  {
   "cell_type": "markdown",
   "metadata": {},
   "source": [
    "**运行结果:**\n",
    "- ./img/4.jpg\n",
    "- ./img/11.jpg\n",
    "- ./img/23.jpg\n",
    "- ./img/32.jpg\n",
    "- ./img/111.jpg\n",
    "- ./img/221.jpg\n",
    "- ./img/1111.jpg"
   ]
  },
  {
   "cell_type": "markdown",
   "metadata": {},
   "source": [
    "**2.测试函数sort()**"
   ]
  },
  {
   "cell_type": "code",
   "execution_count": null,
   "metadata": {},
   "outputs": [],
   "source": [
    "import numpy as np\n",
    "import os\n",
    "img_path = \"./img\"\n",
    "\n",
    "img_list = os.listdir(img_path)\n",
    "img_list.sort(key=lambda x:int(x[:-4]))\n",
    "img_nums = len(img_list)\n",
    "for i in range(img_nums):\n",
    "    img_name = img_path+img_list[i]\n",
    "    print(img_name)"
   ]
  },
  {
   "cell_type": "markdown",
   "metadata": {},
   "source": [
    "可以看出，文件名是按数字排序的，`sort函数中用到了匿名函数(key=lambda x:int(x[:-4]))`，其作用是将后缀名'.jpg\"屏蔽（因为\".jpg\"是4个字符，所以[:-4]的含义是从文件名开始到倒数第四个字符为止）"
   ]
  },
  {
   "cell_type": "markdown",
   "metadata": {},
   "source": []
  },
  {
   "cell_type": "markdown",
   "metadata": {},
   "source": [
    "### 二、常用的ModelCheckpoint、EarlyStopping、ReduceLROnPlateau"
   ]
  },
  {
   "cell_type": "markdown",
   "metadata": {},
   "source": [
    " - ModelCheckpoint:保存满足条件的性能最好的模型\n",
    " - EarlyStopping:用于提前停止蓄念的callbacks，具体的来说，就是可以loss减少的程度小于某个阈值的时候停止继续训练\n",
    " - ReduceLROnPlateau:当指标停止提升时，降低学习速率。\n"
   ]
  },
  {
   "cell_type": "markdown",
   "metadata": {},
   "source": [
    "### 三、classweight"
   ]
  },
  {
   "cell_type": "markdown",
   "metadata": {},
   "source": [
    "keras中加入了class_weight=\"auto\"，设置了这个参数之后，keras会自动设置class weight让每类的sample对损失的共享相等。\n"
   ]
  },
  {
   "cell_type": "code",
   "execution_count": null,
   "metadata": {},
   "outputs": [],
   "source": [
    "from sklearn.utils import class_weight\n",
    "classweight = class_weight.compute_class_weight(\"balanced\",np.unique(train_labels),train_labels)\n",
    "print(classweight)"
   ]
  },
  {
   "cell_type": "markdown",
   "metadata": {},
   "source": [
    " - class_weight:主要针对数据不均衡的问题，比如：异常检测的二项分类问题，异常数据仅占1%，正常数据占99%；此时就要设置不同类对loss的影响。\n",
    " - sampl_weight:主要解决样本质量不同的问题，比如前1000个样本的可信度高，那么它的权重就要高，后1000个样本可能有错、不可信，那么权重就要调低。"
   ]
  },
  {
   "cell_type": "markdown",
   "metadata": {},
   "source": [
    "### 四、focal loss"
   ]
  },
  {
   "cell_type": "markdown",
   "metadata": {},
   "source": [
    "focal loss就是在cross_entropy_loss前加了权重，让模型注重于去学习更难以学习的样本，并在一定程度上解决类别不均衡问题。"
   ]
  },
  {
   "cell_type": "markdown",
   "metadata": {},
   "source": [
    "关于交叉熵的文章：https://blog.csdn.net/tsyccnh/article/details/79163834\n",
    "\n",
    "关于focal loss的文章：https://blog.csdn.net/MrR1ght/article/details/93649259"
   ]
  },
  {
   "cell_type": "code",
   "execution_count": null,
   "metadata": {},
   "outputs": [],
   "source": [
    "def Cross_entropy_loss(y_true,y_pred):\n",
    "    '''\n",
    "    :param y_true: ont-hot encoding ,shape is [batch_size,nums_classes]\n",
    "    :param y_pred: shape is [batch_size,nums_classes],each example defined as probability for per class\n",
    "    :return:shape is [batch_size,], a list include cross_entropy for per example\n",
    "    '''\n",
    "    y_pred = K.clip(y_pred, K.epsilon(),1.0 - K.epsilon())\n",
    "    crossEntropyLoss = -y_true * tf.log(y_pred)\n",
    " \n",
    "    return tf.reduce_sum(crossEntropyLoss,-1)\n",
    " "
   ]
  },
  {
   "cell_type": "code",
   "execution_count": null,
   "metadata": {},
   "outputs": [],
   "source": [
    "# 模型编译\n",
    "import keras.backend as K\n",
    "\n",
    "# focal loss \n",
    "def focal_loss(alpha=0.25,gamma=2.0):\n",
    "    def focal_crossentropy(y_true, y_pred):\n",
    "        bce = K.binary_crossentropy(y_true, y_pred)\n",
    "        \n",
    "        y_pred = K.clip(y_pred, K.epsilon(), 1.- K.epsilon())\n",
    "        p_t = (y_true*y_pred) + ((1-y_true)*(1-y_pred))\n",
    "        \n",
    "        alpha_factor = 1\n",
    "        modulating_factor = 1\n",
    "\n",
    "        alpha_factor = y_true*alpha + ((1-alpha)*(1-y_true))\n",
    "        modulating_factor = K.pow((1-p_t), gamma)\n",
    "\n",
    "        # compute the final loss and return\n",
    "        return K.mean(alpha_factor*modulating_factor*bce, axis=-1)\n",
    "    return focal_crossentropy"
   ]
  }
 ],
 "metadata": {
  "kernelspec": {
   "display_name": "Python 3",
   "language": "python",
   "name": "python3"
  },
  "language_info": {
   "codemirror_mode": {
    "name": "ipython",
    "version": 3
   },
   "file_extension": ".py",
   "mimetype": "text/x-python",
   "name": "python",
   "nbconvert_exporter": "python",
   "pygments_lexer": "ipython3",
   "version": "3.7.4"
  }
 },
 "nbformat": 4,
 "nbformat_minor": 2
}
