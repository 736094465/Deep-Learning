{
 "cells": [
  {
   "cell_type": "markdown",
   "metadata": {},
   "source": [
    "### 导包"
   ]
  },
  {
   "cell_type": "code",
   "execution_count": 1,
   "metadata": {},
   "outputs": [
    {
     "name": "stderr",
     "output_type": "stream",
     "text": [
      "Using TensorFlow backend.\n",
      "D:\\software\\Anaconda\\anaconda\\lib\\site-packages\\tensorflow\\python\\framework\\dtypes.py:516: FutureWarning: Passing (type, 1) or '1type' as a synonym of type is deprecated; in a future version of numpy, it will be understood as (type, (1,)) / '(1,)type'.\n",
      "  _np_qint8 = np.dtype([(\"qint8\", np.int8, 1)])\n",
      "D:\\software\\Anaconda\\anaconda\\lib\\site-packages\\tensorflow\\python\\framework\\dtypes.py:517: FutureWarning: Passing (type, 1) or '1type' as a synonym of type is deprecated; in a future version of numpy, it will be understood as (type, (1,)) / '(1,)type'.\n",
      "  _np_quint8 = np.dtype([(\"quint8\", np.uint8, 1)])\n",
      "D:\\software\\Anaconda\\anaconda\\lib\\site-packages\\tensorflow\\python\\framework\\dtypes.py:518: FutureWarning: Passing (type, 1) or '1type' as a synonym of type is deprecated; in a future version of numpy, it will be understood as (type, (1,)) / '(1,)type'.\n",
      "  _np_qint16 = np.dtype([(\"qint16\", np.int16, 1)])\n",
      "D:\\software\\Anaconda\\anaconda\\lib\\site-packages\\tensorflow\\python\\framework\\dtypes.py:519: FutureWarning: Passing (type, 1) or '1type' as a synonym of type is deprecated; in a future version of numpy, it will be understood as (type, (1,)) / '(1,)type'.\n",
      "  _np_quint16 = np.dtype([(\"quint16\", np.uint16, 1)])\n",
      "D:\\software\\Anaconda\\anaconda\\lib\\site-packages\\tensorflow\\python\\framework\\dtypes.py:520: FutureWarning: Passing (type, 1) or '1type' as a synonym of type is deprecated; in a future version of numpy, it will be understood as (type, (1,)) / '(1,)type'.\n",
      "  _np_qint32 = np.dtype([(\"qint32\", np.int32, 1)])\n",
      "D:\\software\\Anaconda\\anaconda\\lib\\site-packages\\tensorflow\\python\\framework\\dtypes.py:525: FutureWarning: Passing (type, 1) or '1type' as a synonym of type is deprecated; in a future version of numpy, it will be understood as (type, (1,)) / '(1,)type'.\n",
      "  np_resource = np.dtype([(\"resource\", np.ubyte, 1)])\n",
      "D:\\software\\Anaconda\\anaconda\\lib\\site-packages\\tensorboard\\compat\\tensorflow_stub\\dtypes.py:541: FutureWarning: Passing (type, 1) or '1type' as a synonym of type is deprecated; in a future version of numpy, it will be understood as (type, (1,)) / '(1,)type'.\n",
      "  _np_qint8 = np.dtype([(\"qint8\", np.int8, 1)])\n",
      "D:\\software\\Anaconda\\anaconda\\lib\\site-packages\\tensorboard\\compat\\tensorflow_stub\\dtypes.py:542: FutureWarning: Passing (type, 1) or '1type' as a synonym of type is deprecated; in a future version of numpy, it will be understood as (type, (1,)) / '(1,)type'.\n",
      "  _np_quint8 = np.dtype([(\"quint8\", np.uint8, 1)])\n",
      "D:\\software\\Anaconda\\anaconda\\lib\\site-packages\\tensorboard\\compat\\tensorflow_stub\\dtypes.py:543: FutureWarning: Passing (type, 1) or '1type' as a synonym of type is deprecated; in a future version of numpy, it will be understood as (type, (1,)) / '(1,)type'.\n",
      "  _np_qint16 = np.dtype([(\"qint16\", np.int16, 1)])\n",
      "D:\\software\\Anaconda\\anaconda\\lib\\site-packages\\tensorboard\\compat\\tensorflow_stub\\dtypes.py:544: FutureWarning: Passing (type, 1) or '1type' as a synonym of type is deprecated; in a future version of numpy, it will be understood as (type, (1,)) / '(1,)type'.\n",
      "  _np_quint16 = np.dtype([(\"quint16\", np.uint16, 1)])\n",
      "D:\\software\\Anaconda\\anaconda\\lib\\site-packages\\tensorboard\\compat\\tensorflow_stub\\dtypes.py:545: FutureWarning: Passing (type, 1) or '1type' as a synonym of type is deprecated; in a future version of numpy, it will be understood as (type, (1,)) / '(1,)type'.\n",
      "  _np_qint32 = np.dtype([(\"qint32\", np.int32, 1)])\n",
      "D:\\software\\Anaconda\\anaconda\\lib\\site-packages\\tensorboard\\compat\\tensorflow_stub\\dtypes.py:550: FutureWarning: Passing (type, 1) or '1type' as a synonym of type is deprecated; in a future version of numpy, it will be understood as (type, (1,)) / '(1,)type'.\n",
      "  np_resource = np.dtype([(\"resource\", np.ubyte, 1)])\n"
     ]
    }
   ],
   "source": [
    "import pandas as pd\n",
    "import numpy as np\n",
    "import matplotlib.pyplot as plt\n",
    "import seaborn as sns\n",
    "import os\n",
    "import time\n",
    "import datetime\n",
    "\n",
    "from sklearn.model_selection import train_test_split\n",
    "from sklearn.preprocessing import LabelEncoder\n",
    "from sklearn.utils import class_weight as cw\n",
    "\n",
    "from keras import Sequential\n",
    "\n",
    "from keras.models import Model\n",
    "\n",
    "from keras.layers import LSTM,Activation,Dense,Dropout,Input,Embedding,BatchNormalization,Add,concatenate,Flatten\n",
    "from keras.layers import Conv1D,Conv2D,Convolution1D,MaxPool1D,SeparableConv1D,SpatialDropout1D,GlobalAvgPool1D,GlobalMaxPool1D,GlobalMaxPooling1D\n",
    "from keras.layers.pooling import _GlobalPooling1D\n",
    "from keras.layers import MaxPooling2D,GlobalMaxPooling2D,GlobalAveragePooling2D\n",
    "\n",
    "from keras.optimizers import RMSprop,Adam\n",
    "\n",
    "from keras.preprocessing.text import Tokenizer\n",
    "from keras.preprocessing import sequence\n",
    "\n",
    "from keras.utils import to_categorical\n",
    "\n",
    "from keras.callbacks import EarlyStopping\n",
    "from keras.callbacks import ModelCheckpoint\n",
    "from keras.callbacks import ReduceLROnPlateau\n",
    "\n",
    "%matplotlib inline\n",
    "\n",
    "import warnings\n",
    "warnings.filterwarnings(\"ignore\")"
   ]
  },
  {
   "cell_type": "code",
   "execution_count": 2,
   "metadata": {},
   "outputs": [],
   "source": [
    "# 定义一个功能函数\n",
    "def date_time(x):\n",
    "    if x==1:\n",
    "        return \"Timestamp:{:%Y-%m-%d %H:%M:%S}\".format(datetime.datetime.now())\n",
    "    if x==2:\n",
    "        return \"Timestamp:{:%Y-%b-%d %H:%M:%S}\".format(datetime.datetime.now())\n",
    "    if x==3:\n",
    "        return \"Date now:%s\" % datetime.datetime.now()\n",
    "    if x==4:\n",
    "        return \"Date today:%s\" %datetime.date.today()"
   ]
  },
  {
   "cell_type": "markdown",
   "metadata": {},
   "source": [
    "### 导入数据"
   ]
  },
  {
   "cell_type": "code",
   "execution_count": 3,
   "metadata": {},
   "outputs": [
    {
     "data": {
      "text/html": [
       "<div>\n",
       "<style scoped>\n",
       "    .dataframe tbody tr th:only-of-type {\n",
       "        vertical-align: middle;\n",
       "    }\n",
       "\n",
       "    .dataframe tbody tr th {\n",
       "        vertical-align: top;\n",
       "    }\n",
       "\n",
       "    .dataframe thead th {\n",
       "        text-align: right;\n",
       "    }\n",
       "</style>\n",
       "<table border=\"1\" class=\"dataframe\">\n",
       "  <thead>\n",
       "    <tr style=\"text-align: right;\">\n",
       "      <th></th>\n",
       "      <th>label</th>\n",
       "      <th>text</th>\n",
       "      <th>Unnamed: 2</th>\n",
       "      <th>Unnamed: 3</th>\n",
       "      <th>Unnamed: 4</th>\n",
       "    </tr>\n",
       "  </thead>\n",
       "  <tbody>\n",
       "    <tr>\n",
       "      <th>0</th>\n",
       "      <td>ham</td>\n",
       "      <td>Go until jurong point, crazy.. Available only ...</td>\n",
       "      <td>NaN</td>\n",
       "      <td>NaN</td>\n",
       "      <td>NaN</td>\n",
       "    </tr>\n",
       "    <tr>\n",
       "      <th>1</th>\n",
       "      <td>ham</td>\n",
       "      <td>Ok lar... Joking wif u oni...</td>\n",
       "      <td>NaN</td>\n",
       "      <td>NaN</td>\n",
       "      <td>NaN</td>\n",
       "    </tr>\n",
       "    <tr>\n",
       "      <th>2</th>\n",
       "      <td>spam</td>\n",
       "      <td>Free entry in 2 a wkly comp to win FA Cup fina...</td>\n",
       "      <td>NaN</td>\n",
       "      <td>NaN</td>\n",
       "      <td>NaN</td>\n",
       "    </tr>\n",
       "    <tr>\n",
       "      <th>3</th>\n",
       "      <td>ham</td>\n",
       "      <td>U dun say so early hor... U c already then say...</td>\n",
       "      <td>NaN</td>\n",
       "      <td>NaN</td>\n",
       "      <td>NaN</td>\n",
       "    </tr>\n",
       "    <tr>\n",
       "      <th>4</th>\n",
       "      <td>ham</td>\n",
       "      <td>Nah I don't think he goes to usf, he lives aro...</td>\n",
       "      <td>NaN</td>\n",
       "      <td>NaN</td>\n",
       "      <td>NaN</td>\n",
       "    </tr>\n",
       "  </tbody>\n",
       "</table>\n",
       "</div>"
      ],
      "text/plain": [
       "  label                                               text  Unnamed: 2  \\\n",
       "0   ham  Go until jurong point, crazy.. Available only ...         NaN   \n",
       "1   ham                      Ok lar... Joking wif u oni...         NaN   \n",
       "2  spam  Free entry in 2 a wkly comp to win FA Cup fina...         NaN   \n",
       "3   ham  U dun say so early hor... U c already then say...         NaN   \n",
       "4   ham  Nah I don't think he goes to usf, he lives aro...         NaN   \n",
       "\n",
       "   Unnamed: 3 Unnamed: 4  \n",
       "0         NaN        NaN  \n",
       "1         NaN        NaN  \n",
       "2         NaN        NaN  \n",
       "3         NaN        NaN  \n",
       "4         NaN        NaN  "
      ]
     },
     "execution_count": 3,
     "metadata": {},
     "output_type": "execute_result"
    }
   ],
   "source": [
    "#train_df = pd.read_csv(\"./sms_spam/sms_train.txt\",encoding=\"utf-8\",header=None,sep=\"\\t\",names=[\"label\",\"text\"])\n",
    "train_df = pd.read_csv(\"./sms_spam/spam.csv\",encoding=\"latin-1\",delimiter=\",\")\n",
    "train_df.head()"
   ]
  },
  {
   "cell_type": "code",
   "execution_count": 4,
   "metadata": {},
   "outputs": [
    {
     "data": {
      "text/plain": [
       "Text(0.5, 0, 'Label')"
      ]
     },
     "execution_count": 4,
     "metadata": {},
     "output_type": "execute_result"
    },
    {
     "data": {
      "image/png": "[encoded data removed]",
      "text/plain": [
       "<Figure size 432x288 with 1 Axes>"
      ]
     },
     "metadata": {
      "needs_background": "light"
     },
     "output_type": "display_data"
    }
   ],
   "source": [
    "# 统计一下\n",
    "sns.countplot(train_df[\"label\"])\n",
    "plt.title(\"Number of ham and spam messages\")\n",
    "plt.xlabel(\"Label\")"
   ]
  },
  {
   "cell_type": "markdown",
   "metadata": {},
   "source": [
    "### 标签数据处理"
   ]
  },
  {
   "cell_type": "code",
   "execution_count": 5,
   "metadata": {},
   "outputs": [],
   "source": [
    "# 对标签进行处理\n",
    "#  LabelEncoder 是对不连续的数字或者文本进行编号\n",
    "# LabelEncoder可以将标签分配一个0—n_classes-1之间的编码\n",
    "\n",
    "x_train = train_df[\"text\"]\n",
    "y_train = train_df[\"label\"]\n",
    "\n",
    "le = LabelEncoder()\n",
    "y_train = le.fit_transform(y_train)\n",
    "y_train = y_train.reshape(-1,1)"
   ]
  },
  {
   "cell_type": "markdown",
   "metadata": {},
   "source": [
    "### 文本数据处理"
   ]
  },
  {
   "cell_type": "code",
   "execution_count": 6,
   "metadata": {},
   "outputs": [],
   "source": [
    "# 分词器Tokenizer   Tokenizer是一个用于向量化文本，或将文本转换为序列（即单词在字典中的下标构成的列表，从1算起）的类\n",
    "       # 类方法\n",
    "           # fit_on_texts(texts) :texts用于训练的文本列表\n",
    "          # texts_to_sequences(texts):texts待转为序列的文本列表 返回值:序列的列表，列表中的每个序列对应于一段输入文本\n",
    "\n",
    "# 填充序列pad_sequences  将长为nb_smaples的序列转换为(nb_samples,nb_timesteps)2Dnumpy attay.如果提供maxlen,nb_timesteps=maxlen,否则其值为最长序列的长度。\n",
    "# 其它短于该长度的序列都会在后部填充0以达到该长度。长与nb_timesteps的序列会被阶段，以使其匹配该目标长度。\n",
    "\n",
    "#max_words = 1000\n",
    "#max_len = 150\n",
    "max_words = len(set(\" \".join(x_train).split()))\n",
    "max_len = x_train.apply(lambda x:len(x)).max()\n",
    "\n",
    "\n",
    "tok = Tokenizer(num_words=max_words)\n",
    "\n",
    "tok.fit_on_texts(x_train)\n",
    "\n",
    "sequences = tok.texts_to_sequences(x_train)\n",
    "sequences_matrix = sequence.pad_sequences(sequences,maxlen=max_len)"
   ]
  },
  {
   "cell_type": "markdown",
   "metadata": {},
   "source": [
    "- sklearn.utils.class_weight 样本均衡\n",
    "    - 当我们的数据，有多个类别，每个类别的数据量有很大差距时，这时需要对每个类别的样本做一次均衡，这样会让每个类别的特征都在一定程度上被模型学习\n"
   ]
  },
  {
   "cell_type": "code",
   "execution_count": 7,
   "metadata": {},
   "outputs": [],
   "source": [
    "# 计算各个类的weights\n",
    "def get_weight(y):\n",
    "    class_weight_current = cw.compute_class_weight(\"balanced\",np.unique(y),y)\n",
    "    return class_weight_current\n",
    "\n",
    "class_weight = get_weight(y_train.flatten())"
   ]
  },
  {
   "cell_type": "markdown",
   "metadata": {},
   "source": [
    "- ModelCheckpoint：\n",
    "    - 作用：该回调函数将在每个epoch后保存模型到filepath\n",
    "    - 参数：\n",
    "        - filename:字符串，保存模型的路径，filepath可以是格式化的字符串，里面的\n",
    "        - monitor:需要监视的值，通常为:val_acc或val_loss或acc或loss\n",
    "        - verbose:信息展示模型，0或1。默认为0表示不输出该信息，为1表示输出epoch模型保存信息。\n",
    "        - save_best_only:当设置为Trur时，将只保存在验证集上性能最好的模型\n",
    "        - mode:\"auto\",\"min\",\"max\"之一，在save_best_only=True时决定性能最佳模型的评判准则。\n",
    "        - save_weights_only:若设置为True时，则只保存模型权重，否则将保存整个模型（包括模型结构，配置信息等）\n",
    "        - period:CheckPoint之间的间隔的epoch数\n",
    "        \n",
    "- EarlyStopping：\n",
    "    - 作用：当监测值不再改善时，该回调函数将中止训练\n",
    "    - 参数：\n",
    "        - monitor:需要监视的量，通常为val_acc或val_loss或acc或loss\n",
    "        - patience:当early stop被激活（如发现loss相比上patience个epoch训练没有下降），则经过patience个epoch后停止训练。\n",
    "        - verbose:信息展示模型\n",
    "        - mode:\"auto\",\"min\",\"max\"之一，在min模式下，如果检测值停止下降则中止训练。在max模式下，当检测值不再上升则停止训练。\n",
    "        \n",
    "- ReduceLROnPlateau:\n",
    "    - 作用：当评价指标不再提升时，减少学习率。当学习停滞时，减少2倍或10倍的学习率通常能够获得较好的效果。该回调函数检测指标的情况，如果在patience个epoch中看不到模型性能提升，则减少学习率。\n",
    "    - 参数：\n",
    "        - monitor:被监测的量\n",
    "        - factor:每次减少学习率的因子，学习率将以lr=lr*factor的形式被技术那好\n",
    "        - patience：当patience个epoch过去而模型性能不提升时，学习率减少的动作会被触发\n",
    "        - mode:\"auto\",\"min\",\"max\"之一，在min模式下，如果检测值触发学习率减少。在max模式下，当检测值不再上升则触发学习率减少\n",
    "        - epsilon:阈值，用来确定是否进入检测值的“平原区”\n",
    "        - cooldown:学习率减少后，会经过cooldown个epoch才重新进行正常操作\n",
    "        - min_lr:学习率的下限。"
   ]
  },
  {
   "cell_type": "code",
   "execution_count": 8,
   "metadata": {},
   "outputs": [
    {
     "name": "stdout",
     "output_type": "stream",
     "text": [
      "Setting Callbacks\n",
      "Set Callbacks at Timestamp:2019-10-08 16:34:11\n"
     ]
    }
   ],
   "source": [
    "print(\"Setting Callbacks\")\n",
    "\n",
    "checkpoint = ModelCheckpoint(\"model.hdf5\",\n",
    "                                                     monitor=\"val_acc\",\n",
    "                                                     save_best_only=True,\n",
    "                                                     mode=\"max\")\n",
    "\n",
    "early_stopping = EarlyStopping(monitor=\"val_loss\",\n",
    "                                                     patience=2,\n",
    "                                                     verbose=1,\n",
    "                                                     restore_best_weights=True,\n",
    "                                                     mode=\"min\")\n",
    "\n",
    "reduce_lr = ReduceLROnPlateau(monitor=\"val_loss\",\n",
    "                                                      factor=0.6,\n",
    "                                                      patience=1,\n",
    "                                                      verbose=1,\n",
    "                                                      mode=\"min\")\n",
    "\n",
    "callbacks=[checkpoint,early_stopping,reduce_lr]\n",
    "print(\"Set Callbacks at\",date_time(1))"
   ]
  },
  {
   "cell_type": "markdown",
   "metadata": {},
   "source": [
    "### 定义深度学习模型"
   ]
  },
  {
   "cell_type": "code",
   "execution_count": 9,
   "metadata": {},
   "outputs": [],
   "source": [
    "# 定义RNN模型\n",
    "def RNN():\n",
    "    model = Sequential()\n",
    "    \n",
    "    model.add(Embedding(max_words,50,input_length=max_len))\n",
    "    model.add(LSTM(64))\n",
    "    \n",
    "    model.add(Dropout(0.5))\n",
    "    model.add(BatchNormalization())\n",
    "    model.add(Dropout(0.5))\n",
    "    \n",
    "    model.add(Dense(256,activation=\"relu\"))\n",
    "    \n",
    "    model.add(Dropout(0.5))\n",
    "    model.add(BatchNormalization())\n",
    "    model.add(Dropout(0.5))\n",
    "    \n",
    "    model.add(Dense(1,activation=\"sigmoid\"))\n",
    "    \n",
    "    model.summary()\n",
    "    \n",
    "    return model"
   ]
  },
  {
   "cell_type": "code",
   "execution_count": 10,
   "metadata": {},
   "outputs": [],
   "source": [
    "# 定义CNN模型\n",
    "def CNN():\n",
    "    model=Sequential()\n",
    "    \n",
    "    model.add(Embedding(max_words,50,input_length=max_len))\n",
    "    \n",
    "    model.add(Conv1D(64,3,padding=\"valid\",activation=\"relu\",strides=1))\n",
    "    model.add(GlobalMaxPooling1D())\n",
    "\n",
    "    model.add(Dropout(0.5))\n",
    "    model.add(BatchNormalization())\n",
    "    model.add(Dropout(0.5))\n",
    "    \n",
    "    model.add(Dense(256,activation=\"relu\"))\n",
    "    \n",
    "    model.add(Dropout(0.5))\n",
    "    model.add(BatchNormalization())\n",
    "    model.add(Dropout(0.5))\n",
    "    \n",
    "    model.add(Dense(1,activation=\"sigmoid\"))\n",
    "\n",
    "    model.summary()\n",
    "    return model"
   ]
  },
  {
   "cell_type": "code",
   "execution_count": 11,
   "metadata": {},
   "outputs": [],
   "source": [
    "# 画曲线\n",
    "def plot_performance(history=None,figure_directory=None,ylim_pad=[0,0]):\n",
    "    xlabel=\"Epoch\"\n",
    "    legends=[\"Training\",\"Validation\"]\n",
    "    \n",
    "    plt.figure(figsize=(20,5))\n",
    "    \n",
    "    y1=history.history[\"accuracy\"]\n",
    "    y2=history.history[\"val_accuracy\"]\n",
    "    \n",
    "    min_y=min(min(y1),min(y2))-ylim_pad[0]\n",
    "    max_y=max(max(y1),max(y2))+ylim_pad[0]\n",
    "    \n",
    "    plt.subplot(121)\n",
    "    \n",
    "    plt.plot(y1)\n",
    "    plt.plot(y2)\n",
    "    \n",
    "    plt.title(\"Model Accuracy\\n\"+date_time(1),fontsize=17)\n",
    "    plt.xlabel(xlabel,fontsize=15)\n",
    "    plt.ylabel(\"Accuracy\",fontsize=15)\n",
    "    plt.ylim(min_y,max_y)\n",
    "    plt.legend(legends,loc=\"upper left\")\n",
    "    plt.grid()\n",
    "    \n",
    "    y1=history.history[\"loss\"]\n",
    "    y2=history.history[\"val_loss\"]\n",
    "    \n",
    "    min_y=min(min(y1),min(y2))-ylim_pad[1]\n",
    "    max_y=max(max(y1),max(y2))+ylim_pad[1]\n",
    "    \n",
    "    plt.subplot(122)\n",
    "    \n",
    "    plt.plot(y1)\n",
    "    plt.plot(y2)\n",
    "    \n",
    "    plt.title(\"Model Loss:\\n\"+date_time(1),fontsize=17)\n",
    "    plt.xlabel(xlabel,fontsize=15)\n",
    "    plt.ylabel(\"Loss\",fontsize=15)\n",
    "    plt.ylim(min_y,max_y)\n",
    "    plt.legend(legends,loc=\"upper left\")\n",
    "    plt.grid()\n",
    "    plt.show()"
   ]
  },
  {
   "cell_type": "markdown",
   "metadata": {},
   "source": [
    "### RNN"
   ]
  },
  {
   "cell_type": "code",
   "execution_count": 12,
   "metadata": {},
   "outputs": [
    {
     "name": "stdout",
     "output_type": "stream",
     "text": [
      "Model: \"sequential_1\"\n",
      "_________________________________________________________________\n",
      "Layer (type)                 Output Shape              Param #   \n",
      "=================================================================\n",
      "embedding_1 (Embedding)      (None, 910, 50)           779100    \n",
      "_________________________________________________________________\n",
      "lstm_1 (LSTM)                (None, 64)                29440     \n",
      "_________________________________________________________________\n",
      "dropout_1 (Dropout)          (None, 64)                0         \n",
      "_________________________________________________________________\n",
      "batch_normalization_1 (Batch (None, 64)                256       \n",
      "_________________________________________________________________\n",
      "dropout_2 (Dropout)          (None, 64)                0         \n",
      "_________________________________________________________________\n",
      "dense_1 (Dense)              (None, 256)               16640     \n",
      "_________________________________________________________________\n",
      "dropout_3 (Dropout)          (None, 256)               0         \n",
      "_________________________________________________________________\n",
      "batch_normalization_2 (Batch (None, 256)               1024      \n",
      "_________________________________________________________________\n",
      "dropout_4 (Dropout)          (None, 256)               0         \n",
      "_________________________________________________________________\n",
      "dense_2 (Dense)              (None, 1)                 257       \n",
      "=================================================================\n",
      "Total params: 826,717\n",
      "Trainable params: 826,077\n",
      "Non-trainable params: 640\n",
      "_________________________________________________________________\n"
     ]
    }
   ],
   "source": [
    "rnn_model = RNN()"
   ]
  },
  {
   "cell_type": "code",
   "execution_count": 13,
   "metadata": {},
   "outputs": [],
   "source": [
    "loss = \"binary_crossentropy\"\n",
    "metrics=[\"accuracy\"]"
   ]
  },
  {
   "cell_type": "code",
   "execution_count": 14,
   "metadata": {},
   "outputs": [
    {
     "name": "stdout",
     "output_type": "stream",
     "text": [
      "Starting...\n",
      "\n",
      "Timestamp:2019-10-08 16:34:12\n",
      "\n",
      "\n",
      "Compliling Model...\n",
      "\n",
      "WARNING:tensorflow:From D:\\software\\Anaconda\\anaconda\\lib\\site-packages\\tensorflow\\python\\ops\\nn_impl.py:180: add_dispatch_support.<locals>.wrapper (from tensorflow.python.ops.array_ops) is deprecated and will be removed in a future version.\n",
      "Instructions for updating:\n",
      "Use tf.where in 2.0, which has the same broadcast rule as np.where\n",
      "Trainning Model...\n",
      "\n",
      "WARNING:tensorflow:From D:\\software\\Anaconda\\anaconda\\lib\\site-packages\\keras\\backend\\tensorflow_backend.py:422: The name tf.global_variables is deprecated. Please use tf.compat.v1.global_variables instead.\n",
      "\n",
      "Train on 4457 samples, validate on 1115 samples\n",
      "Epoch 1/100\n",
      "4457/4457 [==============================] - 45s 10ms/step - loss: 0.8078 - accuracy: 0.6074 - val_loss: 0.4937 - val_accuracy: 0.8700\n",
      "Epoch 2/100\n",
      "4457/4457 [==============================] - 37s 8ms/step - loss: 0.4239 - accuracy: 0.8142 - val_loss: 0.3653 - val_accuracy: 0.8700\n",
      "Epoch 3/100\n",
      "4457/4457 [==============================] - 36s 8ms/step - loss: 0.1575 - accuracy: 0.9637 - val_loss: 0.2177 - val_accuracy: 0.9256\n",
      "Epoch 4/100\n",
      "4457/4457 [==============================] - 35s 8ms/step - loss: 0.0762 - accuracy: 0.9879 - val_loss: 0.2155 - val_accuracy: 0.8969\n",
      "Epoch 5/100\n",
      "4457/4457 [==============================] - 36s 8ms/step - loss: 0.0435 - accuracy: 0.9935 - val_loss: 0.1521 - val_accuracy: 0.9426\n",
      "Epoch 6/100\n",
      "4457/4457 [==============================] - 37s 8ms/step - loss: 0.0318 - accuracy: 0.9955 - val_loss: 0.1827 - val_accuracy: 0.9175\n",
      "\n",
      "Epoch 00006: ReduceLROnPlateau reducing learning rate to 0.0006000000284984708.\n",
      "Epoch 7/100\n",
      "4457/4457 [==============================] - 35s 8ms/step - loss: 0.0218 - accuracy: 0.9978 - val_loss: 0.1431 - val_accuracy: 0.9408\n",
      "Epoch 8/100\n",
      "4457/4457 [==============================] - 34s 8ms/step - loss: 0.0169 - accuracy: 0.9978 - val_loss: 0.1301 - val_accuracy: 0.9471\n",
      "Epoch 9/100\n",
      "4457/4457 [==============================] - 36s 8ms/step - loss: 0.0179 - accuracy: 0.9971 - val_loss: 0.0868 - val_accuracy: 0.9731\n",
      "Epoch 10/100\n",
      "4457/4457 [==============================] - 33s 7ms/step - loss: 0.0180 - accuracy: 0.9971 - val_loss: 0.0887 - val_accuracy: 0.9704\n",
      "\n",
      "Epoch 00010: ReduceLROnPlateau reducing learning rate to 0.0003600000170990825.\n",
      "Epoch 11/100\n",
      "4457/4457 [==============================] - 31s 7ms/step - loss: 0.0108 - accuracy: 0.9991 - val_loss: 0.0715 - val_accuracy: 0.9749\n",
      "Epoch 12/100\n",
      "4457/4457 [==============================] - 33s 7ms/step - loss: 0.0109 - accuracy: 0.9984 - val_loss: 0.0625 - val_accuracy: 0.9803\n",
      "Epoch 13/100\n",
      "4457/4457 [==============================] - 32s 7ms/step - loss: 0.0087 - accuracy: 0.9991 - val_loss: 0.0585 - val_accuracy: 0.9812\n",
      "Epoch 14/100\n",
      "4457/4457 [==============================] - 34s 8ms/step - loss: 0.0091 - accuracy: 0.9991 - val_loss: 0.0570 - val_accuracy: 0.9812\n",
      "Epoch 15/100\n",
      "4457/4457 [==============================] - 36s 8ms/step - loss: 0.0101 - accuracy: 0.9989 - val_loss: 0.0397 - val_accuracy: 0.9874\n",
      "Epoch 16/100\n",
      "4457/4457 [==============================] - 35s 8ms/step - loss: 0.0071 - accuracy: 0.9991 - val_loss: 0.0399 - val_accuracy: 0.9865\n",
      "\n",
      "Epoch 00016: ReduceLROnPlateau reducing learning rate to 0.00021600000327453016.\n",
      "Epoch 17/100\n",
      "4457/4457 [==============================] - 32s 7ms/step - loss: 0.0074 - accuracy: 0.9989 - val_loss: 0.0417 - val_accuracy: 0.9865\n",
      "Restoring model weights from the end of the best epoch\n",
      "\n",
      "Epoch 00017: ReduceLROnPlateau reducing learning rate to 0.00012960000021848827.\n",
      "Epoch 00017: early stopping\n",
      "\n",
      "Elapsed Time: 00:10:00\n",
      "Completed Model Training Timestamp:2019-10-08 16:44:12\n"
     ]
    }
   ],
   "source": [
    "# RNN模型训练\n",
    "print(\"Starting...\\n\")\n",
    "\n",
    "start_time = time.time()\n",
    "print(date_time(1))\n",
    "learning_rate=0.001\n",
    "optimizer=Adam(learning_rate)\n",
    "\n",
    "print(\"\\n\\nCompliling Model...\\n\")\n",
    "rnn_model.compile(optimizer=optimizer,\n",
    "                                 loss=loss,\n",
    "                                 metrics=metrics)\n",
    "\n",
    "verbose = 1\n",
    "epochs=100\n",
    "batch_size=128\n",
    "validation_split=0.2\n",
    "print(\"Trainning Model...\\n\")\n",
    "\n",
    "rnn_history=rnn_model.fit(sequences_matrix,\n",
    "                                            y_train,\n",
    "                                            batch_size=batch_size,\n",
    "                                            epochs=epochs,\n",
    "                                            verbose=1,\n",
    "                                            callbacks=callbacks,\n",
    "                                            validation_split=validation_split,\n",
    "                                            class_weight=class_weight)\n",
    "\n",
    "elapsed_time=time.time()-start_time\n",
    "elapsed_time=time.strftime(\"%H:%M:%S\",time.gmtime(elapsed_time))\n",
    "\n",
    "print(\"\\nElapsed Time: \"+elapsed_time)\n",
    "print(\"Completed Model Training\",date_time(1))"
   ]
  },
  {
   "cell_type": "code",
   "execution_count": 15,
   "metadata": {},
   "outputs": [
    {
     "data": {
      "image/png": "[encoded data removed]",
      "text/plain": [
       "<Figure size 1440x360 with 2 Axes>"
      ]
     },
     "metadata": {
      "needs_background": "light"
     },
     "output_type": "display_data"
    }
   ],
   "source": [
    "# 可视化\n",
    "plot_performance(history=rnn_history)"
   ]
  },
  {
   "cell_type": "markdown",
   "metadata": {},
   "source": [
    "### CNN"
   ]
  },
  {
   "cell_type": "code",
   "execution_count": 16,
   "metadata": {},
   "outputs": [
    {
     "name": "stdout",
     "output_type": "stream",
     "text": [
      "Model: \"sequential_2\"\n",
      "_________________________________________________________________\n",
      "Layer (type)                 Output Shape              Param #   \n",
      "=================================================================\n",
      "embedding_2 (Embedding)      (None, 910, 50)           779100    \n",
      "_________________________________________________________________\n",
      "conv1d_1 (Conv1D)            (None, 908, 64)           9664      \n",
      "_________________________________________________________________\n",
      "global_max_pooling1d_1 (Glob (None, 64)                0         \n",
      "_________________________________________________________________\n",
      "dropout_5 (Dropout)          (None, 64)                0         \n",
      "_________________________________________________________________\n",
      "batch_normalization_3 (Batch (None, 64)                256       \n",
      "_________________________________________________________________\n",
      "dropout_6 (Dropout)          (None, 64)                0         \n",
      "_________________________________________________________________\n",
      "dense_3 (Dense)              (None, 256)               16640     \n",
      "_________________________________________________________________\n",
      "dropout_7 (Dropout)          (None, 256)               0         \n",
      "_________________________________________________________________\n",
      "batch_normalization_4 (Batch (None, 256)               1024      \n",
      "_________________________________________________________________\n",
      "dropout_8 (Dropout)          (None, 256)               0         \n",
      "_________________________________________________________________\n",
      "dense_4 (Dense)              (None, 1)                 257       \n",
      "=================================================================\n",
      "Total params: 806,941\n",
      "Trainable params: 806,301\n",
      "Non-trainable params: 640\n",
      "_________________________________________________________________\n"
     ]
    }
   ],
   "source": [
    "cnn_model = CNN()"
   ]
  },
  {
   "cell_type": "code",
   "execution_count": 21,
   "metadata": {},
   "outputs": [
    {
     "name": "stdout",
     "output_type": "stream",
     "text": [
      "Starting...\n",
      "\n",
      "Timestamp:2019-10-08 17:19:02\n",
      "\n",
      "\n",
      "Compliling Model...\n",
      "\n",
      "Trainning Model...\n",
      "\n",
      "Train on 4457 samples, validate on 1115 samples\n",
      "Epoch 1/100\n",
      "4457/4457 [==============================] - 2s 527us/step - loss: 0.1648 - accuracy: 0.9466 - val_loss: 0.4399 - val_accuracy: 0.8700\n",
      "Epoch 2/100\n",
      "4457/4457 [==============================] - 1s 288us/step - loss: 0.1118 - accuracy: 0.9630 - val_loss: 0.3781 - val_accuracy: 0.8700\n",
      "Epoch 3/100\n",
      "4457/4457 [==============================] - 1s 285us/step - loss: 0.0773 - accuracy: 0.9762 - val_loss: 0.2767 - val_accuracy: 0.8843\n",
      "Epoch 4/100\n",
      "4457/4457 [==============================] - 1s 284us/step - loss: 0.0635 - accuracy: 0.9805 - val_loss: 0.1647 - val_accuracy: 0.9381\n",
      "Epoch 5/100\n",
      "4457/4457 [==============================] - 1s 290us/step - loss: 0.0590 - accuracy: 0.9834 - val_loss: 0.1126 - val_accuracy: 0.9570\n",
      "Epoch 6/100\n",
      "4457/4457 [==============================] - 1s 285us/step - loss: 0.0359 - accuracy: 0.9897 - val_loss: 0.0789 - val_accuracy: 0.9740\n",
      "Epoch 7/100\n",
      "4457/4457 [==============================] - 1s 288us/step - loss: 0.0315 - accuracy: 0.9904 - val_loss: 0.0711 - val_accuracy: 0.9767\n",
      "Epoch 8/100\n",
      "4457/4457 [==============================] - 1s 294us/step - loss: 0.0340 - accuracy: 0.9888 - val_loss: 0.0575 - val_accuracy: 0.9857\n",
      "Epoch 9/100\n",
      "4457/4457 [==============================] - 1s 294us/step - loss: 0.0319 - accuracy: 0.9906 - val_loss: 0.0538 - val_accuracy: 0.9839\n",
      "Epoch 10/100\n",
      "4457/4457 [==============================] - 1s 288us/step - loss: 0.0234 - accuracy: 0.9928 - val_loss: 0.0558 - val_accuracy: 0.9857\n",
      "\n",
      "Epoch 00010: ReduceLROnPlateau reducing learning rate to 0.0006000000284984708.\n",
      "Epoch 11/100\n",
      "4457/4457 [==============================] - 1s 290us/step - loss: 0.0197 - accuracy: 0.9937 - val_loss: 0.0557 - val_accuracy: 0.9865\n",
      "Restoring model weights from the end of the best epoch\n",
      "\n",
      "Epoch 00011: ReduceLROnPlateau reducing learning rate to 0.0003600000170990825.\n",
      "Epoch 00011: early stopping\n",
      "\n",
      "Elapsed Time: 00:00:17\n",
      "Completed Model Training Timestamp:2019-10-08 17:19:19\n"
     ]
    }
   ],
   "source": [
    "# CNN模型训练\n",
    "print(\"Starting...\\n\")\n",
    "\n",
    "start_time = time.time()\n",
    "print(date_time(1))\n",
    "\n",
    "\n",
    "print(\"\\n\\nCompliling Model...\\n\")\n",
    "learning_rate=0.001\n",
    "optimizer=Adam(learning_rate)\n",
    "cnn_model.compile(optimizer=optimizer,\n",
    "                                 loss=loss,\n",
    "                                 metrics=metrics)\n",
    "\n",
    "verbose = 1\n",
    "epochs=100\n",
    "batch_size=64\n",
    "validation_split=0.2\n",
    "print(\"Trainning Model...\\n\")\n",
    "\n",
    "cnn_history=cnn_model.fit(sequences_matrix,\n",
    "                                            y_train,\n",
    "                                            batch_size=batch_size,\n",
    "                                            epochs=epochs,\n",
    "                                            verbose=1,\n",
    "                                            callbacks=callbacks,\n",
    "                                            validation_split=validation_split,\n",
    "                                            class_weight=class_weight)\n",
    "\n",
    "elapsed_time=time.time()-start_time\n",
    "elapsed_time=time.strftime(\"%H:%M:%S\",time.gmtime(elapsed_time))\n",
    "\n",
    "print(\"\\nElapsed Time: \"+elapsed_time)\n",
    "print(\"Completed Model Training\",date_time(1))"
   ]
  },
  {
   "cell_type": "code",
   "execution_count": 22,
   "metadata": {},
   "outputs": [
    {
     "data": {
      "image/png": "[encoded data removed]",
      "text/plain": [
       "<Figure size 1440x360 with 2 Axes>"
      ]
     },
     "metadata": {
      "needs_background": "light"
     },
     "output_type": "display_data"
    }
   ],
   "source": [
    "# 可视化\n",
    "plot_performance(history=cnn_history)"
   ]
  },
  {
   "cell_type": "markdown",
   "metadata": {},
   "source": [
    "### 导入模型"
   ]
  },
  {
   "cell_type": "code",
   "execution_count": 23,
   "metadata": {},
   "outputs": [],
   "source": [
    "# model.load_weights(\"lstm.hdf5\")"
   ]
  },
  {
   "cell_type": "markdown",
   "metadata": {},
   "source": [
    "### 提交结果"
   ]
  },
  {
   "cell_type": "code",
   "execution_count": null,
   "metadata": {},
   "outputs": [],
   "source": [
    "# 数据导入\n",
    "data = pd.read_csv(\"./sms_spam/sms_test.txt\",encoding=\"utf-8\",header=None,sep=\"\\t\",names=[\"text\"])\n",
    "data.head()"
   ]
  },
  {
   "cell_type": "code",
   "execution_count": null,
   "metadata": {},
   "outputs": [],
   "source": [
    "predict_data = data[\"text\"]"
   ]
  },
  {
   "cell_type": "code",
   "execution_count": null,
   "metadata": {},
   "outputs": [],
   "source": [
    "# 将带预测数据转为序列\n",
    "predict_sequences = tok.texts_to_sequences(predict_data)\n",
    "predict_sequences_matrix = sequence.pad_sequences(predict_sequences,maxlen=max_len)"
   ]
  },
  {
   "cell_type": "code",
   "execution_count": null,
   "metadata": {},
   "outputs": [],
   "source": [
    "# 进行预测\n",
    "# RNN预测\n",
    "rnn_predict_num = rnn_model.predict_classes(predict_sequences_matrix )\n",
    "# CNN预测\n",
    "cnn_predict_num = cnn_model.predict_classes(predict_sequences_matrix)"
   ]
  },
  {
   "cell_type": "code",
   "execution_count": null,
   "metadata": {},
   "outputs": [],
   "source": [
    "# 查看\n",
    "print(rnn_predict_num[:10])\n",
    "print(cnn_predict_num[:10])"
   ]
  },
  {
   "cell_type": "code",
   "execution_count": null,
   "metadata": {},
   "outputs": [],
   "source": [
    "# 生成id\n",
    "id = np.arange(0,len(data))\n",
    "id += 1\n",
    "\n",
    "# 生成提交文件\n",
    "cnn_df = pd.DataFrame({\"id\":id,\"predict\":cnn_predict_num[:,0]})\n",
    "cnn_df.to_csv(\"cnn_submit.csv\",index=None)\n",
    "\n",
    "rnn_df = pd.DataFrame({\"id\":id,\"predict\":rnn_predict_num[:,0]})\n",
    "rnn_df.to_csv(\"rnn_submit.csv\",index=None)"
   ]
  },
  {
   "cell_type": "code",
   "execution_count": null,
   "metadata": {},
   "outputs": [],
   "source": []
  }
 ],
 "metadata": {
  "kernelspec": {
   "display_name": "Python 3",
   "language": "python",
   "name": "python3"
  },
  "language_info": {
   "codemirror_mode": {
    "name": "ipython",
    "version": 3
   },
   "file_extension": ".py",
   "mimetype": "text/x-python",
   "name": "python",
   "nbconvert_exporter": "python",
   "pygments_lexer": "ipython3",
   "version": "3.7.3"
  }
 },
 "nbformat": 4,
 "nbformat_minor": 2
}
