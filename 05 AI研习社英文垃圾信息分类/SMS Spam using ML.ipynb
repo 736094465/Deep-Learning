{
 "cells": [
  {
   "cell_type": "markdown",
   "metadata": {},
   "source": [
    "### 导包"
   ]
  },
  {
   "cell_type": "code",
   "execution_count": 1,
   "metadata": {},
   "outputs": [],
   "source": [
    "import os\n",
    "import pandas as pd\n",
    "import numpy as np\n",
    "import matplotlib.pyplot as plt\n",
    "import seaborn as sns\n",
    "%matplotlib inline\n",
    "import warnings\n",
    "warnings.filterwarnings(\"ignore\")"
   ]
  },
  {
   "cell_type": "markdown",
   "metadata": {},
   "source": [
    "### 导入数据"
   ]
  },
  {
   "cell_type": "code",
   "execution_count": 2,
   "metadata": {},
   "outputs": [
    {
     "name": "stdout",
     "output_type": "stream",
     "text": [
      "['sms_test.txt', 'sms_train.txt', 'spam.csv']\n"
     ]
    }
   ],
   "source": [
    "sms_data_path = \"./sms_spam/\"\n",
    "print(os.listdir(sms_data_path))"
   ]
  },
  {
   "cell_type": "code",
   "execution_count": 3,
   "metadata": {},
   "outputs": [
    {
     "data": {
      "text/html": [
       "<div>\n",
       "<style scoped>\n",
       "    .dataframe tbody tr th:only-of-type {\n",
       "        vertical-align: middle;\n",
       "    }\n",
       "\n",
       "    .dataframe tbody tr th {\n",
       "        vertical-align: top;\n",
       "    }\n",
       "\n",
       "    .dataframe thead th {\n",
       "        text-align: right;\n",
       "    }\n",
       "</style>\n",
       "<table border=\"1\" class=\"dataframe\">\n",
       "  <thead>\n",
       "    <tr style=\"text-align: right;\">\n",
       "      <th></th>\n",
       "      <th>label</th>\n",
       "      <th>text</th>\n",
       "    </tr>\n",
       "  </thead>\n",
       "  <tbody>\n",
       "    <tr>\n",
       "      <th>0</th>\n",
       "      <td>ham</td>\n",
       "      <td>Ü collecting ur laptop then going to configure...</td>\n",
       "    </tr>\n",
       "    <tr>\n",
       "      <th>1</th>\n",
       "      <td>ham</td>\n",
       "      <td>Sorry, I can't text &amp;amp; drive coherently, se...</td>\n",
       "    </tr>\n",
       "    <tr>\n",
       "      <th>2</th>\n",
       "      <td>spam</td>\n",
       "      <td>PRIVATE! Your 2003 Account Statement for shows...</td>\n",
       "    </tr>\n",
       "    <tr>\n",
       "      <th>3</th>\n",
       "      <td>ham</td>\n",
       "      <td>What's up. Do you want me to come online?</td>\n",
       "    </tr>\n",
       "    <tr>\n",
       "      <th>4</th>\n",
       "      <td>ham</td>\n",
       "      <td>The guy did some bitching but I acted like i'd...</td>\n",
       "    </tr>\n",
       "  </tbody>\n",
       "</table>\n",
       "</div>"
      ],
      "text/plain": [
       "  label                                               text\n",
       "0   ham  Ü collecting ur laptop then going to configure...\n",
       "1   ham  Sorry, I can't text &amp; drive coherently, se...\n",
       "2  spam  PRIVATE! Your 2003 Account Statement for shows...\n",
       "3   ham          What's up. Do you want me to come online?\n",
       "4   ham  The guy did some bitching but I acted like i'd..."
      ]
     },
     "execution_count": 3,
     "metadata": {},
     "output_type": "execute_result"
    }
   ],
   "source": [
    "sms_data = pd.read_csv(os.path.join(sms_data_path,\"sms_train.txt\"),encoding=\"utf-8\",header=None,sep = '\\t',names=[\"label\",\"text\"])\n",
    "sms_data.head()"
   ]
  },
  {
   "cell_type": "code",
   "execution_count": 4,
   "metadata": {},
   "outputs": [
    {
     "data": {
      "text/html": [
       "<div>\n",
       "<style scoped>\n",
       "    .dataframe tbody tr th:only-of-type {\n",
       "        vertical-align: middle;\n",
       "    }\n",
       "\n",
       "    .dataframe tbody tr th {\n",
       "        vertical-align: top;\n",
       "    }\n",
       "\n",
       "    .dataframe thead th {\n",
       "        text-align: right;\n",
       "    }\n",
       "</style>\n",
       "<table border=\"1\" class=\"dataframe\">\n",
       "  <thead>\n",
       "    <tr style=\"text-align: right;\">\n",
       "      <th></th>\n",
       "      <th>label</th>\n",
       "      <th>text</th>\n",
       "    </tr>\n",
       "  </thead>\n",
       "  <tbody>\n",
       "    <tr>\n",
       "      <th>3443</th>\n",
       "      <td>ham</td>\n",
       "      <td>Babe ! What are you doing ? Where are you ? Wh...</td>\n",
       "    </tr>\n",
       "    <tr>\n",
       "      <th>3444</th>\n",
       "      <td>ham</td>\n",
       "      <td>Think i might have to give it a miss. Am teach...</td>\n",
       "    </tr>\n",
       "    <tr>\n",
       "      <th>3445</th>\n",
       "      <td>ham</td>\n",
       "      <td>So that means you still think of teju</td>\n",
       "    </tr>\n",
       "    <tr>\n",
       "      <th>3446</th>\n",
       "      <td>ham</td>\n",
       "      <td>Is ur paper today in e morn or aft?</td>\n",
       "    </tr>\n",
       "    <tr>\n",
       "      <th>3447</th>\n",
       "      <td>ham</td>\n",
       "      <td>I'm thinking that chennai forgot to come for a...</td>\n",
       "    </tr>\n",
       "  </tbody>\n",
       "</table>\n",
       "</div>"
      ],
      "text/plain": [
       "     label                                               text\n",
       "3443   ham  Babe ! What are you doing ? Where are you ? Wh...\n",
       "3444   ham  Think i might have to give it a miss. Am teach...\n",
       "3445   ham              So that means you still think of teju\n",
       "3446   ham                Is ur paper today in e morn or aft?\n",
       "3447   ham  I'm thinking that chennai forgot to come for a..."
      ]
     },
     "execution_count": 4,
     "metadata": {},
     "output_type": "execute_result"
    }
   ],
   "source": [
    "sms_data.tail()"
   ]
  },
  {
   "cell_type": "code",
   "execution_count": 5,
   "metadata": {},
   "outputs": [
    {
     "data": {
      "text/plain": [
       "ham     3041\n",
       "spam     407\n",
       "Name: label, dtype: int64"
      ]
     },
     "execution_count": 5,
     "metadata": {},
     "output_type": "execute_result"
    }
   ],
   "source": [
    "# 统计垃圾和非垃圾邮件的数量\n",
    "sms_data[\"label\"].value_counts()"
   ]
  },
  {
   "cell_type": "code",
   "execution_count": 6,
   "metadata": {},
   "outputs": [
    {
     "data": {
      "text/plain": [
       "Text(0.5, 1.0, 'Number of ham of spam messages')"
      ]
     },
     "execution_count": 6,
     "metadata": {},
     "output_type": "execute_result"
    },
    {
     "data": {
      "image/png": "[encoded data removed]",
      "text/plain": [
       "<Figure size 432x288 with 1 Axes>"
      ]
     },
     "metadata": {
      "needs_background": "light"
     },
     "output_type": "display_data"
    }
   ],
   "source": [
    "# 以图方式表示\n",
    "sns.countplot(sms_data[\"label\"])\n",
    "plt.xlabel(\"Label\")\n",
    "plt.title(\"Number of ham of spam messages\")"
   ]
  },
  {
   "cell_type": "code",
   "execution_count": 7,
   "metadata": {},
   "outputs": [],
   "source": [
    "# 将标签ham和spam转换为0和1\n",
    "sms_data[\"label_num\"] = sms_data[\"label\"].map({\"ham\":0,\"spam\":1})"
   ]
  },
  {
   "cell_type": "code",
   "execution_count": 8,
   "metadata": {},
   "outputs": [
    {
     "data": {
      "text/html": [
       "<div>\n",
       "<style scoped>\n",
       "    .dataframe tbody tr th:only-of-type {\n",
       "        vertical-align: middle;\n",
       "    }\n",
       "\n",
       "    .dataframe tbody tr th {\n",
       "        vertical-align: top;\n",
       "    }\n",
       "\n",
       "    .dataframe thead th {\n",
       "        text-align: right;\n",
       "    }\n",
       "</style>\n",
       "<table border=\"1\" class=\"dataframe\">\n",
       "  <thead>\n",
       "    <tr style=\"text-align: right;\">\n",
       "      <th></th>\n",
       "      <th>label</th>\n",
       "      <th>text</th>\n",
       "      <th>label_num</th>\n",
       "    </tr>\n",
       "  </thead>\n",
       "  <tbody>\n",
       "    <tr>\n",
       "      <th>0</th>\n",
       "      <td>ham</td>\n",
       "      <td>Ü collecting ur laptop then going to configure...</td>\n",
       "      <td>0</td>\n",
       "    </tr>\n",
       "    <tr>\n",
       "      <th>1</th>\n",
       "      <td>ham</td>\n",
       "      <td>Sorry, I can't text &amp;amp; drive coherently, se...</td>\n",
       "      <td>0</td>\n",
       "    </tr>\n",
       "    <tr>\n",
       "      <th>2</th>\n",
       "      <td>spam</td>\n",
       "      <td>PRIVATE! Your 2003 Account Statement for shows...</td>\n",
       "      <td>1</td>\n",
       "    </tr>\n",
       "    <tr>\n",
       "      <th>3</th>\n",
       "      <td>ham</td>\n",
       "      <td>What's up. Do you want me to come online?</td>\n",
       "      <td>0</td>\n",
       "    </tr>\n",
       "    <tr>\n",
       "      <th>4</th>\n",
       "      <td>ham</td>\n",
       "      <td>The guy did some bitching but I acted like i'd...</td>\n",
       "      <td>0</td>\n",
       "    </tr>\n",
       "  </tbody>\n",
       "</table>\n",
       "</div>"
      ],
      "text/plain": [
       "  label                                               text  label_num\n",
       "0   ham  Ü collecting ur laptop then going to configure...          0\n",
       "1   ham  Sorry, I can't text &amp; drive coherently, se...          0\n",
       "2  spam  PRIVATE! Your 2003 Account Statement for shows...          1\n",
       "3   ham          What's up. Do you want me to come online?          0\n",
       "4   ham  The guy did some bitching but I acted like i'd...          0"
      ]
     },
     "execution_count": 8,
     "metadata": {},
     "output_type": "execute_result"
    }
   ],
   "source": [
    "sms_data.head()"
   ]
  },
  {
   "cell_type": "markdown",
   "metadata": {},
   "source": [
    "### 数据分割"
   ]
  },
  {
   "cell_type": "code",
   "execution_count": 9,
   "metadata": {},
   "outputs": [],
   "source": [
    "from sklearn.model_selection import train_test_split"
   ]
  },
  {
   "cell_type": "code",
   "execution_count": 10,
   "metadata": {},
   "outputs": [],
   "source": [
    "x_train,x_test,y_train,y_test = train_test_split(sms_data[\"text\"],sms_data[\"label_num\"],test_size=0.2,random_state=2019)"
   ]
  },
  {
   "cell_type": "code",
   "execution_count": 11,
   "metadata": {},
   "outputs": [
    {
     "name": "stdout",
     "output_type": "stream",
     "text": [
      "(2758,)\n",
      "(2758,)\n",
      "(690,)\n",
      "(690,)\n"
     ]
    }
   ],
   "source": [
    "print(x_train.shape)\n",
    "print(y_train.shape)\n",
    "print(x_test.shape)\n",
    "print(y_test.shape)"
   ]
  },
  {
   "cell_type": "markdown",
   "metadata": {},
   "source": [
    "### 文本特征提取"
   ]
  },
  {
   "cell_type": "markdown",
   "metadata": {},
   "source": [
    "文本特征提取\n",
    "  - 将文本数据转换成特征向量的过程\n",
    "  - 比较常用的文本特征表示法为词袋法\n",
    "  \n",
    "  词袋法：\n",
    "   - 不考虑词语出现的顺序，每个出现过的词汇单独作为一列特征\n",
    "   - 这些不重复的特征词汇集合为词表\n",
    "   - 每一个文本都可以在很长的词表上统计出一个很多列的特征向量\n",
    "   - 如果每个文本都出现的词汇，一般被标记为停用词 不计入特征向量\n",
    "   \n",
    "  主要有两个api来实现`CounterVectorizer`和`TfidfVectorizer`\n",
    "  \n",
    " CountVectorizer:\n",
    "   - 只考虑词汇在文本中出现的频率\n",
    "   \n",
    " TfidfVectorizer:\n",
    "   - 除了考量某词汇在文本出现的频率，还关注包含这个词汇的所有文本的数量\n",
    "   - 能够消减高频没有意义的词汇出现带来的影响，挖掘更有意义的特征。"
   ]
  },
  {
   "cell_type": "code",
   "execution_count": 12,
   "metadata": {},
   "outputs": [],
   "source": [
    "from sklearn.feature_extraction.text import CountVectorizer,TfidfVectorizer"
   ]
  },
  {
   "cell_type": "code",
   "execution_count": 13,
   "metadata": {},
   "outputs": [],
   "source": [
    "# 去除停用词\n",
    "tfidf = TfidfVectorizer(analyzer=\"word\",stop_words=\"english\")"
   ]
  },
  {
   "cell_type": "code",
   "execution_count": 14,
   "metadata": {},
   "outputs": [],
   "source": [
    "x_train_df = tfidf.fit_transform(x_train)"
   ]
  },
  {
   "cell_type": "code",
   "execution_count": 15,
   "metadata": {},
   "outputs": [],
   "source": [
    "x_test_df = tfidf.transform(x_test)"
   ]
  },
  {
   "cell_type": "code",
   "execution_count": 16,
   "metadata": {},
   "outputs": [
    {
     "name": "stdout",
     "output_type": "stream",
     "text": [
      "<class 'scipy.sparse.csr.csr_matrix'>\n"
     ]
    }
   ],
   "source": [
    "print(type(x_train_df))"
   ]
  },
  {
   "cell_type": "code",
   "execution_count": 17,
   "metadata": {},
   "outputs": [
    {
     "name": "stdout",
     "output_type": "stream",
     "text": [
      "(2758, 5696)\n"
     ]
    }
   ],
   "source": [
    "print(x_train_df.shape)"
   ]
  },
  {
   "cell_type": "code",
   "execution_count": 18,
   "metadata": {},
   "outputs": [
    {
     "name": "stdout",
     "output_type": "stream",
     "text": [
      "['00', '000', '000pes', '008704050406', '0089', '0121', '0125698789', '02', '0207', '02072069400', '02073162414', '021', '03', '04', '05', '0578', '06', '07', '07008009200', '07046744435', '07090201529', '07090298926', '07732584351', '0776xxxxxxx', '077xxx', '078', '07801543489', '07808247860', '07808726822', '07815296484', '078498', '07880867867', '0789xxxxxxx', '07946746291', '08', '0800', '08000407165', '08000776320', '08000839402', '08000930705', '08000938767', '08001950382', '08002888812', '08002986906', '08081263000', '083', '0844', '08448714184', '0845', '08452810071', '08452810073', '0870', '08700435505150p', '08700469649', '08701237397', '08701417012', '08701417012150p', '087016248', '087018728737', '08702490080', '08702840625', '08704050406', '08706091795', '0870737910216yrs', '08707509020', '0870753331018', '08707808226', '08708034412', '08708800282', '08709222922', '08709501522', '0871', '087104711148', '08712103738', '08712300220', '08712317606', '08712400602450p', '08712400603', '08712402050', '08712402578', '08712402972', '08712404000', '08712405020', '08712405022', '08712460324', '08712466669', '0871277810710p', '0871277810910p', '08714342399', '087147123779am', '08714712379', '08714712388', '08714712394', '08714714011', '08715203028', '08715203656', '08715203694', '08715500022', '08715705022', '08717507382', '08717509990', '08717890890', '08717895698', '08718711108', '08718720201', '08718725756', '08718726270', '087187262701', '08718726971', '08718727870', '08718727870150ppm', '08718730555', '08718730666', '08718738001', '08719180219', '08719899229', '08719899230', '09', '09041940223', '09050000301', '09050000332', '09050001295', '09050003091', '09050280520', '09053750005', '09056242159', '09057039994', '09058094454', '09058094455', '09058094507', '09058094565', '09058094583', '09058095107', '09058095201', '09058097189', '09058098002', '09061104276', '09061104283', '09061209465', '09061213237', '09061701939', '09061702893', '09061743386', '09061743810', '09061749602', '09061790121', '09061790126', '09063440451', '09063442151', '0906346330', '09064012103', '09064012160', '09064015307', '09064017305', '09065171142', '09065394973', '09066350750', '09066358152', '09066362206', '09066362220', '09066364349', '09066368327', '09066368470', '09066380611', '09066612661', '09066660100', '09071512432', '09071517866', '09090900040', '09094646631', '09095350301', '09096102316', '09099725823', '09099726395', '09099726553', '09111030116', '09111032124', '0a', '0quit', '10', '100', '1000', '1000call', '1000s', '100p', '1030', '10am', '10p', '10ppm', '11', '1120', '1131', '114', '1146', '116', '1172', '118p', '11mths', '12', '1205', '121', '1225', '123', '125', '125gift', '128', '12hrs', '12mths', '13', '130', '1327', '139', '14', '1405', '140ppm', '1450', '14tcr', '14thmarch', '15', '150', '1500', '150p', '150pm', '150ppermesssubscription', '150ppm', '150ppmpobox10183bhamb64xe', '151', '153', '15pm', '16', '165', '1680', '177', '18', '1843', '18yrs', '195', '1im', '1million', '1pm', '1st', '1st4terms', '1stchoice', '1winaweek', '1x150p', '1yf', '20', '200', '2000', '2003', '2004', '2005', '2007', '2025050', '20m12aq', '20p', '21', '21870000', '21st', '220', '2309', '23f', '23g', '24', '24hrs', '24m', '25', '250', '255', '25p', '26', '27', '28', '28th', '29', '2channel', '2day', '2docd', '2exit', '2ez', '2find', '2geva', '2go', '2kbsubject', '2lands', '2moro', '2morow', '2morro', '2morrow', '2morrowxxxx', '2mro', '2mrw', '2nd', '2nhite', '2nights', '2nite', '2optout', '2px', '2rcv', '2stop', '2stoptx', '2stoptxt', '2u', '2wks', '2wt', '2wu', '30', '300', '3000', '300603t', '3030', '30ish', '30th', '31', '3100', '310303', '31p', '32', '32000', '32323', '326', '33', '330', '350', '3510i', '35p', '3680', '373', '3750', '3d', '3days', '3g', '3gbp', '3hrs', '3lions', '3lp', '3mins', '3mobile', '3qxj9', '3ss', '3uz', '40', '400', '400mins', '40411', '40533', '40gb', '40mph', '41685', '41782', '420', '42049', '4217', '434', '44', '448712404000', '449050000301', '45', '450pw', '45239', '45pm', '47', '4719', '47per', '48', '4a', '4brekkie', '4d', '4eva', '4fil', '4get', '4give', '4got', '4jx', '4msgs', '4mths', '4qf2', '4t', '4th', '4the', '4txt', '4u', '4utxt', '4ward', '4wrd', '4years', '50', '500', '5000', '50award', '50gbp', '50p', '50perwksub', '50pm', '50pmmorefrommobile2bremoved', '50rcvd', '50s', '5226', '523', '526', '528', '530', '54', '542', '545', '5ish', '5p', '5wb', '5we', '600', '6089', '60p', '61610', '62220cncl', '6230', '62468', '630', '63miles', '65', '650', '6669', '674', '68866', '69101', '69200', '69855', '69888', '69911', '69969', '6hl', '6hrs', '6missed', '6pm', '6times', '6zf', '700', '7250', '7250i', '74355', '750', '75max', '762', '7634', '7684', '7732584351', '78', '786', '7am', '7cfca1a', '7mp', '7oz', '7pm', '7zs', '800', '8000930705', '80062', '8007', '80082', '80122300p', '80155', '80182', '8027', '80488', '80608', '80878', '81151', '81618', '820554ad0a1705572711', '82242', '82277', '82324', '82468', '83110', '83332', '83338', '83355', '83370', '83383', '83600', '84025', '84128', '84484', '85', '850', '86021', '861', '864233', '86688', '86888', '87021', '87066', '87070', '87077', '87131', '872', '87239', '8800', '88039', '88066', '88222', '88600', '88800', '8883', '88877', '89034', '89070', '89545', '89555', '89693', '8am', '8ball', '8lb', '8p', '8pm', '8th', '8wp', '900', '9061100010', '910', '930', '9307622', '945', '946', '9758', '9996', '9ae', '9ja', '9pm', '9th', 'a21', 'aa', 'aah', 'aaooooright', 'abbey', 'abdomen', 'abeg', 'aberdeen', 'abi', 'ability', 'abiola', 'abj', 'able', 'abroad', 'absence', 'absolutely', 'abt', 'abta', 'abuse', 'ac', 'academic', 'acc', 'accent', 'accenture', 'accept', 'access', 'accessible', 'accident', 'accidentally', 'accommodation', 'accomodate', 'accomodations', 'accordin', 'accordingly', 'account', 'accounting', 'accumulation', 'ache', 'achieve', 'acid', 'acknowledgement', 'acl03530150pm', 'acnt', 'acted', 'acting', 'action', 'activ8', 'activate', 'activities', 'actual', 'actually', 'ad', 'add', 'added', 'addie', 'adding', 'address', 'adds', 'adewale', 'admin', 'administrator', 'admirer', 'admit', 'adore', 'adoring', 'adp', 'adrian', 'adult', 'advance', 'adventure', 'advice', 'advise', 'advising', 'afew', 'affairs', 'affections', 'affidavit', 'afghanistan', 'afraid', 'africa', 'aft', 'afternoon', 'afternoons', 'aftr', 'ag', 'agalla', 'age', 'age16', 'agency', 'agent', 'ages', 'agidhane', 'ago', 'agree', 'ah', 'aha', 'ahead', 'ahhh', 'ahmad', 'ahold', 'aid', 'aids', 'aight', 'ain', 'aint', 'air', 'airport', 'aiya', 'aiyah', 'aiyar', 'aiyo', 'ajith', 'ak', 'aka', 'akon', 'al', 'alaikkum', 'albi', 'album', 'alcohol', 'aldrine', 'alert', 'alertfrom', 'alerts', 'alex', 'alfie', 'algebra', 'ali', 'alibi', 'alive', 'allah', 'allalo', 'alle', 'allow', 'allowed', 'alot', 'alright', 'alrite', 'alter', 'alternative', 'amanda', 'amazing', 'ambrith', 'american', 'amigos', 'ammae', 'ammo', 'amore', 'amp', 'amplikater', 'ams', 'amused', 'ana', 'anal', 'anand', 'anderson', 'andre', 'andros', 'angry', 'animal', 'animation', 'anjie', 'anjola', 'anniversary', 'annoncement', 'announced', 'announcement', 'annoyin', 'annoying', 'anonymous', 'anot', 'ans', 'answer', 'answerin', 'answering', 'answers', 'anthony', 'anti', 'antibiotic', 'anybody', 'anymore', 'anyones', 'anyplaces', 'anythiing', 'anythin', 'anythingtomorrow', 'anytime', 'anyways', 'apart', 'apartment', 'apeshit', 'apo', 'apologise', 'apologize', 'app', 'apparently', 'appeal', 'appear', 'appendix', 'applebees', 'apples', 'apply', 'applyed', 'appointment', 'appreciate', 'appreciated', 'approaches', 'approaching', 'appropriate', 'approx', 'apps', 'appt', 'appy', 'april', 'aptitude', 'ar', 'arabian', 'arcade', 'ard', 'area', 'aren', 'arent', 'aretaking', 'areyouunique', 'argh', 'arguing', 'argument', 'aries', 'arise', 'arm', 'armand', 'arms', 'arnt', 'aroundn', 'arrange', 'arranging', 'arrival', 'arrive', 'arrow', 'arsenal', 'art', 'artists', 'arts', 'arul', 'arun', 'asap', 'ashley', 'ashwini', 'asia', 'asian', 'asjesus', 'ask', 'askd', 'asked', 'askin', 'asking', 'asks', 'aslamalaikkum', 'asleep', 'aspects', 'ass', 'assessment', 'asshole', 'associate', 'asssssholeeee', 'assume', 'assumed', 'astne', 'astoundingly', 'astronomer', 'asusual', 'ate', 'athome', 'atlanta', 'atm', 'atrocious', 'attached', 'attempt', 'atten', 'attend', 'attended', 'attention', 'attracts', 'attributed', 'auction', 'audiitions', 'audrey', 'audrie', 'august', 'aunt', 'auntie', 'aunts', 'aunty', 'australia', 'authorise', 'auto', 'autocorrect', 'ava', 'availa', 'available', 'avalarr', 'avatar', 'ave', 'avenge', 'avent', 'avin', 'avoiding', 'await', 'awaiting', 'awake', 'award', 'awarded', 'away', 'awesome', 'aww', 'awww', 'ax', 'axel', 'ay', 'ayo', 'b4', 'ba', 'baaaaabe', 'babe', 'babes', 'babies', 'baby', 'babyjontet', 'babysit', 'babysitting', 'backdoor', 'backwards', 'bad', 'badass', 'bag', 'bailiff', 'bak', 'bakrid', 'balance', 'balls', 'bam', 'bambling', 'band', 'bandages', 'bang', 'bank', 'banned', 'banneduk', 'banter', 'bao', 'bar', 'barbie', 'barcelona', 'bare', 'barely', 'bari', 'barmed', 'barolla', 'barrel', 'barring', 'base', 'bash', 'basic', 'basically', 'basket', 'basq', 'bat', 'batch', 'bath', 'bathe', 'bathing', 'bathroom', 'batsman', 'batt', 'battery', 'bawling', 'bay', 'bb', 'bbd', 'bbdeluxe', 'bc', 'bcaz', 'bck', 'bcm', 'bcmsfwc1n3xx', 'bcoz', 'bcum', 'bday', 'beach', 'beads', 'bears', 'beatings', 'beautiful', 'beauty', 'bec', 'becausethey', 'becoz', 'bed', 'bedrm', 'bedroom', 'beeen', 'beehoon', 'beer', 'beg', 'beggar', 'begging', 'begin', 'begins', 'begun', 'behalf', 'behave', 'bein', 'believe', 'bell', 'belly', 'belong', 'belongs', 'beloved', 'ben', 'benefits', 'bennys', 'bergkamp', 'best', 'bet', 'beth', 'better', 'bettr', 'beverage', 'bevies', 'bf', 'bffs', 'bfore', 'bhayandar', 'bid', 'big', 'biggest', 'billed', 'billing', 'bills', 'bilo', 'bimbo', 'bin', 'biola', 'birds', 'birth', 'birthdate', 'birthday', 'bishan', 'bit', 'bitch', 'bitching', 'bits', 'biz', 'black', 'blackberry', 'blah', 'blake', 'blank', 'blankets', 'blastin', 'bleh', 'bless', 'blessing', 'blessings', 'blind', 'block', 'blog', 'bloke', 'blokes', 'blood', 'bloody', 'blowing', 'blown', 'blu', 'blue', 'bluetooth', 'bluetoothhdset', 'bluff', 'blur', 'boat', 'boatin', 'body', 'bognor', 'bold', 'bold2', 'bollox', 'bomb', 'bone', 'bonus', 'boo', 'boobs', 'book', 'booked', 'bookedthe', 'booking', 'bookmark', 'books', 'bookshelf', 'boooo', 'booty', 'bootydelious', 'borderline', 'bored', 'borin', 'boring', 'born', 'borrow', 'boss', 'boston', 'bot', 'bother', 'bottle', 'bought', 'boundaries', 'bout', 'bowa', 'bowl', 'bowls', 'box', 'box1146', 'box139', 'box334', 'box334sk38ch', 'box403', 'box420', 'box434sk38wp150ppm18', 'box95qu', 'box97n7qp', 'boy', 'boye', 'boyf', 'boys', 'boytoy', 'brah', 'brainless', 'brains', 'brand', 'bras', 'brats', 'brdget', 'bread', 'break', 'breaker', 'breaks', 'breath', 'breathe', 'breather', 'bribe', 'bridal', 'bridge', 'bridgwater', 'bright', 'brilliantly', 'bring', 'bringing', 'brings', 'brisk', 'brison', 'bristol', 'british', 'broad', 'broke', 'bros', 'broth', 'brothas', 'brother', 'brothers', 'brought', 'brown', 'brownie', 'brownies', 'browse', 'browser', 'bruce', 'brum', 'bslvyl', 'bsn', 'bsnl', 'bt', 'btw', 'bubbletext', 'bucks', 'bud', 'buddy', 'buddys', 'budget', 'buff', 'buffet', 'buffy', 'bugis', 'build', 'building', 'bull', 'bullshit', 'bunch', 'bunkers', 'buns', 'burden', 'burial', 'burn', 'burning', 'burns', 'burnt', 'burrito', 'bus', 'busetop', 'business', 'busy', 'butt', 'butting', 'buy', 'buyer', 'buyers', 'buying', 'buzz', 'bw', 'bx', 'bx420', 'bye', 'c52', 'cable', 'cafe', 'cage', 'cake', 'cakes', 'cal', 'calculated', 'calculation', 'cali', 'calicut', 'california', 'call09050000327', 'call2optout', 'callback', 'callcost150ppmmobilesvary', 'called', 'caller', 'callin', 'calling', 'calls', 'calm', 'cam', 'camcorder', 'came', 'camera', 'campus', 'canada', 'canal', 'canary', 'cancel', 'canceled', 'cancelled', 'cancer', 'canlove', 'cann', 'canname', 'cantdo', 'canteen', 'capacity', 'capital', 'cappuccino', 'caps', 'captain', 'car', 'card', 'cardiff', 'cardin', 'cards', 'care', 'careabout', 'cared', 'career', 'careful', 'cares', 'caring', 'carlie', 'carlin', 'carlos', 'carly', 'carolina', 'caroline', 'carry', 'cars', 'case', 'cash', 'cashed', 'cashto', 'castor', 'casualty', 'cat', 'catch', 'catches', 'catching', 'cause', 'causing', 'cave', 'cbe', 'cc', 'cc100p', 'ccna', 'cd', 'cdgt', 'cds', 'ceiling', 'celeb', 'celebrate', 'celebrated', 'cell', 'center', 'centre', 'cer', 'cereals', 'ceri', 'certainly', 'certificate', 'cha', 'chad', 'chain', 'challenge', 'challenging', 'champlaxigating', 'chance', 'change', 'changed', 'changes', 'changing', 'chapel', 'chapter', 'character', 'charge', 'charged', 'charges', 'charity', 'charlie', 'charming', 'chart', 'chase', 'chasing', 'chastity', 'chat', 'chat80155', 'chatlines', 'chatter', 'chatting', 'cheap', 'cheaper', 'chechi', 'check', 'checkboxes', 'checkin', 'checking', 'checkmate', 'checkup', 'cheer', 'cheered', 'cheers', 'cheery', 'cheese', 'cheesy', 'cheetos', 'chennai', 'cherish', 'cherthala', 'chess', 'chest', 'cheyyamo', 'chic', 'chick', 'chicken', 'chickened', 'chikku', 'child', 'childish', 'children', 'childrens', 'chill', 'chillin', 'china', 'chinatown', 'chinese', 'chinnu', 'chip', 'chit', 'chloe', 'chocolate', 'choices', 'choose', 'choosing', 'chosen', 'chrgd', 'christ', 'christians', 'christmas', 'christmassy', 'chuck', 'church', 'ciao', 'cine', 'cinema', 'citizen', 'city', 'cl', 'claim', 'claimcode', 'claims', 'claire', 'clarification', 'clas', 'class', 'classes', 'classmates', 'claypot', 'cld', 'clean', 'cleaning', 'clear', 'clearing', 'clearly', 'clever', 'click', 'cliff', 'cliffs', 'clip', 'clocks', 'close', 'closed', 'closer', 'closes', 'closingdate04', 'clover', 'club', 'club4', 'club4mobiles', 'clubmoby', 'clubsaisai', 'clubzed', 'clue', 'cm', 'cm2', 'cnl', 'cnupdates', 'coast', 'coat', 'coaxing', 'coccooning', 'cochin', 'cock', 'cocksuckers', 'coco', 'code', 'coffee', 'coherently', 'coin', 'coins', 'colany', 'cold', 'collapsed', 'collect', 'collected', 'collecting', 'collection', 'colleg', 'college', 'color', 'colour', 'colourful', 'colours', 'com', 'com1win150ppmx3age16', 'comb', 'combination', 'come', 'comedy', 'comes', 'comfey', 'comfort', 'comin', 'coming', 'comment', 'commercial', 'commit', 'common', 'community', 'comp', 'companies', 'company', 'compass', 'complain', 'complaint', 'complementary', 'complete', 'completed', 'completely', 'completes', 'completing', 'complexities', 'complimentary', 'compliments', 'comprehensive', 'compromised', 'computational', 'computer', 'comuk', 'conacted', 'concentrate', 'concentrating', 'concern', 'concerned', 'concert', 'condition', 'conditions', 'conference', 'confidence', 'configure', 'confirm', 'conform', 'confused', 'congrats', 'congratulations', 'connect', 'connection', 'consent', 'conserve', 'consider', 'considering', 'consistently', 'constant', 'constantly', 'contact', 'contacted', 'contacts', 'contains', 'content', 'contented', 'continue', 'continued', 'contract', 'control', 'convenience', 'conversations', 'converted', 'convince', 'convinced', 'convincing', 'cooked', 'cookies', 'cooking', 'cool', 'copied', 'copies', 'coping', 'cops', 'copy', 'corect', 'cornwall', 'correct', 'correction', 'corvettes', 'cos', 'cosign', 'cost', 'costa', 'costing', 'costs', 'costume', 'cougar', 'coughing', 'coulda', 'couldn', 'count', 'country', 'couple', 'course', 'court', 'courtroom', 'cousin', 'cover', 'covers', 'coz', 'cps', 'cr9', 'crammed', 'cramps', 'crash', 'crashed', 'crashing', 'crave', 'craving', 'crazy', 'cream', 'created', 'creativity', 'credit', 'credited', 'credits', 'creep', 'creepy', 'crickiting', 'crisis', 'cross', 'crossing', 'crowd', 'croydon', 'crucial', 'crucify', 'cruise', 'crying', 'cs', 'csbcm4235wc1n3xx', 'ctagg', 'ctargg', 'ctla', 'cttargg', 'ctter', 'cttergg', 'ctxt', 'cu', 'cuck', 'cud', 'cuddled', 'cudnt', 'cultures', 'cum', 'cumin', 'cumming', 'cup', 'cuppa', 'curfew', 'curious', 'current', 'currently', 'curry', 'cusoon', 'cust', 'custcare', 'custom', 'customer', 'customers', 'customersqueries', 'cut', 'cute', 'cutie', 'cutter', 'cutting', 'cuz', 'cw25wx', 'cya', 'cyclists', 'cysts', 'da', 'dabbles', 'dad', 'daddy', 'dads', 'dai', 'daily', 'dammit', 'damn', 'dancce', 'dance', 'dancing', 'dang', 'danger', 'dangerous', 'dao', 'dare', 'dark', 'darkest', 'darkness', 'darlin', 'darling', 'darren', 'das', 'dasara', 'dat', 'date', 'datebox1282essexcm61xn', 'dates', 'dating', 'dats', 'dawns', 'day', 'days', 'db', 'dd', 'dead', 'deal', 'dealer', 'dealing', 'dear', 'dearly', 'death', 'debating', 'dec', 'decades', 'december', 'decide', 'decided', 'deciding', 'decimal', 'decision', 'decisions', 'deck', 'declare', 'decorating', 'deep', 'deepest', 'def', 'deficient', 'definitely', 'definitly', 'degree', 'degrees', 'dehydrated', 'dehydration', 'del', 'delayed', 'delete', 'deliver', 'delivered', 'deliveredtomorrow', 'delivery', 'deltomorrow', 'deluxe', 'demand', 'den', 'denis', 'dental', 'deny', 'department', 'depends', 'depressed', 'dept', 'der', 'derek', 'desert', 'deserve', 'designation', 'desires', 'desk', 'desparately', 'despite', 'destination', 'destiny', 'detailed', 'details', 'detroit', 'deus', 'developed', 'developer', 'device', 'devils', 'dey', 'dha', 'dhanush', 'dial', 'dialogue', 'diapers', 'dick', 'dictionary', 'did', 'diddy', 'didn', 'didnt', 'die', 'died', 'diet', 'dieting', 'diff', 'difference', 'different', 'difficult', 'difficulties', 'digital', 'digits', 'dignity', 'din', 'dine', 'dined', 'dinero', 'dinner', 'dint', 'dip', 'direct', 'directly', 'director', 'dirtiest', 'dirty', 'dis', 'disagreeable', 'disappeared', 'disaster', 'disasters', 'discount', 'discreet', 'discuss', 'discussed', 'dislikes', 'display', 'distance', 'distract', 'disturb', 'disturbance', 'disturbing', 'division', 'divorce', 'diwali', 'dizzamn', 'dizzee', 'dl', 'dlf', 'dnot', 'dnt', 'dobby', 'doc', 'dock', 'docks', 'docs', 'doctor', 'doctors', 'documents', 'dodgey', 'does', 'doesdiscount', 'doesn', 'doesnt', 'dog', 'dogg', 'dogging', 'doggy', 'dogwood', 'doin', 'doinat', 'doing', 'doit', 'doke', 'dokey', 'doll', 'dollar', 'dollars', 'dolls', 'dom', 'domain', 'don', 'donate', 'donno', 'dont', 'dontignore', 'dontmatter', 'dontplease', 'door', 'doors', 'dorm', 'dormitory', 'dose', 'dot', 'double', 'doublemins', 'doubletxt', 'doubt', 'doug', 'dough', 'download', 'downloaded', 'downloads', 'downstem', 'dps', 'dr', 'dramatic', 'draw', 'draws', 'dreading', 'dream', 'dreams', 'dreamz', 'dress', 'dressed', 'dresser', 'drink', 'drinkin', 'drinks', 'drivby', 'drive', 'drivin', 'driving', 'drizzling', 'drop', 'dropped', 'drops', 'drove', 'drug', 'drugs', 'drum', 'drunk', 'drunken', 'drvgsto', 'dry', 'dryer', 'dual', 'dubsack', 'duchess', 'dude', 'dudes', 'dudette', 'dumb', 'dun', 'dunno', 'duo', 'durham', 'dusk', 'dvd', 'dvg', 'dysentry', 'ear', 'earlier', 'earliest', 'early', 'earn', 'ears', 'earth', 'easier', 'easiest', 'easily', 'east', 'easter', 'easy', 'eat', 'eaten', 'eatin', 'eating', 'ebay', 'ec2a', 'eckankar', 'ecstacy', 'ecstasy', 'ed', 'edhae', 'edrunk', 'edu', 'education', 'edukkukayee', 'edwards', 'eek', 'eerie', 'eerulli', 'effects', 'efficient', 'efreefone', 'egbon', 'egg', 'eggs', 'eh', 'eh74rr', 'eighth', 'elaborating', 'elama', 'elaya', 'election', 'elections', 'elephant', 'ello', 'em', 'email', 'emailed', 'embarassed', 'embarassing', 'embarrassed', 'emergency', 'emigrated', 'employer', 'en', 'end', 'ended', 'ending', 'endless', 'ends', 'energy', 'engaged', 'engagement', 'engin', 'england', 'english', 'enjoy', 'enjoyed', 'enjoyin', 'enjoying', 'enketa', 'ente', 'enter', 'entered', 'entirely', 'entitled', 'entrepreneurs', 'entropication', 'entry', 'enuff', 'epi', 'eppolum', 'epsilon', 'equally', 'er', 'ericson', 'ericsson', 'erm', 'erotic', 'error', 'errors', 'ertini', 'eruku', 'erupt', 'escalator', 'escape', 'espe', 'especially', 'esplanade', 'establish', 'euro', 'evaporated', 'eve', 'evening', 'evenings', 'event', 'events', 'eventually', 'every1', 'everybody', 'everyday', 'everyones', 'everythin', 'eviction', 'evil', 'evng', 'ew', 'ex', 'exact', 'exactly', 'exam', 'exams', 'excellent', 'excited', 'exciting', 'excuse', 'excused', 'excuses', 'executive', 'exeter', 'exhaust', 'expect', 'expected', 'expecting', 'expects', 'expensive', 'experience', 'expert', 'expired', 'expires', 'expiry', 'explain', 'explicit', 'explicitly', 'explosive', 'exposed', 'exposes', 'express', 'expressoffer', 'ext', 'extra', 'extract', 'extreme', 'eyed', 'eyes', 'f4q', 'fab', 'face', 'facebook', 'fact', 'faggot', 'faggy', 'faglord', 'failed', 'failing', 'failure', 'fainting', 'fair', 'faith', 'fake', 'fakeye', 'falconerf', 'fall', 'falls', 'famamus', 'family', 'fancied', 'fancies', 'fancy', 'fantasies', 'fantastic', 'fantasy', 'far', 'farm', 'fast', 'faster', 'fastest', 'fat', 'fated', 'father', 'fathima', 'fats', 'fault', 'fav', 'fave', 'favorite', 'favour', 'favourite', 'fb', 'fear', 'feathery', 'features', 'feb', 'february', 'fedex', 'feel', 'feelin', 'feeling', 'feels', 'feet', 'fell', 'fellow', 'felt', 'female', 'festival', 'fetch', 'fever', 'fffff', 'fidalfication', 'field', 'fifth', 'fights', 'figure', 'figuring', 'filled', 'fills', 'film', 'films', 'filthy', 'filthyguys', 'final', 'finalise', 'finally', 'finance', 'financial', 'finding', 'finds', 'fine', 'fingers', 'finish', 'finished', 'finishes', 'finishing', 'fink', 'finn', 'fired', 'firefox', 'firsg', 'fish', 'fishhead', 'fit', 'fix', 'fixd', 'fixed', 'fixes', 'fizz', 'flag', 'flaked', 'flaky', 'flash', 'flat', 'flatter', 'flea', 'flew', 'flies', 'flight', 'flights', 'flip', 'flirt', 'flirting', 'floating', 'flood', 'floor', 'floppy', 'flow', 'flowing', 'fluids', 'flurries', 'flute', 'fly', 'flyng', 'fm', 'fml', 'fne', 'fo', 'follow', 'followed', 'followin', 'following', 'follows', 'fond', 'fondly', 'fone', 'foned', 'fones', 'food', 'fooled', 'fools', 'foot', 'football', 'force', 'foreign', 'forever', 'forevr', 'forget', 'forgiven', 'forgiveness', 'forgot', 'forgotten', 'forgt', 'formal', 'formally', 'format', 'forms', 'fortune', 'forum', 'forums', 'forward', 'forwarded', 'forwarding', 'foward', 'fowler', 'fr', 'fraction', 'fran', 'frank', 'frankie', 'franyxxxxx', 'freak', 'freaked', 'freaking', 'fredericksburg', 'free', 'freedom', 'freeentry', 'freefone', 'freek', 'freely', 'freemsg', 'freephone', 'freezing', 'fren', 'french', 'frens', 'frequently', 'fri', 'friday', 'fridays', 'fridge', 'friend', 'friends', 'friendsare', 'friendship', 'friendships', 'fringe', 'frm', 'frnd', 'frnds', 'frndship', 'frndz', 'frog', 'frontierville', 'frosty', 'fruit', 'frying', 'ft', 'fuck', 'fucked', 'fuckin', 'fucking', 'fudge', 'fuelled', 'fulfil', 'fun', 'functions', 'fund', 'fundamentals', 'funeral', 'funky', 'funny', 'funs', 'future', 'fuuuuck', 'fyi', 'g696ga', 'ga', 'gage', 'gail', 'gailxx', 'gain', 'gal', 'galileo', 'gals', 'gamb', 'game', 'games', 'ganesh', 'gang', 'garage', 'garbage', 'gari', 'gary', 'gas', 'gautham', 'gauti', 'gave', 'gay', 'gayle', 'gaytextbuddy', 'gaze', 'gbp', 'gbp4', 'gd', 'ge', 'gee', 'geeee', 'geeeee', 'gei', 'gek1510', 'gender', 'general', 'generally', 'genes', 'genius', 'gent', 'gentle', 'gentleman', 'genus', 'geoenvironmental', 'gep', 'ger', 'germany', 'getiing', 'geting', 'gets', 'getsleep', 'getstop', 'gettin', 'getting', 'gibbs', 'gibe', 'gift', 'gifts', 'giggle', 'gigolo', 'gimmi', 'girl', 'girlie', 'girls', 'gist', 'giv', 'gives', 'giving', 'glad', 'glands', 'glo', 'global', 'glorious', 'gloucesterroad', 'gn', 'gnun', 'go2sri', 'goal', 'goals', 'gobi', 'god', 'goes', 'goggles', 'goigng', 'goin', 'going', 'gokila', 'gold', 'goldviking', 'golf', 'gona', 'gone', 'gong', 'gonna', 'good', 'goodevening', 'goodies', 'goodmate', 'goodmorning', 'goodnight', 'goodnite', 'goodnoon', 'goodtime', 'google', 'gopalettan', 'gorgeous', 'gosh', 'goss', 'gossip', 'got', 'gota', 'gotbabes', 'goto', 'gotta', 'gotten', 'goverment', 'govt', 'gpu', 'gr8', 'gr8prizes', 'grace', 'gram', 'gran', 'grand', 'grandfather', 'grandma', 'grandmas', 'granite', 'granted', 'graphics', 'grateful', 'gravel', 'gravy', 'grazed', 'gre', 'great', 'green', 'greet', 'greetings', 'grief', 'grins', 'grinule', 'grl', 'grocers', 'grooved', 'ground', 'group', 'grow', 'growing', 'grown', 'grr', 'grumble', 'grumpy', 'gsoh', 'gt', 'guai', 'guarantee', 'guaranteed', 'gud', 'gudni8', 'gudnyt', 'guess', 'guessin', 'guessing', 'guidance', 'guide', 'guilty', 'guitar', 'gumby', 'gurl', 'gut', 'guy', 'guys', 'gym', 'gymnastics', 'gynae', 'gyno', 'ha', 'habba', 'habit', 'hack', 'hadn', 'haf', 'haha', 'hai', 'hair', 'haiz', 'half', 'hall', 'halla', 'hallaq', 'halloween', 'hamster', 'hand', 'handed', 'handing', 'hands', 'handset', 'handsome', 'hang', 'hanging', 'happen', 'happend', 'happened', 'happening', 'happens', 'happier', 'happiness', 'happy', 'hard', 'hardcore', 'harder', 'hardly', 'harish', 'harri', 'harry', 'hasbro', 'hasn', 'hate', 'haunt', 'hav', 'hava', 'haven', 'havent', 'havin', 'having', 'havn', 'head', 'headache', 'headin', 'heads', 'headset', 'heal', 'hear', 'heard', 'hearin', 'hearing', 'heart', 'hearts', 'heat', 'heater', 'heaven', 'heavily', 'heavy', 'hectic', 'hee', 'heehee', 'hehe', 'height', 'helen', 'helens', 'hell', 'hella', 'hello', 'hellogorgeous', 'help', 'help08700621170150p', 'help08714742804', 'helpful', 'helpline', 'helps', 'henry', 'hesitate', 'hesitation', 'hex', 'hey', 'hg', 'hi', 'hidden', 'hide', 'hiding', 'high', 'hill', 'hills', 'hip', 'hiphop', 'history', 'hit', 'hitler', 'hits', 'hitter', 'hiya', 'hlp', 'hm', 'hme', 'hmm', 'hmmm', 'hmmmm', 'hmmross', 'ho', 'hockey', 'hogidhe', 'hogli', 'hogolo', 'hol', 'holby', 'hold', 'holder', 'holding', 'hole', 'holiday', 'holla', 'hollalater', 'hols', 'holy', 'home', 'hon', 'honest', 'honestly', 'honesty', 'honey', 'honeymoon', 'honi', 'hont', 'hooch', 'hoody', 'hook', 'hooked', 'hoops', 'hop', 'hope', 'hoped', 'hopeful', 'hopefully', 'hopes', 'hopeu', 'hoping', 'hor', 'horniest', 'horny', 'horo', 'horrible', 'hospital', 'hospitals', 'hostel', 'hostile', 'hot', 'hotel', 'hotels', 'hotmail', 'hotmix', 'hour', 'hours', 'house', 'houseful', 'housework', 'housing', 'howard', 'howda', 'hows', 'howz', 'hp20', 'hr', 'hrishi', 'hrs', 'html', 'http', 'hu', 'huai', 'hubby', 'hudgi', 'hug', 'huge', 'hugging', 'hugs', 'huh', 'humanities', 'humans', 'hun', 'hungover', 'hungry', 'hunks', 'hunny', 'hunting', 'hurricanes', 'hurry', 'hurt', 'hurting', 'hurts', 'husband', 'hut', 'hv9d', 'hw', 'hyde', 'hype', 'hypotheticalhuagauahahuagahyuhagga', 'iam', 'ibhltd', 'ibiza', 'ibuprofens', 'ice', 'icky', 'icmb3cktz8r7', 'id', 'idc', 'idea', 'ideal', 'ideas', 'identifier', 'idiot', 'idk', 'iff', 'ifink', 'ignorant', 'ignore', 'ihave', 'ijust', 'ikea', 'ikno', 'iknow', 'il', 'ill', 'ilol', 'im', 'image', 'images', 'imagination', 'imagine', 'img', 'imin', 'imma', 'immed', 'immediately', 'impatient', 'implications', 'important', 'importantly', 'imposed', 'impossible', 'imposter', 'impress', 'impressed', 'impression', 'improve', 'improved', 'imprtant', 'in2', 'inch', 'inches', 'incident', 'inclu', 'include', 'includes', 'including', 'inclusive', 'incomm', 'inconsiderate', 'inconvenient', 'incorrect', 'increase', 'independence', 'independently', 'index', 'india', 'indian', 'indians', 'indicate', 'individual', 'indyarocks', 'inever', 'infections', 'infernal', 'influx', 'info', 'inform', 'information', 'informed', 'infra', 'initiate', 'ink', 'inmind', 'innings', 'innocent', 'innu', 'inperialmusic', 'inpersonation', 'insects', 'insha', 'inshah', 'inside', 'inspection', 'install', 'instant', 'instantly', 'instead', 'instituitions', 'instructions', 'intelligent', 'intend', 'interested', 'interesting', 'interfued', 'internal', 'internet', 'interview', 'interviw', 'intha', 'intrepid', 'intro', 'intrude', 'investigate', 'invitation', 'invite', 'invited', 'inviting', 'invoices', 'involve', 'iouri', 'ip4', 'ipad', 'ipaditan', 'ipads', 'iphone', 'ipod', 'iraq', 'iriver', 'irritated', 'irritating', 'iscoming', 'ish', 'ishtamayoo', 'islands', 'isn', 'isnt', 'issue', 'issues', 'isv', 'italian', 'items', 'itried2tell', 'ive', 'iwas', 'iz', 'izzit', 'j5q', 'jabo', 'jack', 'jacket', 'jacuzzi', 'jade', 'james', 'jan', 'jane', 'january', 'janx', 'jason', 'jay', 'jaykwon', 'jaz', 'jazz', 'jb', 'jealous', 'jeans', 'jen', 'jeri', 'jerk', 'jersey', 'jess', 'jesus', 'jetton', 'jia', 'jiayin', 'jiu', 'jjc', 'joanna', 'job', 'jobs', 'jocks', 'jod', 'jogging', 'john', 'join', 'joined', 'joining', 'joke', 'jokes', 'jokin', 'joking', 'jolt', 'jon', 'jones', 'jordan', 'jos', 'jot', 'journey', 'joy', 'jp', 'jsco', 'jst', 'juan', 'judgemental', 'juicy', 'juliana', 'julianaland', 'july', 'jump', 'junna', 'jurong', 'jus', 'just', 'justbeen', 'justify', 'juswoke', 'juz', 'k52', 'kadeem', 'kaiez', 'kaila', 'kaitlyn', 'kalainar', 'kallis', 'kama', 'kanji', 'kano', 'karaoke', 'karnan', 'kate', 'katexxx', 'kay', 'kaypoh', 'kb', 'ke', 'keen', 'keeping', 'keeps', 'ken', 'kent', 'kept', 'kerala', 'keris', 'key', 'keys', 'keyword', 'kfc', 'kick', 'kicks', 'kidding', 'kids', 'killed', 'killing', 'kilos', 'kind', 'kinda', 'kindly', 'king', 'kingdom', 'kip', 'kiss', 'kisses', 'kitty', 'knackered', 'knee', 'knees', 'knew', 'know', 'knowing', 'knows', 'knw', 'kodstini', 'kodthini', 'korean', 'korli', 'kotees', 'kothi', 'l8er', 'l8r', 'l8rs', 'l8tr', 'la', 'la3', 'la32wu', 'lab', 'labor', 'laden', 'ladies', 'lady', 'lag', 'lager', 'laid', 'lancaster', 'land', 'landline', 'landlineonly', 'lands', 'langport', 'language', 'lanka', 'lanre', 'lap', 'laptop', 'lar', 'laready', 'largest', 'lark', 'lastest', 'lasting', 'late', 'lately', 'later', 'latest', 'latests', 'laugh', 'laughing', 'laundry', 'lautech', 'lavender', 'law', 'laxinorficated', 'lay', 'laying', 'lazy', 'ld', 'ldew', 'ldn', 'ldnw15h', 'le', 'lead', 'leadership', 'leading', 'leads', 'leafcutter', 'league', 'learn', 'leave', 'leaves', 'leaving', 'lect', 'lecture', 'lecturer', 'left', 'leftovers', 'legal', 'legitimat', 'legs', 'leh', 'lei', 'lemme', 'length', 'lengths', 'lennon', 'leona', 'les', 'lesson', 'lessons', 'let', 'lets', 'letter', 'letters', 'level', 'li', 'liao', 'libertines', 'library', 'lick', 'licks', 'lido', 'lie', 'lies', 'life', 'lifetime', 'lift', 'lifted', 'light', 'lightly', 'lik', 'like', 'liked', 'likely', 'likes', 'lil', 'lim', 'limit', 'limping', 'line', 'linear', 'lined', 'linerental', 'lines', 'lingerie', 'lingo', 'link', 'links', 'lion', 'lionm', 'lionp', 'lions', 'lip', 'lipo', 'liquor', 'list', 'listed', 'listen', 'listening', 'listening2the', 'lit', 'literally', 'little', 'live', 'liverpool', 'lives', 'living', 'lk', 'lkpobox177hp51fl', 'll', 'llc', 'llspeak', 'lmao', 'lo', 'loads', 'loan', 'lobby', 'local', 'location', 'locations', 'locaxx', 'log', 'logged', 'logging', 'login', 'logo', 'logon', 'loko', 'lol', 'lolnice', 'london', 'lonely', 'long', 'longer', 'loo', 'look', 'lookatme', 'looked', 'lookin', 'looking', 'looks', 'lool', 'loose', 'lor', 'lose', 'losers', 'loss', 'lost', 'lot', 'lots', 'lotta', 'lotto', 'lou', 'loud', 'lounge', 'lousy', 'lov', 'lovable', 'love', 'loved', 'lovely', 'loveme', 'lover', 'loverboy', 'loves', 'lovin', 'loving', 'low', 'lower', 'loxahatchee', 'loyal', 'loyalty', 'lrg', 'ls15hb', 'lst', 'lt', 'lubly', 'luck', 'luckily', 'lucky', 'lucy', 'lucyxx', 'luks', 'lunch', 'lunchtime', 'lunsford', 'lush', 'luton', 'luv', 'lux', 'luxury', 'lyf', 'lyfu', 'lying', 'lyk', 'lyricalladie', 'm227xy', 'm26', 'm39m51', 'm8s', 'ma', 'maat', 'mac', 'macedonia', 'machan', 'machi', 'macho', 'mad', 'madam', 'madoke', 'madstini', 'madurai', 'maga', 'magic', 'magical', 'mah', 'mahal', 'mahfuuz', 'maid', 'mail', 'mailbox', 'mailed', 'mails', 'main', 'make', 'makes', 'makin', 'making', 'malarky', 'male', 'mall', 'mallika', 'man', 'manage', 'manageable', 'managed', 'management', 'mandy', 'manege', 'mango', 'maniac', 'manky', 'manual', 'map', 'mapquest', 'maps', 'maraikara', 'marandratha', 'march', 'margin', 'marine', 'mark', 'market', 'marking', 'marley', 'marrge', 'marriage', 'married', 'marry', 'marvel', 'masked', 'massage', 'massive', 'masteriastering', 'masters', 'mat', 'match', 'matched', 'matches', 'mate', 'mates', 'math', 'mathe', 'mathews', 'maths', 'matrix3', 'matter', 'matters', 'matthew', 'max', 'maximize', 'mayb', 'maybe', 'mb', 'mc', 'mca', 'mcat', 'mcr', 'meal', 'meals', 'mean', 'meaning', 'meaningful', 'meaningless', 'means', 'meant', 'measure', 'meatballs', 'med', 'medical', 'medicine', 'meds', 'meet', 'meetin', 'meeting', 'meetins', 'meets', 'meg', 'mega', 'meh', 'mei', 'melnite', 'melody', 'melt', 'member', 'members', 'membership', 'memory', 'men', 'mens', 'mental', 'meow', 'merely', 'merry', 'mess', 'message', 'messaged', 'messages', 'messaging', 'messenger', 'messy', 'met', 'method', 'mfl', 'mi', 'michael', 'mid', 'middle', 'midnight', 'miles', 'milk', 'millers', 'min', 'mina', 'mind', 'mini', 'minimum', 'minmobsmore', 'minmobsmorelkpobox177hp51fl', 'minmoremobsemspobox45po139wa', 'mins', 'mint', 'minute', 'minutes', 'miracle', 'mirror', 'miserable', 'misfits', 'misplaced', 'miss', 'misscall', 'missed', 'missin', 'missing', 'missionary', 'misss', 'missy', 'mistake', 'mistakes', 'misundrstud', 'mite', 'mittelschmertz', 'miwa', 'mix', 'mjzgroup', 'mk45', 'mm', 'mmm', 'mmmm', 'mmmmmm', 'mmmmmmm', 'mmsto', 'mnth', 'mnths', 'mo', 'moan', 'mob', 'mobcudb', 'mobile', 'mobiles', 'mobilesdirect', 'mobileupd8', 'mobstorequiz10ppm', 'moby', 'mobypobox734ls27yf', 'mode', 'model', 'modl', 'module', 'modules', 'mofo', 'moji', 'mojibiola', 'mokka', 'molested', 'mom', 'moment', 'moments', 'moms', 'mon', 'monday', 'mone', 'money', 'monkey', 'monkeys', 'mono', 'monster', 'month', 'months', 'mood', 'moon', 'morn', 'mornin', 'morning', 'mornings', 'morphine', 'moseley', 'mother', 'motherfucker', 'motivate', 'motive', 'motorola', 'mountains', 'mouse', 'mouth', 'moved', 'moves', 'movie', 'movies', 'movietrivia', 'mp3', 'mquiz', 'mr', 'mrng', 'mrt', 'msg', 'msg150p', 'msging', 'msgrcvd18', 'msgrcvdhg', 'msgs', 'msn', 'mt', 'mth', 'mths', 'mtmsg', 'mtmsg18', 'mtmsgrcvd18', 'mtnl', 'mu', 'muchxxlove', 'mudyadhu', 'mufti', 'muht', 'multiply', 'multis', 'mum', 'mumbai', 'mummy', 'mundhe', 'murdered', 'murderer', 'mush', 'mushy', 'music', 'mutai', 'muz', 'mw', 'mwahs', 'mycalls', 'mylife', 'mymoby', 'myparents', 'mys', 'myspace', 'mystery', 'na', 'naal', 'nag', 'nah', 'nails', 'naked', 'named', 'nan', 'nanny', 'nap', 'narcotics', 'nasdaq', 'nasty', 'nat', 'natalie', 'natalie2k9', 'national', 'nationwide', 'natural', 'nature', 'naughty', 'nauseous', 'navigate', 'nb', 'nbme', 'nd', 'ne', 'near', 'nearby', 'nearer', 'nearly', 'necesity', 'necessarily', 'necessary', 'neck', 'necklace', 'ned', 'need', 'needa', 'needed', 'needing', 'needs', 'negative', 'neighbor', 'neo69', 'nervous', 'net', 'netvision', 'network', 'networking', 'networks', 'neva', 'nevering', 'nevr', 'new', 'neway', 'newest', 'newport', 'newquay', 'news', 'newscaster', 'newsletter', 'ni8', 'nic', 'nice', 'nichols', 'nick', 'nickey', 'nicky', 'nigeria', 'night', 'nighters', 'nightnight', 'nights', 'nigpun', 'nigro', 'ninish', 'nipost', 'nit', 'nite', 'nitro', 'nitros', 'nitw', 'njan', 'nmde', 'nobbing', 'noe', 'noice', 'noisy', 'nokia', 'nokia6650', 'nokias', 'non', 'noncomittal', 'nonetheless', 'nookii', 'noon', 'nooooooo', 'nope', 'nora', 'norcorp', 'nordstrom', 'normal', 'normally', 'north', 'northampton', 'nosh', 'nosy', 'note', 'notebook', 'notes', 'notice', 'notixiquating', 'nottingham', 'noun', 'novelty', 'november', 'nowadays', 'nr31', 'nt', 'ntt', 'ntwk', 'nudist', 'nuerologist', 'num', 'number', 'numbers', 'nursery', 'nus', 'nusstu', 'nuther', 'nutter', 'nver', 'nvm', 'nvq', 'nw', 'nxt', 'ny', 'nyc', 'nydc', 'nyt', 'nz', 'nìte', 'o2', 'oath', 'objection', 'oblisingately', 'oblivious', 'obviously', 'occasion', 'occupy', 'occur', 'ocean', 'oclock', 'odi', 'ofcourse', 'offc', 'offcampus', 'offense', 'offer', 'offered', 'offering', 'offers', 'office', 'official', 'officially', 'offline', 'oga', 'oh', 'oic', 'oil', 'ok', 'okay', 'okey', 'okie', 'okies', 'okors', 'old', 'oli', 'ollu', 'olol', 'omg', 'omw', 'oncall', 'ones', 'oni', 'onion', 'online', 'onluy', 'onlyfound', 'onwards', 'onwords', 'ooh', 'oooh', 'oooooh', 'oops', 'open', 'opened', 'opener', 'openin', 'opening', 'operate', 'operator', 'opinion', 'opinions', 'opportunity', 'opposed', 'opt', 'opted', 'optimistic', 'option', 'optout', 'or2optout', 'or2stoptxt', 'oral', 'orange', 'oranges', 'orc', 'orchard', 'order', 'ordered', 'oredi', 'oreo', 'oreos', 'org', 'organise', 'orh', 'original', 'orno', 'ors', 'ortxt', 'oru', 'oso', 'othrs', 'otside', 'ou', 'outage', 'outages', 'outfit', 'outfor', 'outgoing', 'outl8r', 'outrageous', 'outs', 'outside', 'outsider', 'outstanding', 'outta', 'ovarian', 'overa', 'overemphasise', 'overtime', 'ovr', 'ovulation', 'ow', 'owed', 'owl', 'owned', 'owns', 'oxygen', 'oyster', 'oz', 'pa', 'paces', 'pack', 'package', 'packing', 'page', 'pages', 'paid', 'pain', 'painful', 'painting', 'pairs', 'palm', 'pan', 'panasonic', 'panic', 'panther', 'panties', 'pants', 'pap', 'papa', 'paper', 'papers', 'paperwork', 'paracetamol', 'parade', 'paragon', 'parco', 'parent', 'parents', 'paris', 'park', 'parked', 'parkin', 'parking', 'participate', 'particularly', 'partner', 'partnership', 'party', 'pass', 'passed', 'passionate', 'password', 'past', 'pataistha', 'patent', 'path', 'pathaya', 'paths', 'patrick', 'paul', 'pause', 'pay', 'payback', 'paying', 'payment', 'payments', 'payoh', 'paypal', 'pc', 'pc1323', 'peaceful', 'peach', 'peak', 'pears', 'peeps', 'pei', 'pen', 'pence', 'pendent', 'pending', 'penis', 'people', 'peoples', 'perfect', 'performance', 'performed', 'perfume', 'peril', 'period', 'peripherals', 'permanent', 'permission', 'perpetual', 'persevered', 'persian', 'person', 'person2die', 'personal', 'personally', 'persons', 'perspective', 'pesky', 'pete', 'petey', 'petrol', 'petticoatdreams', 'ph', 'pharmacy', 'phb1', 'phews', 'philosophical', 'philosophy', 'phoenix', 'phone', 'phonebook', 'phoned', 'phones', 'phony', 'photo', 'photos', 'photoshop', 'php', 'phrase', 'phyhcmk', 'pic', 'pick', 'picked', 'picking', 'pics', 'picsfree1', 'picture', 'pictures', 'pie', 'piece', 'pieces', 'pierre', 'pig', 'piggy', 'pilates', 'pillows', 'pimples', 'pin', 'pink', 'pints', 'piss', 'pissed', 'pist', 'pity', 'pix', 'pizza', 'place', 'placement', 'places', 'plan', 'planet', 'planned', 'planning', 'plans', 'plate', 'platt', 'play', 'played', 'player', 'players', 'playing', 'playng', 'plaza', 'pleased', 'pleasure', 'pleasured', 'plenty', 'plm', 'pls', 'plum', 'plumbers', 'plumbing', 'plural', 'plus', 'plz', 'pm', 'pmt', 'po', 'po19', 'pobox', 'pobox1', 'pobox114', 'pobox12n146tf15', 'pobox12n146tf150p', 'pobox202', 'pobox36504w45wq', 'pobox75ldns7', 'pobox84', 'poboxox36504w45wq', 'pocay', 'pocketbabe', 'pockets', 'pocy', 'pod', 'poet', 'point', 'points', 'poker', 'poking', 'pole', 'police', 'polo', 'poly', 'polyphonic', 'polys', 'pongal', 'ponnungale', 'pool', 'poop', 'poor', 'pop', 'popcorn', 'popped', 'popping', 'porn', 'porridge', 'port', 'portal', 'portions', 'pos', 'pose', 'position', 'positions', 'positive', 'possession', 'possessive', 'possibility', 'possible', 'possibly', 'post', 'postcard', 'postcode', 'posted', 'posting', 'postponed', 'posts', 'potential', 'potter', 'pound', 'pounds', 'power', 'ppl', 'pple', 'ppm', 'ppm150', 'ppt150x3', 'practice', 'practicing', 'practicum', 'prakesh', 'pray', 'praying', 'pre', 'predict', 'predicte', 'predicting', 'prefer', 'preferably', 'premarica', 'premier', 'premium', 'prepare', 'prepared', 'prepayment', 'prescribed', 'prescripiton', 'prescription', 'presence', 'present', 'presents', 'president', 'press', 'pretend', 'pretty', 'prevent', 'previous', 'prey', 'price', 'prices', 'pride', 'prin', 'prince', 'princes', 'princess', 'print', 'printed', 'printing', 'prior', 'priscilla', 'privacy', 'private', 'prix', 'priya', 'prize', 'pro', 'prob', 'probably', 'problem', 'problems', 'probpop', 'probs', 'process', 'profit', 'program', 'progress', 'project', 'prolly', 'promise', 'promised', 'promises', 'promo', 'promoting', 'promptly', 'prompts', 'prone', 'proof', 'proper', 'property', 'propose', 'prove', 'provided', 'provider', 'province', 'proze', 'ps', 'ps3', 'psp', 'psxtra', 'psychic', 'pthis', 'pub', 'public', 'publish', 'pubs', 'pull', 'pulling', 'pulls', 'pump', 'punish', 'punto', 'purchase', 'purple', 'purse', 'push', 'pushes', 'pussy', 'puts', 'puttin', 'putting', 'puzzeles', 'puzzles', 'px3748', 'qatar', 'qbank', 'qet', 'qi', 'qjkgighjjgcbl', 'qlynnbv', 'quality', 'quarter', 'queen', 'queries', 'ques', 'question', 'questions', 'quick', 'quickly', 'quiet', 'quit', 'quite', 'quiteamuzing', 'quiz', 'quizclub', 'quizzes', 'quote', 'quoting', 'racal', 'racing', 'radiator', 'radio', 'raiden', 'railway', 'rain', 'raining', 'raise', 'raised', 'raj', 'rajas', 'rajini', 'rajitha', 'rajnikant', 'rakhesh', 'raksha', 'ramen', 'random', 'randomly', 'randy', 'rang', 'range', 'ranju', 'raping', 'rate', 'rates', 'rats', 'raviyog', 'rayman', 'rays', 'rcd', 'rct', 'rcvd', 'rd', 'rdy', 'reach', 'reached', 'reaching', 'reacting', 'read', 'readers', 'reading', 'ready', 'real', 'realise', 'realised', 'realising', 'reality', 'realize', 'realized', 'realizes', 'really', 'reallyneed', 'realy', 'reapply', 'rearrange', 'reason', 'reasonable', 'reasons', 'reassurance', 'reassuring', 'rebel', 'reboot', 'rebooting', 'rebtel', 'recd', 'receipt', 'receipts', 'receive', 'received', 'receiving', 'recent', 'recently', 'reception', 'recession', 'recharge', 'reckon', 'recognise', 'recognises', 'record', 'recorder', 'records', 'recount', 'recovery', 'recreation', 'red', 'redeemable', 'redeemed', 'ree', 'ref', 'reference', 'referin', 'reffering', 'reflection', 'refreshed', 'refunded', 'refused', 'reg', 'regard', 'regarding', 'regards', 'registered', 'registration', 'regret', 'regular', 'rejected', 'related', 'relationship', 'relatives', 'relax', 'relaxing', 'released', 'religiously', 'relocate', 'reltnship', 'rem', 'remb', 'remember', 'remembered', 'rememberi', 'remembr', 'remind', 'reminder', 'reminding', 'reminds', 'remixed', 'removal', 'remove', 'rencontre', 'renewal', 'renewed', 'renewing', 'rent', 'rental', 'renting', 'rents', 'repair', 'repairs', 'repeat', 'repeating', 'replacement', 'replacing', 'replied', 'reply', 'replying', 'report', 'representative', 'republic', 'request', 'requests', 'require', 'required', 'requirements', 'research', 'resent', 'reserve', 'reserved', 'reset', 'residency', 'resolution', 'resolved', 'resort', 'respect', 'respectful', 'respond', 'responding', 'response', 'responsibilities', 'responsibility', 'responsible', 'rest', 'restaurant', 'restocked', 'restrictions', 'resubbing', 'resubmit', 'result', 'results', 'resume', 'resuming', 'retard', 'retired', 'retrieve', 'return', 'returning', 'returns', 'reveal', 'revealed', 'review', 'revision', 'reward', 'rewarding', 'rg21', 'rgds', 'rhythm', 'rice', 'rich', 'riddance', 'ride', 'right', 'rightio', 'rights', 'riley', 'rimac', 'ring', 'ringing', 'ringtone', 'ringtoneking', 'ringtones', 'rip', 'ripped', 'risks', 'rite', 'river', 'road', 'roads', 'robs', 'rock', 'rocks', 'rodds1', 'rodger', 'rofl', 'roger', 'role', 'rolled', 'roller', 'romantic', 'romcapspam', 'room', 'roommate', 'rooms', 'ros', 'rose', 'roses', 'round', 'rounder', 'route', 'row', 'royal', 'rpl', 'rply', 'rs', 'rstm', 'rt', 'rtf', 'rtm', 'rto', 'ru', 'rub', 'rubber', 'rude', 'rudi', 'rugby', 'ruin', 'ruining', 'rule', 'rumbling', 'run', 'running', 'runs', 'rush', 'rushing', 'rwm', 'ryan', 'ryder', 's3xy', 's89', 'sabarish', 'sac', 'sachin', 'sacked', 'sacrifice', 'sad', 'sae', 'saeed', 'safe', 'safely', 'safety', 'sagamu', 'saibaba', 'said', 'sake', 'salam', 'salary', 'sale', 'sales', 'salesman', 'sall', 'salmon', 'salon', 'sam', 'samachara', 'samantha', 'samus', 'sankranti', 'santa', 'sapna', 'sarasota', 'sarcasm', 'sarcastic', 'sariyag', 'sary', 'sashimi', 'sat', 'satanic', 'sathy', 'satisfy', 'satsgettin', 'satthen', 'saturday', 'savamob', 'save', 'saved', 'savings', 'saw', 'say', 'saying', 'says', 'sayy', 'sc', 'scallies', 'scarcasim', 'scared', 'scary', 'scenery', 'sch', 'schedule', 'school', 'schools', 'science', 'scold', 'scool', 'scorable', 'score', 'scores', 'scotland', 'scouse', 'scraped', 'scratches', 'scratching', 'scream', 'screamed', 'screaming', 'screwd', 'scrounge', 'scrumptious', 'sculpture', 'sd', 'sday', 'sea', 'search', 'searching', 'season', 'seat', 'sec', 'second', 'seconds', 'secret', 'secretary', 'secretly', 'secs', 'section', 'secure', 'secured', 'sed', 'seeing', 'seekers', 'seen', 'sef', 'sehwag', 'seing', 'selected', 'selection', 'self', 'selflessness', 'sell', 'selling', 'sem', 'semester', 'semi', 'sen', 'send', 'sender', 'sending', 'sends', 'senor', 'senrd', 'sense', 'senses', 'sent', 'sentence', 'seperated', 'series', 'seriously', 'service', 'services', 'serving', 'servs', 'set', 'settings', 'settle', 'settled', 'seven', 'sex', 'sexiest', 'sexual', 'sexy', 'sexychat', 'sf', 'sg', 'sh', 'sha', 'shade', 'shah', 'shakara', 'shaking', 'shall', 'shame', 'shangela', 'shanghai', 'shant', 'share', 'shared', 'sharing', 'shaved', 'shd', 'sheets', 'sheffield', 'shell', 'sherawat', 'shesil', 'shexy', 'shhhhh', 'shifad', 'shijutta', 'shining', 'shiny', 'ship', 'shipping', 'shirt', 'shirts', 'shit', 'shite', 'shitinnit', 'shitload', 'shitstorm', 'shivratri', 'shld', 'shldxxxx', 'shocking', 'shola', 'shoot', 'shop', 'shopping', 'shoranur', 'shore', 'short', 'shortbreaks', 'shortcode', 'shorter', 'shortly', 'shorts', 'shot', 'shoul', 'shoulders', 'shouldn', 'shouted', 'shouting', 'shove', 'shoving', 'showed', 'shower', 'showered', 'showing', 'showr', 'shows', 'shrek', 'shrink', 'shu', 'shuhui', 'shut', 'shy', 'si', 'sian', 'sic', 'sick', 'sigh', 'sighs', 'sight', 'sign', 'signal', 'significance', 'significant', 'signin', 'signing', 'silence', 'silent', 'silently', 'silly', 'silver', 'sim', 'simple', 'simply', 'simpsons', 'sing', 'singapore', 'singing', 'single', 'singles', 'sink', 'sips', 'sir', 'sis', 'sister', 'sit', 'site', 'sitter', 'sittin', 'sitting', 'situation', 'siva', 'size', 'sk3', 'sk38xh', 'skateboarding', 'skilgme', 'skillgame', 'skills', 'skins', 'skint', 'skip', 'skype', 'skyving', 'slap', 'slave', 'sleep', 'sleepin', 'sleeping', 'sleepy', 'slept', 'slide', 'slip', 'slippers', 'slippery', 'slo', 'slots', 'slow', 'slower', 'slowing', 'slowly', 'slurp', 'smacks', 'small', 'smaller', 'smart', 'smartcall', 'smarter', 'smash', 'smashed', 'smear', 'smell', 'smidgin', 'smile', 'smiles', 'smiling', 'smith', 'smoke', 'smoked', 'smokes', 'smoking', 'smoothly', 'sms', 'smsco', 'smsing', 'smsservices', 'smth', 'sn', 'snake', 'snap', 'snappy', 'snatch', 'snogs', 'snoring', 'snot', 'snow', 'snowman', 'snuggles', 'social', 'sofa', 'software', 'soiree', 'sol', 'soladha', 'sold', 'solihull', 'solve', 'solved', 'somebody', 'someonone', 'someplace', 'sometext', 'somethin', 'sometme', 'somewhat', 'somone', 'somtimes', 'sonathaya', 'song', 'songs', 'sony', 'sonyericsson', 'soo', 'soon', 'sooner', 'soonlots', 'soooo', 'sooooo', 'sore', 'sorry', 'sort', 'sorta', 'sorted', 'sorting', 'sos', 'soul', 'sound', 'sounds', 'soup', 'south', 'southern', 'souveniers', 'sp', 'space', 'spageddies', 'spain', 'spam', 'spanish', 'sparkling', 'speak', 'special', 'speciale', 'specialisation', 'specialise', 'specially', 'specify', 'specs', 'speechless', 'speed', 'speedchat', 'speling', 'spell', 'spelled', 'spelling', 'spend', 'spending', 'spent', 'sphosting', 'spice', 'spider', 'spile', 'spinout', 'spiral', 'spjanuary', 'spk', 'spl', 'splash', 'splat', 'splendid', 'spoil', 'spoiled', 'spoke', 'spoken', 'sponsors', 'spontaneously', 'spook', 'spoon', 'sport', 'spose', 'spot', 'spotty', 'spouse', 'spree', 'spring', 'springs', 'sprint', 'sptv', 'spys', 'sq825', 'squatting', 'squishy', 'srs', 'srt', 'sry', 'st', 'stability', 'stable', 'staff', 'stairs', 'stalking', 'stamps', 'stand', 'standard', 'standing', 'stapati', 'star', 'starer', 'staring', 'starring', 'stars', 'starshine', 'start', 'started', 'starting', 'starts', 'starwars3', 'stated', 'statement', 'station', 'status', 'stay', 'stayed', 'stayin', 'staying', 'stays', 'std', 'steak', 'steal', 'stealing', 'steam', 'steed', 'steering', 'step', 'stereo', 'stereophonics', 'sterling', 'sterm', 'steve', 'stewartsize', 'sth', 'sticky', 'stifled', 'stock', 'stocked', 'stolen', 'stomach', 'stone', 'stoners', 'stool', 'stop', 'stop2stop', 'stopbcm', 'stopcost', 'stopcs', 'stopped', 'stops', 'stopsms', 'store', 'stores', 'stories', 'story', 'str', 'straight', 'strange', 'stranger', 'street', 'stress', 'stressful', 'stressfull', 'stretch', 'strewn', 'strokes', 'strong', 'strongly', 'stubborn', 'stuck', 'studdying', 'student', 'studentfinancial', 'students', 'studies', 'studio', 'study', 'studying', 'studyn', 'stuff', 'stuff42moro', 'stuffed', 'stunning', 'stupid', 'style', 'styles', 'sub', 'subject', 'submitted', 'submitting', 'subpoly', 'subs', 'subscribe', 'subscribe6gbp', 'subscribed', 'subscription', 'subscriptions', 'subscriptn3gbp', 'subsequent', 'subtoitles', 'success', 'successful', 'sucker', 'suckers', 'sucks', 'sudden', 'suddenly', 'sudn', 'suffering', 'suffers', 'sufficient', 'sugababes', 'sugar', 'sugardad', 'suggest', 'suggestion', 'suggestions', 'suite', 'suite342', 'suitemates', 'suits', 'sullivan', 'sum', 'summer', 'summers', 'sumthin', 'sun', 'sun0819', 'sunday', 'sunlight', 'sunny', 'sunoco', 'sunshine', 'sup', 'super', 'superb', 'superior', 'supervisor', 'supose', 'suppliers', 'supply', 'support', 'supports', 'supposed', 'suprman', 'sura', 'sure', 'surely', 'surf', 'surfing', 'surgical', 'surly', 'surname', 'surprise', 'surprised', 'surrender', 'surrounded', 'sutra', 'sux', 'suzy', 'sw7', 'sw73ss', 'swalpa', 'swan', 'swap', 'swashbuckling', 'swatch', 'sway', 'swayze', 'swear', 'sweater', 'sweet', 'sweetheart', 'sweetie', 'sweets', 'swhrt', 'swimming', 'swimsuit', 'swing', 'switch', 'swollen', 'swoop', 'swt', 'syd', 'symbol', 'symptoms', 'synced', 't4get2text', 't91', 'ta', 'tablet', 'tablets', 'tackle', 'tacos', 'tactless', 'tag', 'tagged', 'tahan', 'tait', 'takecare', 'taken', 'takes', 'takin', 'taking', 'talk', 'talked', 'talkin', 'talking', 'talks', 'tall', 'tallahassee', 'tamilnadu', 'tampa', 'tank', 'tantrum', 'tap', 'tape', 'tariffs', 'tarpon', 'taste', 'tasts', 'tat', 'tats', 'tattoos', 'taunton', 'taxes', 'taxi', 'taxt', 'taylor', 'tayseer', 'tb', 'tc', 'tcr', 'tea', 'teach', 'teachers', 'teaches', 'teaching', 'team', 'tear', 'tears', 'teasing', 'tech', 'technical', 'tee', 'teenager', 'teeth', 'teju', 'tel', 'telediscount', 'telephone', 'tell', 'telling', 'tells', 'telly', 'telugu', 'temp', 'tendencies', 'tenerife', 'tension', 'teresa', 'term', 'terms', 'termsapply', 'terrible', 'terry', 'tescos', 'test', 'testing', 'tests', 'texas', 'texd', 'text', 'textbuddy', 'textcomp', 'texted', 'textin', 'texting', 'textoperator', 'textpod', 'texts', 'tgxxrz', 'th', 'thangam', 'thank', 'thanks', 'thanx', 'thanx4', 'that2worzels', 'thats', 'thecd', 'theirs', 'thekingshead', 'themed', 'themes', 'themob', 'thenampet', 'theoretically', 'theres', 'thesis', 'thesmszone', 'theyre', 'thing', 'things', 'think', 'thinked', 'thinkin', 'thinking', 'thinks', 'thinkthis', 'thinl', 'thirtyeight', 'thirunelvali', 'thk', 'thkin', 'thnk', 'thnq', 'tho', 'thot', 'thou', 'thought', 'thousands', 'thread', 'threats', 'thriller', 'throat', 'throw', 'thrown', 'throws', 'tht', 'thts', 'thuglyfe', 'thurs', 'thursday', 'thx', 'tick', 'ticket', 'tickets', 'tie', 'tight', 'tightly', 'tiime', 'til', 'till', 'tim', 'time', 'times', 'timi', 'timin', 'timing', 'timings', 'tiny', 'tired', 'tiring', 'tirunelvali', 'tirupur', 'tis', 'tissco', 'tke', 'tlp', 'tm', 'tming', 'tmorow', 'tmorrow', 'tmr', 'tmrw', 'tms', 'tmw', 'tnc', 'tncs', 'toa', 'toaday', 'tobacco', 'today', 'todays', 'tog', 'tohar', 'toilet', 'tok', 'toking', 'tol', 'told', 'tolerance', 'tom', 'tomarrow', 'tome', 'tomo', 'tomorrow', 'tomorw', 'tone', 'tones', 'tones2you', 'tonexs', 'tonght', 'tongued', 'tonight', 'tonite', 'tons', 'took', 'tool', 'tooo', 'toot', 'tooth', 'toothpaste', 'tootsie', 'topic', 'topped', 'toppoly', 'tor', 'torch', 'torrents', 'tortilla', 'torture', 'toss', 'tot', 'total', 'totally', 'touch', 'tough', 'toughest', 'tour', 'town', 'tp', 'track', 'trade', 'traditions', 'train', 'training', 'trains', 'tram', 'tranquility', 'transfer', 'transfered', 'transferred', 'transfred', 'transport', 'trauma', 'travel', 'traveling', 'travelled', 'travelling', 'treasure', 'treat', 'tree', 'tried', 'trip', 'trips', 'trivia', 'tron', 'trouble', 'troubleshooting', 'true', 'truffles', 'truro', 'trust', 'truth', 'try', 'trying', 'ts', 'tscs', 'tscs087147403231winawk', 'tsunami', 'tsunamis', 'tt', 'ttyl', 'tue', 'tues', 'tuesday', 'tui', 'tuition', 'tunde', 'tune', 'tunji', 'turn', 'turning', 'turns', 'tuth', 'tv', 'twice', 'twiggs', 'twinks', 'txt', 'txt250', 'txtauction', 'txting', 'txts', 'txtstop', 'txtx', 'tyler', 'type', 'types', 'typical', 'ugadi', 'ugh', 'ugo', 'uk', 'uks', 'ultimate', 'ultimately', 'um', 'umma', 'ummifying', 'ummma', 'unable', 'unbelievable', 'unclaimed', 'uncle', 'uncomfortable', 'unconsciously', 'uncountable', 'understand', 'understanding', 'understood', 'underwear', 'undrstnd', 'uneventful', 'unfolds', 'unfortunately', 'unhappy', 'uni', 'unicef', 'unintentional', 'unintentionally', 'unique', 'united', 'units', 'university', 'unknown', 'unless', 'unlimited', 'unmits', 'unnecessarily', 'unni', 'unrecognized', 'unredeemed', 'unsecured', 'unsold', 'unspoken', 'unsub', 'unsubscribe', 'unsubscribed', 'unusual', 'upd8', 'update', 'update_now', 'upgrade', 'upgrading', 'upload', 'ups', 'upset', 'upstairs', 'upto', 'ur', 'urawinner', 'ure', 'urgent', 'urgoin', 'urination', 'url', 'urmom', 'urself', 'usa', 'usb', 'usc', 'use', 'used', 'useful', 'useless', 'user', 'usf', 'using', 'usmle', 'usps', 'usual', 'usually', 'uterus', 'uup', 'uve', 'uworld', 'va', 'vague', 'vaguely', 'vale', 'valentine', 'valentines', 'valid', 'valid12hrs', 'value', 'valued', 'values', 'valuing', 'varaya', 'vargu', 'various', 'varma', 'varunnathu', 'vat', 'vatian', 'vava', 've', 'vegas', 'veggie', 'vehicle', 'velly', 'version', 'versus', 'vewy', 'vibrant', 'vic', 'vid', 'video', 'vijaykanth', 'vikky', 'vilikkam', 'vill', 'villa', 'village', 'vinobanagar', 'violated', 'violence', 'vip', 'virgil', 'virgin', 'virgins', 'visionsms', 'visit', 'visitor', 'vital', 'vivek', 'vl', 'voda', 'vodafone', 'voice', 'voila', 'volcanoes', 'vomit', 'vomiting', 'vote', 'voted', 'voucher', 'vouchers', 'vs', 'w1', 'w14rg', 'w1a', 'w1j', 'w1j6hl', 'w1jhl', 'w1t1jy', 'w8in', 'wa', 'wa14', 'wad', 'wah', 'wahala', 'wahay', 'waheed', 'waheeda', 'wahleykkum', 'wait', 'waitin', 'waiting', 'wake', 'waking', 'wales', 'waliking', 'walk', 'walkabout', 'walked', 'walking', 'walks', 'wall', 'wallet', 'wallpaper', 'walls', 'walmart', 'walsall', 'wan', 'wana', 'wanna', 'want', 'want2come', 'wanted', 'wanting', 'wants', 'wap', 'warm', 'warming', 'warned', 'warner', 'warning', 'warwick', 'washob', 'wasn', 'wasnt', 'waste', 'wat', 'watch', 'watchin', 'watching', 'watchng', 'water', 'watever', 'wats', 'watts', 'wavering', 'way', 'way2sms', 'waz', 'wc1n3xx', 'weak', 'weakness', 'weaknesses', 'wear', 'wearing', 'weaseling', 'weasels', 'weather', 'web', 'web2mobile', 'webadres', 'webpage', 'website', 'wed', 'weddin', 'wedding', 'weddingfriend', 'wednesday', 'weds', 'wee', 'weed', 'week', 'weekdays', 'weekend', 'weekends', 'weekly', 'weeks', 'weigh', 'weight', 'weightloss', 'weird', 'weirdest', 'weirdy', 'welcome', 'wellda', 'welp', 'wen', 'wenever', 'went', 'weren', 'wesley', 'west', 'westshore', 'wet', 'wewa', 'whats', 'wheel', 'wheellock', 'whenevr', 'whereare', 'wherevr', 'whispers', 'white', 'whore', 'whos', 'whr', 'wi', 'wicked', 'wid', 'widelive', 'wif', 'wife', 'wifi', 'wil', 'wild', 'wildest', 'wildlife', 'willing', 'win', 'wind', 'window', 'winds', 'windy', 'wine', 'wined', 'wings', 'wining', 'winner', 'winning', 'wins', 'wipe', 'wipro', 'wire3', 'wisdom', 'wish', 'wisheds', 'wishes', 'wishing', 'wishlist', 'wit', 'withdraw', 'wither', 'witin', 'witot', 'witout', 'wiv', 'wizzle', 'wk', 'wkend', 'wkg', 'wkly', 'wknd', 'wks', 'wlcome', 'wld', 'wml', 'wnt', 'woah', 'wocay', 'woke', 'woman', 'women', 'won', 'wondarfull', 'wonder', 'wonderful', 'wondering', 'wont', 'woould', 'woozles', 'word', 'words', 'work', 'workin', 'working', 'workout', 'works', 'world', 'worlds', 'worms', 'worried', 'worries', 'worry', 'worrying', 'worse', 'worst', 'worth', 'worthless', 'wot', 'wotz', 'woul', 'woulda', 'wouldn', 'wow', 'wrecked', 'wrench', 'wrenching', 'wright', 'write', 'writhing', 'wrk', 'wrking', 'wrong', 'wrote', 'ws', 'wtf', 'wth', 'wthout', 'wud', 'wuld', 'wuldnt', 'wun', 'www', 'wylie', 'xam', 'xavier', 'xchat', 'xclusive', 'xin', 'xmas', 'xt', 'xuhui', 'xx', 'xxsp', 'xxx', 'xxxmobilemovieclub', 'xxxx', 'xxxxxxx', 'xxxxxxxxxxxxxx', 'xy', 'ya', 'yah', 'yahoo', 'yalru', 'yam', 'yan', 'yar', 'yards', 'yaxxx', 'yay', 'yck', 'yeah', 'year', 'years', 'yeesh', 'yelling', 'yellow', 'yelow', 'yep', 'yes', 'yest', 'yesterday', 'yetunde', 'yifeng', 'yijue', 'ym', 'yo', 'yoga', 'yogasana', 'yorge', 'youphone', 'youre', 'yourinclusive', 'yourjob', 'youuuuu', 'youwanna', 'yr', 'yrs', 'ystrday', 'ything', 'yummmm', 'yummy', 'yun', 'yunny', 'yuou', 'yup', 'yupz', 'zac', 'zealand', 'zebra', 'zed', 'zeros', 'zogtorius', 'zouk', 'ú1', '〨ud']\n"
     ]
    }
   ],
   "source": [
    "print(tfidf.get_feature_names())"
   ]
  },
  {
   "cell_type": "markdown",
   "metadata": {},
   "source": [
    "### 机器学习模型"
   ]
  },
  {
   "cell_type": "markdown",
   "metadata": {},
   "source": [
    "### 机器模型大杂烩"
   ]
  },
  {
   "cell_type": "code",
   "execution_count": 19,
   "metadata": {},
   "outputs": [],
   "source": [
    "from sklearn.linear_model import LogisticRegression\n",
    "from sklearn.svm import SVC\n",
    "from sklearn.naive_bayes import MultinomialNB\n",
    "from sklearn.neighbors import KNeighborsClassifier\n",
    "from sklearn.ensemble import AdaBoostClassifier,RandomForestClassifier,BaggingClassifier,ExtraTreesClassifier\n",
    "from sklearn.tree import DecisionTreeClassifier\n",
    "from sklearn.metrics import accuracy_score,f1_score,confusion_matrix,classification_report"
   ]
  },
  {
   "cell_type": "code",
   "execution_count": 20,
   "metadata": {},
   "outputs": [],
   "source": [
    "models = {\n",
    "    \"SVC\":SVC(kernel=\"linear\"),\n",
    "    \"MultinomialNB\":MultinomialNB(),\n",
    "    \"LogisticRegression\":LogisticRegression(),\n",
    "    \"KNeighborsClassifier\":KNeighborsClassifier(),\n",
    "    \"DecisionTreeClassifier\":DecisionTreeClassifier(),\n",
    "    \"RandomForestClassifier\":RandomForestClassifier(),\n",
    "    \"AdaBoostClassifier\":AdaBoostClassifier(),\n",
    "    \"BaggingClassifier\":BaggingClassifier(),\n",
    "    \"ExtraTreesClassifier\":ExtraTreesClassifier()\n",
    "}\n",
    "\n",
    "prediction = dict()\n",
    "score_map = {}\n",
    "\n",
    "for model_name in models:\n",
    "    model = models[model_name]\n",
    "    model.fit(x_train_df,y_train)\n",
    "    prediction[model_name]=model.predict(x_test_df)\n",
    "    score=accuracy_score(y_test,prediction[model_name])\n",
    "    score_map[model_name]=score"
   ]
  },
  {
   "cell_type": "code",
   "execution_count": 21,
   "metadata": {},
   "outputs": [],
   "source": [
    "result = pd.DataFrame()\n",
    "result[\"model\"] = score_map.keys()\n",
    "result[\"score\" ]=score_map.values()\n",
    "result[\"score\"]=result[\"score\"].apply(lambda x : x*100)"
   ]
  },
  {
   "cell_type": "code",
   "execution_count": 22,
   "metadata": {},
   "outputs": [],
   "source": [
    "def plot_model_performace(result):\n",
    "    sns.set_style(\"ticks\")\n",
    "    figsize=(22,6)\n",
    "    \n",
    "    ticksize=12\n",
    "    titlesize=ticksize+8\n",
    "    labelsize=ticksize+5\n",
    "    \n",
    "    xlabel=\"Model\"\n",
    "    ylabel=\"Score\"\n",
    "    \n",
    "    title=\"Model Performance\"\n",
    "    \n",
    "    params={\"figure.figsize\":figsize,\n",
    "                    \"axes.labelsize\":labelsize,\n",
    "                    \"axes.titlesize\":titlesize,\n",
    "                    \"xtick.labelsize\":ticksize,\n",
    "                    \"ytick.labelsize\":ticksize}\n",
    "    \n",
    "    plt.rcParams.update(params)\n",
    "    \n",
    "    col1=\"model\"\n",
    "    col2=\"score\"\n",
    "    sns.barplot(x=col1,y=col2,data=result)\n",
    "    plt.title(title.title())\n",
    "    plt.xlabel(xlabel)\n",
    "    plt.ylabel(ylabel)\n",
    "    plt.xticks(rotation=90)\n",
    "    plt.grid()\n",
    "    plt.plot()\n",
    "    plt.show()\n",
    "    print(result)"
   ]
  },
  {
   "cell_type": "code",
   "execution_count": 23,
   "metadata": {},
   "outputs": [
    {
     "data": {
      "image/png": "[encoded data removed]",
      "text/plain": [
       "<Figure size 1584x432 with 1 Axes>"
      ]
     },
     "metadata": {},
     "output_type": "display_data"
    },
    {
     "name": "stdout",
     "output_type": "stream",
     "text": [
      "                    model      score\n",
      "0                     SVC  97.246377\n",
      "1           MultinomialNB  95.507246\n",
      "2      LogisticRegression  94.347826\n",
      "3    KNeighborsClassifier  92.318841\n",
      "4  DecisionTreeClassifier  94.637681\n",
      "5  RandomForestClassifier  96.231884\n",
      "6      AdaBoostClassifier  95.652174\n",
      "7       BaggingClassifier  95.217391\n",
      "8    ExtraTreesClassifier  96.521739\n"
     ]
    }
   ],
   "source": [
    "plot_model_performace(result)"
   ]
  },
  {
   "cell_type": "markdown",
   "metadata": {},
   "source": [
    "### 超参数调整"
   ]
  },
  {
   "cell_type": "code",
   "execution_count": 24,
   "metadata": {},
   "outputs": [
    {
     "name": "stdout",
     "output_type": "stream",
     "text": [
      "Fitting 3 folds for each of 63 candidates, totalling 189 fits\n"
     ]
    },
    {
     "name": "stderr",
     "output_type": "stream",
     "text": [
      "[Parallel(n_jobs=-1)]: Using backend LokyBackend with 4 concurrent workers.\n",
      "[Parallel(n_jobs=-1)]: Done  24 tasks      | elapsed:    1.9s\n",
      "[Parallel(n_jobs=-1)]: Done 189 out of 189 | elapsed:    2.4s finished\n"
     ]
    },
    {
     "data": {
      "text/plain": [
       "GridSearchCV(cv=3, error_score='raise-deprecating',\n",
       "             estimator=MultinomialNB(alpha=1.0, class_prior=None,\n",
       "                                     fit_prior=True),\n",
       "             iid='warn', n_jobs=-1,\n",
       "             param_grid={'alpha': array([1.0e-04, 2.0e-04, 3.0e-04, 4.0e-04, 5.0e-04, 6.0e-04, 7.0e-04,\n",
       "       8.0e-04, 9.0e-04, 1.0e-03, 2.0e-03, 3.0e-03, 4.0e-03, 5.0e-03,\n",
       "       6.0e-03, 7.0e-03, 8.0e-03, 9.0e-03, 1.0e-02, 2.0e-02, 3.0e-02,\n",
       "       4.0e-02, 5.0e-02, 6...\n",
       "       2.0e-01, 3.0e-01, 4.0e-01, 5.0e-01, 6.0e-01, 7.0e-01, 8.0e-01,\n",
       "       9.0e-01, 1.0e+00, 2.0e+00, 3.0e+00, 4.0e+00, 5.0e+00, 6.0e+00,\n",
       "       7.0e+00, 8.0e+00, 9.0e+00, 1.0e+01, 1.5e+01, 2.0e+01, 2.5e+01,\n",
       "       3.0e+01, 3.5e+01, 4.0e+01, 4.5e+01, 5.0e+01, 5.5e+01, 6.0e+01,\n",
       "       6.5e+01, 7.0e+01, 7.5e+01, 8.0e+01, 8.5e+01, 9.0e+01, 9.5e+01])},\n",
       "             pre_dispatch='2*n_jobs', refit=True, return_train_score=False,\n",
       "             scoring=None, verbose=3)"
      ]
     },
     "execution_count": 24,
     "metadata": {},
     "output_type": "execute_result"
    }
   ],
   "source": [
    "from sklearn.model_selection import GridSearchCV\n",
    "\n",
    "param_grid = {\n",
    "    \"alpha\":np.concatenate(\n",
    "        [\n",
    "            np.arange(0.0001,0.001,0.0001),\n",
    "            np.arange(0.001,0.01,0.001),\n",
    "            np.arange(0.01,0.1,0.01),\n",
    "            np.arange(0.1,1,0.1),\n",
    "            np.arange(1,10,1),\n",
    "            np.arange(10,100,5)\n",
    "        ]\n",
    "    )\n",
    "}\n",
    "model = MultinomialNB()\n",
    "grid_cv_model = GridSearchCV(model,param_grid,n_jobs=-1,verbose=3,cv=3)\n",
    "grid_cv_model.fit(x_train_df,y_train)"
   ]
  },
  {
   "cell_type": "code",
   "execution_count": 25,
   "metadata": {},
   "outputs": [
    {
     "name": "stdout",
     "output_type": "stream",
     "text": [
      "Best Estimator: MultinomialNB(alpha=0.2, class_prior=None, fit_prior=True)\n",
      "Besr Params: {'alpha': 0.2}\n",
      "Bset Scores: 0.9807831762146483\n"
     ]
    }
   ],
   "source": [
    "#对指标评价\n",
    "print(\"{}{}\".format(\"Best Estimator: \",grid_cv_model.best_estimator_))\n",
    "print(\"{}{}\".format(\"Besr Params: \",grid_cv_model.best_params_))\n",
    "print(\"{}{}\".format(\"Bset Scores: \",grid_cv_model.best_score_))"
   ]
  },
  {
   "cell_type": "code",
   "execution_count": 30,
   "metadata": {},
   "outputs": [
    {
     "name": "stdout",
     "output_type": "stream",
     "text": [
      "              precision    recall  f1-score   support\n",
      "\n",
      "         Ham       0.95      1.00      0.98       621\n",
      "        Spam       1.00      0.55      0.71        69\n",
      "\n",
      "    accuracy                           0.96       690\n",
      "   macro avg       0.98      0.78      0.84       690\n",
      "weighted avg       0.96      0.96      0.95       690\n",
      "\n"
     ]
    }
   ],
   "source": [
    "print(classification_report(y_test,prediction[\"MultinomialNB\"],target_names=[\"Ham\",\"Spam\"]))"
   ]
  },
  {
   "cell_type": "code",
   "execution_count": 31,
   "metadata": {},
   "outputs": [],
   "source": [
    "# 混淆矩阵\n",
    "def plot_confusion_matrix(y_test,y_pred,title=\"\"):\n",
    "    conf_mat=confusion_matrix(y_test,y_pred)\n",
    "    conf_mat_normalized=conf_mat.astype(\"float\")/conf_mat.sum(axis=1)[:,np.newaxis]\n",
    "    \n",
    "    figsize=(22,5)\n",
    "    \n",
    "    ticksize=18\n",
    "    titlesize=ticksize+8\n",
    "    labelsize=ticksize+5\n",
    "    \n",
    "    xlabel=\"Predicted label\"\n",
    "    ylabel=\"True label\"\n",
    "    \n",
    "    params={\"figure.figsize\":figsize,\n",
    "                   \"axes.labelsize\":labelsize,\n",
    "                   \"axes.titlesize\":titlesize,\n",
    "                    \"xtick.labelsize\":ticksize,\n",
    "                    \"ytick.labelsize\":ticksize}\n",
    "    \n",
    "    plt.rcParams.update(params)\n",
    "    \n",
    "    plt.subplot(121)\n",
    "    sns.heatmap(conf_mat,annot=True)\n",
    "    plt.title(title)\n",
    "    plt.xlabel(xlabel)\n",
    "    plt.ylabel(ylabel)\n",
    "    \n",
    "    plt.subplot(122)\n",
    "    sns.heatmap(conf_mat_normalized,annot=True)\n",
    "    plt.title(title)\n",
    "    plt.xlabel(xlabel)\n",
    "    plt.ylabel(ylabel)\n",
    "    plt.show()\n",
    "    \n",
    "    print(\"Confusion  Matrix:\\n\")\n",
    "    print(conf_mat)\n",
    "    print(\"\\n\\nConfusion Matrix Normalized:\\n\")\n",
    "    print(conf_mat_normalized)"
   ]
  },
  {
   "cell_type": "code",
   "execution_count": 32,
   "metadata": {},
   "outputs": [
    {
     "data": {
      "image/png": "[encoded data removed]",
      "text/plain": [
       "<Figure size 1584x360 with 4 Axes>"
      ]
     },
     "metadata": {},
     "output_type": "display_data"
    },
    {
     "name": "stdout",
     "output_type": "stream",
     "text": [
      "Confusion  Matrix:\n",
      "\n",
      "[[621   0]\n",
      " [ 31  38]]\n",
      "\n",
      "\n",
      "Confusion Matrix Normalized:\n",
      "\n",
      "[[1.         0.        ]\n",
      " [0.44927536 0.55072464]]\n"
     ]
    }
   ],
   "source": [
    "plot_confusion_matrix(y_test,prediction[\"MultinomialNB\"],title=\"MultinomialNB\")"
   ]
  },
  {
   "cell_type": "code",
   "execution_count": 33,
   "metadata": {},
   "outputs": [
    {
     "data": {
      "text/plain": [
       "Series([], Name: text, dtype: object)"
      ]
     },
     "execution_count": 33,
     "metadata": {},
     "output_type": "execute_result"
    }
   ],
   "source": [
    "x_test[y_test<prediction[\"MultinomialNB\"]]"
   ]
  },
  {
   "cell_type": "code",
   "execution_count": 34,
   "metadata": {},
   "outputs": [
    {
     "data": {
      "text/plain": [
       "1683                    Call FREEPHONE 0800 542 0578 now!\n",
       "1482    Hello darling how are you today? I would love ...\n",
       "1407    U were outbid by simonwatson5120 on the Shinco...\n",
       "1698    RECPT 1/3. You have ordered a Ringtone. Your o...\n",
       "197     Romantic Paris. 2 nights, 2 flights from £79 B...\n",
       "879     Free Msg: get Gnarls Barkleys \"Crazy\" ringtone...\n",
       "1949    Congrats! 2 mobile 3G Videophones R yours. cal...\n",
       "260     We have new local dates in your area - Lots of...\n",
       "3228    FreeMsg:Feelin kinda lnly hope u like 2 keep m...\n",
       "3091    You have 1 new voicemail. Please call 08719181503\n",
       "2528    Jamster! To get your free wallpaper text HEART...\n",
       "2027    We currently have a message awaiting your coll...\n",
       "2176    Dear Subscriber ur draw 4 £100 gift voucher wi...\n",
       "1224    For taking part in our mobile survey yesterday...\n",
       "869     We know someone who you know that fancies you....\n",
       "242     Oh my god! I've found your number again! I'm s...\n",
       "923      You have 1 new message. Please call 08712400200.\n",
       "1831                    88066 FROM 88066 LOST 3POUND HELP\n",
       "1539    Auction round 4. The highest bid is now £54. N...\n",
       "3327    Burger King - Wanna play footy at a top stadiu...\n",
       "276     Hottest pics straight to your phone!! See me g...\n",
       "1836    Not heard from U4 a while. Call me now am here...\n",
       "2034    I am hot n horny and willing I live local to y...\n",
       "134     Ur balance is now £600. Next question: Complet...\n",
       "2604    22 days to kick off! For Euro2004 U will be ke...\n",
       "3045    FreeMsg Hey there darling it's been 3 week's n...\n",
       "2742    New Tones This week include: 1)McFly-All Ab..,...\n",
       "1045    More people are dogging in your area now. Call...\n",
       "1186    Please CALL 08712402779 immediately as there i...\n",
       "985     U have a secret admirer who is looking 2 make ...\n",
       "2275    INTERFLORA - It's not too late to order Inter...\n",
       "Name: text, dtype: object"
      ]
     },
     "execution_count": 34,
     "metadata": {},
     "output_type": "execute_result"
    }
   ],
   "source": [
    "x_test[y_test>prediction[\"MultinomialNB\"]]"
   ]
  },
  {
   "cell_type": "markdown",
   "metadata": {},
   "source": [
    "### 提交"
   ]
  },
  {
   "cell_type": "code",
   "execution_count": 70,
   "metadata": {},
   "outputs": [],
   "source": [
    "#train_data = pd.read_csv(os.path.join(sms_data_path,\"sms_train.txt\"),encoding=\"utf-8\",header=None,sep = '\\t',names=[\"label\",\"text\"])\n",
    "train_data = pd.read_csv(\"./sms_spam/spam.csv\",encoding=\"latin-1\",delimiter=\",\")\n",
    "train_data[\"label_num\"] = train_data[\"label\"].map({\"ham\":0,\"spam\":1})\n",
    "x_train = train_data[\"text\"]\n",
    "y_train = train_data[\"label_num\"]\n",
    "x_train = tfidf.fit_transform(x_train)"
   ]
  },
  {
   "cell_type": "code",
   "execution_count": 71,
   "metadata": {},
   "outputs": [
    {
     "data": {
      "text/html": [
       "<div>\n",
       "<style scoped>\n",
       "    .dataframe tbody tr th:only-of-type {\n",
       "        vertical-align: middle;\n",
       "    }\n",
       "\n",
       "    .dataframe tbody tr th {\n",
       "        vertical-align: top;\n",
       "    }\n",
       "\n",
       "    .dataframe thead th {\n",
       "        text-align: right;\n",
       "    }\n",
       "</style>\n",
       "<table border=\"1\" class=\"dataframe\">\n",
       "  <thead>\n",
       "    <tr style=\"text-align: right;\">\n",
       "      <th></th>\n",
       "      <th>label</th>\n",
       "      <th>text</th>\n",
       "      <th>Unnamed: 2</th>\n",
       "      <th>Unnamed: 3</th>\n",
       "      <th>Unnamed: 4</th>\n",
       "      <th>label_num</th>\n",
       "    </tr>\n",
       "  </thead>\n",
       "  <tbody>\n",
       "    <tr>\n",
       "      <th>0</th>\n",
       "      <td>ham</td>\n",
       "      <td>Go until jurong point, crazy.. Available only ...</td>\n",
       "      <td>NaN</td>\n",
       "      <td>NaN</td>\n",
       "      <td>NaN</td>\n",
       "      <td>0</td>\n",
       "    </tr>\n",
       "    <tr>\n",
       "      <th>1</th>\n",
       "      <td>ham</td>\n",
       "      <td>Ok lar... Joking wif u oni...</td>\n",
       "      <td>NaN</td>\n",
       "      <td>NaN</td>\n",
       "      <td>NaN</td>\n",
       "      <td>0</td>\n",
       "    </tr>\n",
       "    <tr>\n",
       "      <th>2</th>\n",
       "      <td>spam</td>\n",
       "      <td>Free entry in 2 a wkly comp to win FA Cup fina...</td>\n",
       "      <td>NaN</td>\n",
       "      <td>NaN</td>\n",
       "      <td>NaN</td>\n",
       "      <td>1</td>\n",
       "    </tr>\n",
       "    <tr>\n",
       "      <th>3</th>\n",
       "      <td>ham</td>\n",
       "      <td>U dun say so early hor... U c already then say...</td>\n",
       "      <td>NaN</td>\n",
       "      <td>NaN</td>\n",
       "      <td>NaN</td>\n",
       "      <td>0</td>\n",
       "    </tr>\n",
       "    <tr>\n",
       "      <th>4</th>\n",
       "      <td>ham</td>\n",
       "      <td>Nah I don't think he goes to usf, he lives aro...</td>\n",
       "      <td>NaN</td>\n",
       "      <td>NaN</td>\n",
       "      <td>NaN</td>\n",
       "      <td>0</td>\n",
       "    </tr>\n",
       "  </tbody>\n",
       "</table>\n",
       "</div>"
      ],
      "text/plain": [
       "  label                                               text  Unnamed: 2  \\\n",
       "0   ham  Go until jurong point, crazy.. Available only ...         NaN   \n",
       "1   ham                      Ok lar... Joking wif u oni...         NaN   \n",
       "2  spam  Free entry in 2 a wkly comp to win FA Cup fina...         NaN   \n",
       "3   ham  U dun say so early hor... U c already then say...         NaN   \n",
       "4   ham  Nah I don't think he goes to usf, he lives aro...         NaN   \n",
       "\n",
       "   Unnamed: 3 Unnamed: 4  label_num  \n",
       "0         NaN        NaN          0  \n",
       "1         NaN        NaN          0  \n",
       "2         NaN        NaN          1  \n",
       "3         NaN        NaN          0  \n",
       "4         NaN        NaN          0  "
      ]
     },
     "execution_count": 71,
     "metadata": {},
     "output_type": "execute_result"
    }
   ],
   "source": [
    "train_data.head()"
   ]
  },
  {
   "cell_type": "code",
   "execution_count": 37,
   "metadata": {},
   "outputs": [
    {
     "data": {
      "text/html": [
       "<div>\n",
       "<style scoped>\n",
       "    .dataframe tbody tr th:only-of-type {\n",
       "        vertical-align: middle;\n",
       "    }\n",
       "\n",
       "    .dataframe tbody tr th {\n",
       "        vertical-align: top;\n",
       "    }\n",
       "\n",
       "    .dataframe thead th {\n",
       "        text-align: right;\n",
       "    }\n",
       "</style>\n",
       "<table border=\"1\" class=\"dataframe\">\n",
       "  <thead>\n",
       "    <tr style=\"text-align: right;\">\n",
       "      <th></th>\n",
       "      <th>text</th>\n",
       "    </tr>\n",
       "  </thead>\n",
       "  <tbody>\n",
       "    <tr>\n",
       "      <th>0</th>\n",
       "      <td>Aiyo a bit pai seh ü noe... Scared he dun rem ...</td>\n",
       "    </tr>\n",
       "    <tr>\n",
       "      <th>1</th>\n",
       "      <td>Are you driving or training?</td>\n",
       "    </tr>\n",
       "    <tr>\n",
       "      <th>2</th>\n",
       "      <td>It means u could not keep ur words.</td>\n",
       "    </tr>\n",
       "    <tr>\n",
       "      <th>3</th>\n",
       "      <td>Babe, I'm back ... Come back to me ...</td>\n",
       "    </tr>\n",
       "    <tr>\n",
       "      <th>4</th>\n",
       "      <td>I don't think I can get away for a trek that l...</td>\n",
       "    </tr>\n",
       "  </tbody>\n",
       "</table>\n",
       "</div>"
      ],
      "text/plain": [
       "                                                text\n",
       "0  Aiyo a bit pai seh ü noe... Scared he dun rem ...\n",
       "1                       Are you driving or training?\n",
       "2                It means u could not keep ur words.\n",
       "3             Babe, I'm back ... Come back to me ...\n",
       "4  I don't think I can get away for a trek that l..."
      ]
     },
     "execution_count": 37,
     "metadata": {},
     "output_type": "execute_result"
    }
   ],
   "source": [
    "# 数据导入\n",
    "data = pd.read_csv(os.path.join(sms_data_path,\"sms_test.txt\"),encoding=\"utf-8\",header=None,sep=\"\\t\",names=[\"text\"])\n",
    "data.head()"
   ]
  },
  {
   "cell_type": "code",
   "execution_count": 73,
   "metadata": {},
   "outputs": [],
   "source": [
    "predict_data = data[\"text\"]"
   ]
  },
  {
   "cell_type": "code",
   "execution_count": 74,
   "metadata": {},
   "outputs": [],
   "source": [
    "# 文本特征提取\n",
    "data_df = tfidf.transform(predict_data)"
   ]
  },
  {
   "cell_type": "code",
   "execution_count": 75,
   "metadata": {},
   "outputs": [],
   "source": [
    "# 生成id\n",
    "id = np.arange(0,len(data))\n",
    "id += 1"
   ]
  },
  {
   "cell_type": "code",
   "execution_count": 76,
   "metadata": {},
   "outputs": [],
   "source": [
    "# 1 Multinomial Naive bayes\n",
    "model = MultinomialNB()\n",
    "model.fit(x_train,y_train)\n",
    "bayes_predict= model.predict(data_df)"
   ]
  },
  {
   "cell_type": "code",
   "execution_count": 77,
   "metadata": {},
   "outputs": [],
   "source": [
    "# 生成提交文件\n",
    "df = pd.DataFrame({\"id\":id,\"predict\":bayes_predict})\n",
    "df.to_csv(\"bayes_submit.csv\",index=None)"
   ]
  },
  {
   "cell_type": "code",
   "execution_count": 78,
   "metadata": {},
   "outputs": [],
   "source": [
    "# 2 RandomForestClassifier\n",
    "model = RandomForestClassifier()\n",
    "model.fit(x_train,y_train)\n",
    "random_forest_predict = model.predict(data_df)"
   ]
  },
  {
   "cell_type": "code",
   "execution_count": 79,
   "metadata": {},
   "outputs": [],
   "source": [
    "# 生成提交文件\n",
    "df = pd.DataFrame({\"id\":id,\"predict\":random_forest_predict})\n",
    "df.to_csv(\"random_forest_submit.csv\",index=None)"
   ]
  },
  {
   "cell_type": "code",
   "execution_count": 80,
   "metadata": {},
   "outputs": [],
   "source": [
    "# 3 AdaBoostClassifier\n",
    "model = AdaBoostClassifier()\n",
    "model.fit(x_train,y_train)\n",
    "adaboost_predict = model.predict(data_df)"
   ]
  },
  {
   "cell_type": "code",
   "execution_count": 81,
   "metadata": {},
   "outputs": [],
   "source": [
    "# 生成提交文件\n",
    "df = pd.DataFrame({\"id\":id,\"predict\":adaboost_predict})\n",
    "df.to_csv(\"adaboost_submit.csv\",index=None)"
   ]
  },
  {
   "cell_type": "code",
   "execution_count": 82,
   "metadata": {},
   "outputs": [],
   "source": [
    "# 4 SVM\n",
    "model = SVC(kernel=\"linear\")\n",
    "model.fit(x_train,y_train)\n",
    "svm_predict = model.predict(data_df)"
   ]
  },
  {
   "cell_type": "code",
   "execution_count": 83,
   "metadata": {},
   "outputs": [],
   "source": [
    "# 生成提交文件\n",
    "df = pd.DataFrame({\"id\":id,\"predict\":svm_predict})\n",
    "df.to_csv(\"svm_submit.csv\",index=None)"
   ]
  },
  {
   "cell_type": "code",
   "execution_count": 84,
   "metadata": {},
   "outputs": [],
   "source": [
    "# 5 ExtraTreesClassifier\n",
    "model=ExtraTreesClassifier()\n",
    "model.fit(x_train,y_train)\n",
    "extra_tree_predict=model.predict(data_df)"
   ]
  },
  {
   "cell_type": "code",
   "execution_count": 85,
   "metadata": {},
   "outputs": [],
   "source": [
    "# 生成提交文件\n",
    "df = pd.DataFrame({\"id\":id,\"predict\":extra_tree_predict})\n",
    "df.to_csv(\"extra_tree_submit.csv\",index=None)"
   ]
  },
  {
   "cell_type": "markdown",
   "metadata": {},
   "source": [
    "### 模型结果融合"
   ]
  },
  {
   "cell_type": "code",
   "execution_count": 38,
   "metadata": {},
   "outputs": [],
   "source": [
    "# 模型结果融合\n",
    "df1 = pd.read_csv(\"./cnn_submit.csv\")\n",
    "df2 = pd.read_csv(\"./rnn_submit.csv\")\n",
    "df3 = pd.read_csv(\"./submit4.csv\")\n",
    "\n",
    "\n",
    "df1_predict = df1[\"predict\"]\n",
    "df2_predict = df2[\"predict\"]\n",
    "df3_predict = df3[\"predict\"]\n",
    "\n",
    "df_predict = df1_predict\n",
    "\n",
    "for i in range(len(data)):\n",
    "    if df1_predict[i] != df2_predict[i]:\n",
    "        df_predict[i] = df3_predict[i]\n",
    "    else:\n",
    "        df_predict[i] = df1_predict[i]\n",
    "\n",
    "id = np.arange(len(data))\n",
    "id += 1\n",
    "\n",
    "df = pd.DataFrame({\"id\":id,\"predict\":df_predict})\n",
    "df.to_csv(\"submit5.csv\",index=None)"
   ]
  },
  {
   "cell_type": "code",
   "execution_count": null,
   "metadata": {},
   "outputs": [],
   "source": []
  }
 ],
 "metadata": {
  "kernelspec": {
   "display_name": "Python 3",
   "language": "python",
   "name": "python3"
  },
  "language_info": {
   "codemirror_mode": {
    "name": "ipython",
    "version": 3
   },
   "file_extension": ".py",
   "mimetype": "text/x-python",
   "name": "python",
   "nbconvert_exporter": "python",
   "pygments_lexer": "ipython3",
   "version": "3.7.3"
  }
 },
 "nbformat": 4,
 "nbformat_minor": 2
}
