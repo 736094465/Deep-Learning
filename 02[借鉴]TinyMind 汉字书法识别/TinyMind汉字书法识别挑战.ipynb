{
 "cells": [
  {
   "cell_type": "markdown",
   "metadata": {},
   "source": [
    "# TinyMind汉字书法识别挑战"
   ]
  },
  {
   "cell_type": "markdown",
   "metadata": {},
   "source": [
    "### 1 题目介绍"
   ]
  },
  {
   "cell_type": "markdown",
   "metadata": {},
   "source": [
    "竞赛数据提供100个汉字书法单字，包括碑帖，手写书法，古汉字等。图片全部为单通道宽度jpg，宽高不定。"
   ]
  },
  {
   "cell_type": "markdown",
   "metadata": {},
   "source": [
    "### 2 数据集介绍"
   ]
  },
  {
   "cell_type": "markdown",
   "metadata": {},
   "source": [
    " - 训练集：每个汉字400张图片，共计40000张图片，训练集是标注好的数据，图片按照图片上的文字分类到不同的文件夹中，也就是生活文件夹的名字就是文件夹里面所有图片的标签。\n",
    " \n",
    " \n",
    " - 测试集：\n",
    "  - 第一部分：每汉字100张图片共计10000张图片，供参赛人员测试算法模型\n",
    "  - 第二部分：每汉子50张以上图片共1643张图片，用来评测。\n",
    "\n",
    "- 提交csv文件\n",
    "  - 文件第一列是测试集中图片文件的文件名，第二列是推断出来的图片上文字可能的五个汉字。"
   ]
  },
  {
   "cell_type": "markdown",
   "metadata": {},
   "source": [
    "### 3 思路\n",
    "\n",
    " - 提取数据集\n",
    " - 定义fine-tune模型\n",
    " - VGG16模型\n",
    " - ResNet50模型\n",
    " - Xception模型\n",
    " - InceptionV3模型"
   ]
  },
  {
   "cell_type": "markdown",
   "metadata": {},
   "source": [
    "### 4 具体流程"
   ]
  },
  {
   "cell_type": "markdown",
   "metadata": {
    "colab_type": "text",
    "id": "KLfisMl7u-2K"
   },
   "source": [
    "**(1)提取数据集**"
   ]
  },
  {
   "cell_type": "code",
   "execution_count": 0,
   "metadata": {
    "colab": {},
    "colab_type": "code",
    "id": "8boBFfcStM2p"
   },
   "outputs": [],
   "source": [
    "# 导入所需的模块\n",
    "import os\n",
    "import cv2\n",
    "import numpy as np\n",
    "\n",
    "\n",
    "from sklearn.preprocessing import LabelBinarizer\n",
    "from sklearn.model_selection import train_test_split\n"
   ]
  },
  {
   "cell_type": "code",
   "execution_count": 0,
   "metadata": {
    "colab": {
     "base_uri": "https://localhost:8080/",
     "height": 35
    },
    "colab_type": "code",
    "id": "bC3kC5fwtgE9",
    "outputId": "d14bd76b-dde9-4c67-ef58-ab0f56846204"
   },
   "outputs": [
    {
     "data": {
      "text/plain": [
       "LabelBinarizer(neg_label=0, pos_label=1, sparse_output=False)"
      ]
     },
     "execution_count": 5,
     "metadata": {
      "tags": []
     },
     "output_type": "execute_result"
    }
   ],
   "source": [
    "# 获取标签的编码器\n",
    "train_path = \"/content/train\"\n",
    "label_char = os.listdir(train_path)\n",
    "label_char.sort()\n",
    "encode_label = LabelBinarizer()\n",
    "encode_label.fit(label_char)\n"
   ]
  },
  {
   "cell_type": "code",
   "execution_count": 0,
   "metadata": {
    "colab": {},
    "colab_type": "code",
    "id": "nlK6rlLRv0uI"
   },
   "outputs": [],
   "source": [
    "# 定义读取图片函数\n",
    "def get_img(file_path,img_rows,img_cols):\n",
    "  \n",
    "    image = cv2.imread(file_path,0)\n",
    "    image = cv2.cvtColor(image, cv2.COLOR_GRAY2RGB)\n",
    "    image = cv2.resize(image,(img_rows,img_cols))\n",
    "    feature = np.array(image,dtype=np.uint8)\n",
    "\n",
    "    return feature"
   ]
  },
  {
   "cell_type": "code",
   "execution_count": 0,
   "metadata": {
    "colab": {},
    "colab_type": "code",
    "id": "EXT5JzV1wA2q"
   },
   "outputs": [],
   "source": [
    "# 定义加载训练集的函数\n",
    "\n",
    "def load_train_data(train_path,img_rows,img_cols):\n",
    "    x_train = []\n",
    "    y_train = []\n",
    "\n",
    "    dirs = os.listdir(train_path)\n",
    "    for dir_name in dirs:\n",
    "    path = train_path + \"/\" + dir_name\n",
    "    for img_name in os.listdir(path):\n",
    "        feature = get_img(os.path.join(path,img_name),img_rows,img_cols)\n",
    "        label = dir_name\n",
    "\n",
    "        x_train.append(feature)\n",
    "        y_train.append(label)\n",
    "\n",
    "    # 对y_train进行one-hot编码\n",
    "    y_train = np.array(encode_label.transform(y_train),dtype=np.uint8)\n",
    "    # 对x_train进行转换\n",
    "    x_train = np.array(x_train, dtype=np.uint8)\n",
    "\n",
    "    # 对训练集进行随机打乱，并划分训练集和验证集\n",
    "    x_train,x_valid,y_train,y_valid = train_test_split(x_train,y_train,test_size=0.2,random_state=2019)\n",
    "\n",
    "    return x_train,x_valid,y_train,y_valid"
   ]
  },
  {
   "cell_type": "code",
   "execution_count": 0,
   "metadata": {
    "colab": {},
    "colab_type": "code",
    "id": "Ww17JFshie4a"
   },
   "outputs": [],
   "source": [
    "# 定义加载测试集的函数\n",
    "def load_test_data(test_path,img_rows,img_cols):\n",
    "    x_test_id = []\n",
    "    x_test = []\n",
    "\n",
    "    img_names = os.listdir(test_path)\n",
    "    for img_name in img_names:\n",
    "        feature = get_img(os.path.join(test_path,img_name),img_rows,img_cols)\n",
    "        id = img_name\n",
    "\n",
    "        x_test_id.append(id)\n",
    "        x_test.append(feature)\n",
    "\n",
    "    #对x_test进行转换\n",
    "    x_test = np.array(x_test,dtype=np.uint8)\n",
    "\n",
    "    return x_test,x_test_id"
   ]
  },
  {
   "cell_type": "code",
   "execution_count": 0,
   "metadata": {
    "colab": {},
    "colab_type": "code",
    "id": "Bnva-pgI0ykU"
   },
   "outputs": [],
   "source": [
    "# 加载训练和验证数据和标签\n",
    "img_rows,img_cols = 224,224\n",
    "x_train,x_valid,y_train,y_valid = load_train_data(train_path,img_rows,img_cols)"
   ]
  },
  {
   "cell_type": "code",
   "execution_count": 0,
   "metadata": {
    "colab": {},
    "colab_type": "code",
    "id": "UL2CEgbHj4pk"
   },
   "outputs": [],
   "source": [
    "# 加载待预测的数据和标签\n",
    "test_path = \"/content/test2\"\n",
    "x_test,x_test_id = load_test_data(test_path,img_rows,img_cols)"
   ]
  },
  {
   "cell_type": "code",
   "execution_count": 0,
   "metadata": {
    "colab": {
     "base_uri": "https://localhost:8080/",
     "height": 145
    },
    "colab_type": "code",
    "id": "XV4SMNFE2gB1",
    "outputId": "b1ca1177-b3e5-40c1-dafe-071ff14e19f9"
   },
   "outputs": [
    {
     "name": "stdout",
     "output_type": "stream",
     "text": [
      "(32000, 224, 224, 3)\n",
      "(32000, 100)\n",
      "(8000, 224, 224, 3)\n",
      "(8000, 100)\n",
      "(16343, 224, 224, 3)\n",
      "['e3e25bf5cb2cdef2f538ec5e2b3039f6aae6c0ef.jpg', 'cb68929c872feddcdd7d2f1d27c151e99575785f.jpg', 'dbf840d7ed6d3d3604689e1062c57f22937c20ee.jpg', 'e32473a16786a031b230ccb4ab0bc9c04a2834af.jpg', 'db8aeee15d73b601f04f008a8354bb86f3956bf9.jpg']\n"
     ]
    }
   ],
   "source": [
    "# 查看一下数据和标签\n",
    "print(x_train.shape)\n",
    "print(y_train.shape)\n",
    "print(x_valid.shape)\n",
    "print(y_valid.shape)\n",
    "print(x_test.shape)\n",
    "print(x_test_id[:5])"
   ]
  },
  {
   "cell_type": "code",
   "execution_count": 0,
   "metadata": {
    "colab": {
     "base_uri": "https://localhost:8080/",
     "height": 305
    },
    "colab_type": "code",
    "id": "ocKAOOb-AZe0",
    "outputId": "75039bc5-e191-4ad2-92ca-f8ff14b01b09"
   },
   "outputs": [
    {
     "name": "stdout",
     "output_type": "stream",
     "text": [
      "去\n"
     ]
    },
    {
     "data": {
      "text/plain": [
       "<matplotlib.image.AxesImage at 0x7fceca3115c0>"
      ]
     },
     "execution_count": 12,
     "metadata": {
      "tags": []
     },
     "output_type": "execute_result"
    },
    {
     "data": {
      "image/png": "[encoded data removed]",
      "text/plain": [
       "<Figure size 432x288 with 1 Axes>"
      ]
     },
     "metadata": {
      "tags": []
     },
     "output_type": "display_data"
    }
   ],
   "source": [
    "# 查看一下数据和标签\n",
    "import matplotlib.pyplot as plt\n",
    "%matplotlib inline\n",
    "\n",
    "print(label_char[y_train[0].argmax()])\n",
    "\n",
    "plt.imshow(x_train[0])"
   ]
  },
  {
   "cell_type": "markdown",
   "metadata": {
    "colab_type": "text",
    "id": "EhtQpktP4X7S"
   },
   "source": [
    "**（2）fine-tune模型**\n",
    "\n",
    "  选择keras中预训练好的模型，进行fine-tune"
   ]
  },
  {
   "cell_type": "code",
   "execution_count": 0,
   "metadata": {
    "colab": {
     "base_uri": "https://localhost:8080/",
     "height": 35
    },
    "colab_type": "code",
    "id": "BqwqYyMHriRp",
    "outputId": "86c4775d-9686-4dfd-d361-be5b70c31a7c"
   },
   "outputs": [
    {
     "name": "stderr",
     "output_type": "stream",
     "text": [
      "Using TensorFlow backend.\n"
     ]
    }
   ],
   "source": [
    "# 导入开发需要的库\n",
    "from keras import optimizers, Input\n",
    "from keras.applications import  imagenet_utils\n",
    "\n",
    "from keras.models import *\n",
    "from keras.layers import *\n",
    "from keras.optimizers import *\n",
    "from keras.callbacks import *\n",
    "from keras.applications import *\n",
    "\n",
    "from sklearn.preprocessing import *\n",
    "from sklearn.model_selection import *\n",
    "from sklearn.metrics import *"
   ]
  },
  {
   "cell_type": "code",
   "execution_count": 0,
   "metadata": {
    "colab": {},
    "colab_type": "code",
    "id": "s3nFTb0M3cpY"
   },
   "outputs": [],
   "source": [
    "# 绘制训练过程中的 loss 和 acc 变化曲线\n",
    "import matplotlib.pyplot as plt\n",
    "%matplotlib inline\n",
    "\n",
    "def history_plot(history_fit):\n",
    "    plt.figure(figsize=(12,6))\n",
    "    \n",
    "    # summarize history for accuracy\n",
    "    plt.subplot(121)\n",
    "    plt.plot(history_fit.history[\"acc\"])\n",
    "    plt.plot(history_fit.history[\"val_acc\"])\n",
    "    plt.title(\"model accuracy\")\n",
    "    plt.ylabel(\"accuracy\")\n",
    "    plt.xlabel(\"epoch\")\n",
    "    plt.legend([\"train\", \"valid\"], loc=\"upper left\")\n",
    "    \n",
    "    # summarize history for loss\n",
    "    plt.subplot(122)\n",
    "    plt.plot(history_fit.history[\"loss\"])\n",
    "    plt.plot(history_fit.history[\"val_loss\"])\n",
    "    plt.title(\"model loss\")\n",
    "    plt.ylabel(\"loss\")\n",
    "    plt.xlabel(\"epoch\")\n",
    "    plt.legend([\"train\", \"test\"], loc=\"upper left\")\n",
    "    \n",
    "    plt.show()"
   ]
  },
  {
   "cell_type": "code",
   "execution_count": 0,
   "metadata": {
    "colab": {},
    "colab_type": "code",
    "id": "3j4MlvJ_7owM"
   },
   "outputs": [],
   "source": [
    "# fine-tune 模型\n",
    "def fine_tune_model(model, optimizer, batch_size, epochs, freeze_num):\n",
    "    '''\n",
    "    discription: 对指定预训练模型进行fine-tune，并保存为.hdf5格式\n",
    "    \n",
    "    MODEL：传入的模型，VGG16， ResNet50, ...\n",
    "\n",
    "    optimizer: fine-tune all layers 的优化器, first part默认用adadelta\n",
    "    batch_size: 每一批的尺寸，建议32/64/128\n",
    "    epochs: fine-tune all layers的代数\n",
    "    freeze_num: first part冻结卷积层的数量\n",
    "    '''\n",
    "\n",
    "    # first: 仅训练全连接层（权重随机初始化的）\n",
    "    # 冻结所有卷积层\n",
    "    \n",
    "    for layer in model.layers[:freeze_num]:\n",
    "        layer.trainable = False\n",
    "    \n",
    "    model.compile(optimizer='adadelta', \n",
    "                  loss='categorical_crossentropy',\n",
    "                  metrics=['accuracy'])\n",
    "    model.fit(x=x_train, \n",
    "              y=y_train, \n",
    "              batch_size=batch_size, \n",
    "              epochs=2, \n",
    "              shuffle=True, \n",
    "              verbose=1, \n",
    "              validation_data=(x_valid, y_valid))\n",
    "    \n",
    "    print('Finish step_1')\n",
    "    \n",
    "    # second: fine-tune all layers\n",
    "    for layer in model.layers[:]:\n",
    "        layer.trainable = True\n",
    "    \n",
    "    rc = ReduceLROnPlateau(monitor='val_loss',\n",
    "                               factor=0.5,\n",
    "                               patience=2,\n",
    "                               verbose=1,\n",
    "                               min_delta=1e-4,\n",
    "                               mode='min')\n",
    "\n",
    "    model_name = model.name  + '.hdf5'\n",
    "    mc = ModelCheckpoint(model_name, \n",
    "                         monitor='val_loss', \n",
    "                         save_best_only=True,\n",
    "                         mode='min')\n",
    "    \n",
    "    \n",
    "    model.compile(optimizer=optimizer, loss='categorical_crossentropy', metrics=['accuracy'])\n",
    "    history_fit = model.fit(x=x_train, \n",
    "                            y=y_train, \n",
    "                            batch_size=batch_size, \n",
    "                            epochs=epochs, \n",
    "                            shuffle=True, \n",
    "                            verbose=1, \n",
    "                            validation_data=(x_valid, y_valid),\n",
    "                            callbacks=[mc, rc])\n",
    "    print('Finish fine-tune')\n",
    "    \n",
    "    #展示fine-tune过程中的loss和accuracy变化曲线\n",
    "    history_plot(history_fit)"
   ]
  },
  {
   "cell_type": "markdown",
   "metadata": {
    "colab_type": "text",
    "id": "PgNdbkh33eLw"
   },
   "source": [
    "**（3）VGG16**"
   ]
  },
  {
   "cell_type": "markdown",
   "metadata": {
    "colab_type": "text",
    "id": "kjS4K0er4qUV"
   },
   "source": [
    "`a.定义VGG16模型`"
   ]
  },
  {
   "cell_type": "code",
   "execution_count": 0,
   "metadata": {
    "colab": {},
    "colab_type": "code",
    "id": "0Y1GLx2slx2c"
   },
   "outputs": [],
   "source": [
    "# 定义一个VGG16的模型\n",
    "def vgg16_model(img_rows, img_cols):\n",
    "    x = Input(shape=(img_rows, img_cols, 3))\n",
    "    x = Lambda(imagenet_utils.preprocess_input)(x)\n",
    "    \n",
    "    base_model = VGG16(input_tensor=x, weights='imagenet', \n",
    "                      include_top=False, pooling='avg')\n",
    "    x = base_model.output\n",
    "    x = Dense(1024, activation='relu', name='fc1')(x)\n",
    "    x = Dropout(0.5)(x)\n",
    "    predictions = Dense(100, activation='softmax', name='predictions')(x)\n",
    "    \n",
    "    vgg_model = Model(inputs=base_model.input, outputs=predictions, name='vgg16')\n",
    "    \n",
    "    return vgg_model"
   ]
  },
  {
   "cell_type": "code",
   "execution_count": 0,
   "metadata": {
    "colab": {
     "base_uri": "https://localhost:8080/",
     "height": 363
    },
    "colab_type": "code",
    "id": "4uUIF2wF_9UA",
    "outputId": "01616ca0-2d71-45d2-b67e-11dbf92b8099"
   },
   "outputs": [
    {
     "name": "stderr",
     "output_type": "stream",
     "text": [
      "WARNING: Logging before flag parsing goes to stderr.\n",
      "W0822 00:50:46.733558 140527144740736 deprecation_wrapper.py:119] From /usr/local/lib/python3.6/dist-packages/keras/backend/tensorflow_backend.py:74: The name tf.get_default_graph is deprecated. Please use tf.compat.v1.get_default_graph instead.\n",
      "\n",
      "W0822 00:50:46.777397 140527144740736 deprecation_wrapper.py:119] From /usr/local/lib/python3.6/dist-packages/keras/backend/tensorflow_backend.py:517: The name tf.placeholder is deprecated. Please use tf.compat.v1.placeholder instead.\n",
      "\n",
      "W0822 00:50:46.795861 140527144740736 deprecation_wrapper.py:119] From /usr/local/lib/python3.6/dist-packages/keras/backend/tensorflow_backend.py:4138: The name tf.random_uniform is deprecated. Please use tf.random.uniform instead.\n",
      "\n",
      "W0822 00:50:46.843127 140527144740736 deprecation_wrapper.py:119] From /usr/local/lib/python3.6/dist-packages/keras/backend/tensorflow_backend.py:3976: The name tf.nn.max_pool is deprecated. Please use tf.nn.max_pool2d instead.\n",
      "\n"
     ]
    },
    {
     "name": "stdout",
     "output_type": "stream",
     "text": [
      "Downloading data from https://github.com/fchollet/deep-learning-models/releases/download/v0.1/vgg16_weights_tf_dim_ordering_tf_kernels_notop.h5\n",
      "58892288/58889256 [==============================] - 2s 0us/step\n"
     ]
    },
    {
     "name": "stderr",
     "output_type": "stream",
     "text": [
      "W0822 00:50:50.164506 140527144740736 deprecation_wrapper.py:119] From /usr/local/lib/python3.6/dist-packages/keras/backend/tensorflow_backend.py:174: The name tf.get_default_session is deprecated. Please use tf.compat.v1.get_default_session instead.\n",
      "\n",
      "W0822 00:50:50.165810 140527144740736 deprecation_wrapper.py:119] From /usr/local/lib/python3.6/dist-packages/keras/backend/tensorflow_backend.py:181: The name tf.ConfigProto is deprecated. Please use tf.compat.v1.ConfigProto instead.\n",
      "\n",
      "W0822 00:50:53.323976 140527144740736 deprecation.py:506] From /usr/local/lib/python3.6/dist-packages/keras/backend/tensorflow_backend.py:3445: calling dropout (from tensorflow.python.ops.nn_ops) with keep_prob is deprecated and will be removed in a future version.\n",
      "Instructions for updating:\n",
      "Please use `rate` instead of `keep_prob`. Rate should be set to `rate = 1 - keep_prob`.\n"
     ]
    }
   ],
   "source": [
    "# 创建VGG16模型\n",
    "img_rows, img_cols = 224, 224\n",
    "vgg_model = vgg16_model(img_rows,img_cols)"
   ]
  },
  {
   "cell_type": "code",
   "execution_count": 0,
   "metadata": {
    "colab": {
     "base_uri": "https://localhost:8080/",
     "height": 452
    },
    "colab_type": "code",
    "id": "aPj4bfqP3qH8",
    "outputId": "46ac7c25-e7af-4f8c-df1e-d417a53fdee0",
    "scrolled": false
   },
   "outputs": [
    {
     "name": "stdout",
     "output_type": "stream",
     "text": [
      "0 input_1\n",
      "1 lambda_1\n",
      "2 block1_conv1\n",
      "3 block1_conv2\n",
      "4 block1_pool\n",
      "5 block2_conv1\n",
      "6 block2_conv2\n",
      "7 block2_pool\n",
      "8 block3_conv1\n",
      "9 block3_conv2\n",
      "10 block3_conv3\n",
      "11 block3_pool\n",
      "12 block4_conv1\n",
      "13 block4_conv2\n",
      "14 block4_conv3\n",
      "15 block4_pool\n",
      "16 block5_conv1\n",
      "17 block5_conv2\n",
      "18 block5_conv3\n",
      "19 block5_pool\n",
      "20 global_average_pooling2d_1\n",
      "21 fc1\n",
      "22 dropout_1\n",
      "23 predictions\n"
     ]
    }
   ],
   "source": [
    "# 列出每一层的序号和名字\n",
    "for i,layer in enumerate(vgg_model.layers):\n",
    "    print(i,layer.name)"
   ]
  },
  {
   "cell_type": "markdown",
   "metadata": {},
   "source": [
    "`b.VGG16模型训练`"
   ]
  },
  {
   "cell_type": "code",
   "execution_count": 0,
   "metadata": {
    "colab": {
     "base_uri": "https://localhost:8080/",
     "height": 1000
    },
    "colab_type": "code",
    "id": "vSLcrmooAv6D",
    "outputId": "c6360b81-aa6d-48e8-fd44-cd117f96b44c"
   },
   "outputs": [
    {
     "name": "stderr",
     "output_type": "stream",
     "text": [
      "W0822 00:51:06.912699 140527144740736 deprecation_wrapper.py:119] From /usr/local/lib/python3.6/dist-packages/keras/optimizers.py:790: The name tf.train.Optimizer is deprecated. Please use tf.compat.v1.train.Optimizer instead.\n",
      "\n",
      "W0822 00:51:07.054586 140527144740736 deprecation.py:323] From /usr/local/lib/python3.6/dist-packages/tensorflow/python/ops/math_grad.py:1250: add_dispatch_support.<locals>.wrapper (from tensorflow.python.ops.array_ops) is deprecated and will be removed in a future version.\n",
      "Instructions for updating:\n",
      "Use tf.where in 2.0, which has the same broadcast rule as np.where\n"
     ]
    },
    {
     "name": "stdout",
     "output_type": "stream",
     "text": [
      "Train on 32000 samples, validate on 8000 samples\n",
      "Epoch 1/2\n",
      "32000/32000 [==============================] - 369s 12ms/step - loss: 4.0044 - acc: 0.1178 - val_loss: 3.0097 - val_acc: 0.2735\n",
      "Epoch 2/2\n",
      "32000/32000 [==============================] - 363s 11ms/step - loss: 3.0632 - acc: 0.2520 - val_loss: 2.5701 - val_acc: 0.3688\n",
      "Finish step_1\n",
      "Train on 32000 samples, validate on 8000 samples\n",
      "Epoch 1/10\n",
      "32000/32000 [==============================] - 935s 29ms/step - loss: 1.9517 - acc: 0.4939 - val_loss: 1.0027 - val_acc: 0.7420\n",
      "Epoch 2/10\n",
      "32000/32000 [==============================] - 930s 29ms/step - loss: 1.0751 - acc: 0.7098 - val_loss: 0.6523 - val_acc: 0.8354\n",
      "Epoch 3/10\n",
      "32000/32000 [==============================] - 930s 29ms/step - loss: 0.7296 - acc: 0.8001 - val_loss: 0.5144 - val_acc: 0.8735\n",
      "Epoch 4/10\n",
      "32000/32000 [==============================] - 931s 29ms/step - loss: 0.5302 - acc: 0.8520 - val_loss: 0.5459 - val_acc: 0.8614\n",
      "Epoch 5/10\n",
      "32000/32000 [==============================] - 933s 29ms/step - loss: 0.4113 - acc: 0.8837 - val_loss: 0.4153 - val_acc: 0.8976\n",
      "Epoch 6/10\n",
      "32000/32000 [==============================] - 933s 29ms/step - loss: 0.3222 - acc: 0.9077 - val_loss: 0.4011 - val_acc: 0.9026\n",
      "Epoch 7/10\n",
      "32000/32000 [==============================] - 933s 29ms/step - loss: 0.2508 - acc: 0.9249 - val_loss: 0.3757 - val_acc: 0.9083\n",
      "Epoch 8/10\n",
      "32000/32000 [==============================] - 932s 29ms/step - loss: 0.2122 - acc: 0.9360 - val_loss: 0.3898 - val_acc: 0.9048\n",
      "Epoch 9/10\n",
      "32000/32000 [==============================] - 932s 29ms/step - loss: 0.1706 - acc: 0.9486 - val_loss: 0.3704 - val_acc: 0.9123\n",
      "Epoch 10/10\n",
      "32000/32000 [==============================] - 929s 29ms/step - loss: 0.1401 - acc: 0.9573 - val_loss: 0.3776 - val_acc: 0.9176\n",
      "Finish fine-tune\n"
     ]
    },
    {
     "data": {
      "image/png": "[encoded data removed]",
      "text/plain": [
       "<Figure size 864x432 with 2 Axes>"
      ]
     },
     "metadata": {
      "tags": []
     },
     "output_type": "display_data"
    }
   ],
   "source": [
    "# 模型训练\n",
    "optimizer = optimizers.Adam(lr=0.001, beta_1=0.9, beta_2=0.999, epsilon=1e-08)\n",
    "\n",
    "\n",
    "batch_size = 32\n",
    "epochs = 10\n",
    "freeze_num = 19\n",
    "    \n",
    "fine_tune_model(vgg_model, optimizer, batch_size, epochs, freeze_num)"
   ]
  },
  {
   "cell_type": "markdown",
   "metadata": {
    "colab_type": "text",
    "id": "sdK_qDPW4-C0"
   },
   "source": [
    "`c.VGG16模型预测`"
   ]
  },
  {
   "cell_type": "code",
   "execution_count": 0,
   "metadata": {
    "colab": {},
    "colab_type": "code",
    "id": "z_jq8GpMdR7-"
   },
   "outputs": [],
   "source": [
    "# 加载模型权重\n",
    "vgg_model.load_weights(\"vgg16.hdf5\")"
   ]
  },
  {
   "cell_type": "code",
   "execution_count": 0,
   "metadata": {
    "colab": {},
    "colab_type": "code",
    "id": "DsIMCu6W90ku"
   },
   "outputs": [],
   "source": [
    "# 获取预测结果\n",
    "y_preds = vgg_model.predict(x_test)"
   ]
  },
  {
   "cell_type": "code",
   "execution_count": 0,
   "metadata": {
    "colab": {
     "base_uri": "https://localhost:8080/",
     "height": 323
    },
    "colab_type": "code",
    "id": "OSQzDr1I-GaD",
    "outputId": "eb8e13f9-c9b8-4e49-f5dc-08bcf80a95df"
   },
   "outputs": [
    {
     "name": "stdout",
     "output_type": "stream",
     "text": [
      "16343\n",
      "(1, 100)\n",
      "[' 足良思皇定']\n"
     ]
    },
    {
     "data": {
      "image/png": "[encoded data removed]",
      "text/plain": [
       "<Figure size 432x288 with 1 Axes>"
      ]
     },
     "metadata": {
      "tags": []
     },
     "output_type": "display_data"
    }
   ],
   "source": [
    "# 测试预测的结果\n",
    "print(x_test.shape[0])\n",
    "plt.imshow(x_test[2])\n",
    "\n",
    "test_img = np.expand_dims(x_test[2],axis=0)\n",
    "y_pred = vgg_model.predict(test_img)\n",
    "print(y_pred.shape)\n",
    "\n",
    "labels=[]\n",
    "pred_dict = {key:value for key,value in enumerate(y_pred[0])} \n",
    "pred_sorted = sorted(pred_dict.items(), key=lambda item:(-item[1])) \n",
    "top_5 = \" \"\n",
    "for j in range(5):\n",
    "    index = pred_sorted[j][0]\n",
    "    top_5 += label_char[index]\n",
    "        \n",
    "labels.append(top_5) \n",
    "\n",
    "print(labels)"
   ]
  },
  {
   "cell_type": "code",
   "execution_count": 0,
   "metadata": {
    "colab": {},
    "colab_type": "code",
    "id": "DdeHTa1-TGjE"
   },
   "outputs": [],
   "source": [
    "from pandas import DataFrame\n",
    "\n",
    "# 定义创建csv文件的函数\n",
    "def create_submission(y_preds,x_test_id):\n",
    "    labels = []\n",
    "    for i,_ in enumerate(x_test_id):  \n",
    "\n",
    "        # key代表预测的character的序号，value代表预测概率\n",
    "        pred_dict = {key:value for key,value in enumerate(y_preds[i])} \n",
    "        pred_sorted = sorted(pred_dict.items(), key=lambda item:(-item[1])) \n",
    "        # pred_sorted: [(k1,v1), (k2,v2), ...]\n",
    "        top_5 = ''\n",
    "        for j in range(5):\n",
    "            index = pred_sorted[j][0]\n",
    "            top_5 += label_char[index]\n",
    "\n",
    "        labels.append(top_5) \n",
    "\n",
    "    result = DataFrame(labels,columns=[\"labels\"])\n",
    "    result.insert(0,\"filename\",x_test_id)\n",
    "\n",
    "    result.to_csv(\"submit.csv\",index=None)\n",
    "\n",
    "    print(\"create submission succesfuly\")"
   ]
  },
  {
   "cell_type": "code",
   "execution_count": 0,
   "metadata": {
    "colab": {
     "base_uri": "https://localhost:8080/",
     "height": 35
    },
    "colab_type": "code",
    "id": "CC7ozcIJUp8v",
    "outputId": "b2c38444-1f4c-4ae0-9c14-10afcf4291bb"
   },
   "outputs": [
    {
     "name": "stdout",
     "output_type": "stream",
     "text": [
      "create submission succesfuly\n"
     ]
    }
   ],
   "source": [
    "# 生成csv文件\n",
    "create_submission(y_preds,x_test_id)"
   ]
  },
  {
   "cell_type": "code",
   "execution_count": 0,
   "metadata": {
    "colab": {
     "base_uri": "https://localhost:8080/",
     "height": 197
    },
    "colab_type": "code",
    "id": "hbkWEUh2Uywy",
    "outputId": "5a5a3c9b-45c8-4f4d-e42c-f4a7930b6d7b"
   },
   "outputs": [
    {
     "data": {
      "text/html": [
       "<div>\n",
       "<style scoped>\n",
       "    .dataframe tbody tr th:only-of-type {\n",
       "        vertical-align: middle;\n",
       "    }\n",
       "\n",
       "    .dataframe tbody tr th {\n",
       "        vertical-align: top;\n",
       "    }\n",
       "\n",
       "    .dataframe thead th {\n",
       "        text-align: right;\n",
       "    }\n",
       "</style>\n",
       "<table border=\"1\" class=\"dataframe\">\n",
       "  <thead>\n",
       "    <tr style=\"text-align: right;\">\n",
       "      <th></th>\n",
       "      <th>filename</th>\n",
       "      <th>labels</th>\n",
       "    </tr>\n",
       "  </thead>\n",
       "  <tbody>\n",
       "    <tr>\n",
       "      <th>0</th>\n",
       "      <td>e3e25bf5cb2cdef2f538ec5e2b3039f6aae6c0ef.jpg</td>\n",
       "      <td>黄春寒莫虎</td>\n",
       "    </tr>\n",
       "    <tr>\n",
       "      <th>1</th>\n",
       "      <td>cb68929c872feddcdd7d2f1d27c151e99575785f.jpg</td>\n",
       "      <td>好秋林物游</td>\n",
       "    </tr>\n",
       "    <tr>\n",
       "      <th>2</th>\n",
       "      <td>dbf840d7ed6d3d3604689e1062c57f22937c20ee.jpg</td>\n",
       "      <td>足良思皇定</td>\n",
       "    </tr>\n",
       "    <tr>\n",
       "      <th>3</th>\n",
       "      <td>e32473a16786a031b230ccb4ab0bc9c04a2834af.jpg</td>\n",
       "      <td>多名易臣印</td>\n",
       "    </tr>\n",
       "    <tr>\n",
       "      <th>4</th>\n",
       "      <td>db8aeee15d73b601f04f008a8354bb86f3956bf9.jpg</td>\n",
       "      <td>物易申虎家</td>\n",
       "    </tr>\n",
       "  </tbody>\n",
       "</table>\n",
       "</div>"
      ],
      "text/plain": [
       "                                       filename labels\n",
       "0  e3e25bf5cb2cdef2f538ec5e2b3039f6aae6c0ef.jpg  黄春寒莫虎\n",
       "1  cb68929c872feddcdd7d2f1d27c151e99575785f.jpg  好秋林物游\n",
       "2  dbf840d7ed6d3d3604689e1062c57f22937c20ee.jpg  足良思皇定\n",
       "3  e32473a16786a031b230ccb4ab0bc9c04a2834af.jpg  多名易臣印\n",
       "4  db8aeee15d73b601f04f008a8354bb86f3956bf9.jpg  物易申虎家"
      ]
     },
     "execution_count": 25,
     "metadata": {
      "tags": []
     },
     "output_type": "execute_result"
    }
   ],
   "source": [
    "import pandas as pd\n",
    "# 预览一下提交文件\n",
    "predict_df = pd.read_csv(\"submit.csv\")\n",
    "predict_df.head()"
   ]
  },
  {
   "cell_type": "markdown",
   "metadata": {
    "colab_type": "text",
    "id": "couOtHEkehKo"
   },
   "source": [
    "**（4）ResNet**"
   ]
  },
  {
   "cell_type": "markdown",
   "metadata": {},
   "source": [
    "`a.ResNet50模型定义`"
   ]
  },
  {
   "cell_type": "code",
   "execution_count": 0,
   "metadata": {
    "colab": {},
    "colab_type": "code",
    "id": "U8oDGfXcdKow"
   },
   "outputs": [],
   "source": [
    "# 定义一个ResNet50的模型\n",
    "def restnet50_model(img_rows, img_cols):\n",
    "    x = Input(shape=(img_rows, img_cols, 3))\n",
    "    x = Lambda(imagenet_utils.preprocess_input)(x)\n",
    "    \n",
    "    base_model = ResNet50(input_tensor=x, weights='imagenet', \n",
    "                      include_top=False, pooling='avg')\n",
    "    x = base_model.output\n",
    "    x = Dense(1024, activation='relu', name='fc1')(x)\n",
    "    x = Dropout(0.5)(x)\n",
    "    predictions = Dense(100, activation='softmax', name='predictions')(x)\n",
    "    \n",
    "    resnet_model = Model(inputs=base_model.input, outputs=predictions, name='resnet50')\n",
    "    \n",
    "    return resnet_model"
   ]
  },
  {
   "cell_type": "code",
   "execution_count": 44,
   "metadata": {
    "colab": {
     "base_uri": "https://localhost:8080/",
     "height": 53
    },
    "colab_type": "code",
    "id": "I89h_319fmr9",
    "outputId": "8b4287a4-6e36-461e-b5bc-05d8fa358625"
   },
   "outputs": [
    {
     "name": "stdout",
     "output_type": "stream",
     "text": [
      "Downloading data from https://github.com/fchollet/deep-learning-models/releases/download/v0.2/resnet50_weights_tf_dim_ordering_tf_kernels_notop.h5\n",
      "94658560/94653016 [==============================] - 8s 0us/step\n"
     ]
    }
   ],
   "source": [
    "# 创建ResNet50模型\n",
    "\n",
    "img_rows, img_cols = 224, 224\n",
    "resnet_model = restnet50_model(img_rows,img_cols)"
   ]
  },
  {
   "cell_type": "code",
   "execution_count": 0,
   "metadata": {
    "colab": {
     "base_uri": "https://localhost:8080/",
     "height": 1000
    },
    "colab_type": "code",
    "id": "RF0vMdEcfuLx",
    "outputId": "9928af43-dec5-4d13-f0f6-7f52ba35437f"
   },
   "outputs": [
    {
     "name": "stdout",
     "output_type": "stream",
     "text": [
      "0 input_1\n",
      "1 lambda_1\n",
      "2 conv1_pad\n",
      "3 conv1\n",
      "4 bn_conv1\n",
      "5 activation_1\n",
      "6 pool1_pad\n",
      "7 max_pooling2d_1\n",
      "8 res2a_branch2a\n",
      "9 bn2a_branch2a\n",
      "10 activation_2\n",
      "11 res2a_branch2b\n",
      "12 bn2a_branch2b\n",
      "13 activation_3\n",
      "14 res2a_branch2c\n",
      "15 res2a_branch1\n",
      "16 bn2a_branch2c\n",
      "17 bn2a_branch1\n",
      "18 add_1\n",
      "19 activation_4\n",
      "20 res2b_branch2a\n",
      "21 bn2b_branch2a\n",
      "22 activation_5\n",
      "23 res2b_branch2b\n",
      "24 bn2b_branch2b\n",
      "25 activation_6\n",
      "26 res2b_branch2c\n",
      "27 bn2b_branch2c\n",
      "28 add_2\n",
      "29 activation_7\n",
      "30 res2c_branch2a\n",
      "31 bn2c_branch2a\n",
      "32 activation_8\n",
      "33 res2c_branch2b\n",
      "34 bn2c_branch2b\n",
      "35 activation_9\n",
      "36 res2c_branch2c\n",
      "37 bn2c_branch2c\n",
      "38 add_3\n",
      "39 activation_10\n",
      "40 res3a_branch2a\n",
      "41 bn3a_branch2a\n",
      "42 activation_11\n",
      "43 res3a_branch2b\n",
      "44 bn3a_branch2b\n",
      "45 activation_12\n",
      "46 res3a_branch2c\n",
      "47 res3a_branch1\n",
      "48 bn3a_branch2c\n",
      "49 bn3a_branch1\n",
      "50 add_4\n",
      "51 activation_13\n",
      "52 res3b_branch2a\n",
      "53 bn3b_branch2a\n",
      "54 activation_14\n",
      "55 res3b_branch2b\n",
      "56 bn3b_branch2b\n",
      "57 activation_15\n",
      "58 res3b_branch2c\n",
      "59 bn3b_branch2c\n",
      "60 add_5\n",
      "61 activation_16\n",
      "62 res3c_branch2a\n",
      "63 bn3c_branch2a\n",
      "64 activation_17\n",
      "65 res3c_branch2b\n",
      "66 bn3c_branch2b\n",
      "67 activation_18\n",
      "68 res3c_branch2c\n",
      "69 bn3c_branch2c\n",
      "70 add_6\n",
      "71 activation_19\n",
      "72 res3d_branch2a\n",
      "73 bn3d_branch2a\n",
      "74 activation_20\n",
      "75 res3d_branch2b\n",
      "76 bn3d_branch2b\n",
      "77 activation_21\n",
      "78 res3d_branch2c\n",
      "79 bn3d_branch2c\n",
      "80 add_7\n",
      "81 activation_22\n",
      "82 res4a_branch2a\n",
      "83 bn4a_branch2a\n",
      "84 activation_23\n",
      "85 res4a_branch2b\n",
      "86 bn4a_branch2b\n",
      "87 activation_24\n",
      "88 res4a_branch2c\n",
      "89 res4a_branch1\n",
      "90 bn4a_branch2c\n",
      "91 bn4a_branch1\n",
      "92 add_8\n",
      "93 activation_25\n",
      "94 res4b_branch2a\n",
      "95 bn4b_branch2a\n",
      "96 activation_26\n",
      "97 res4b_branch2b\n",
      "98 bn4b_branch2b\n",
      "99 activation_27\n",
      "100 res4b_branch2c\n",
      "101 bn4b_branch2c\n",
      "102 add_9\n",
      "103 activation_28\n",
      "104 res4c_branch2a\n",
      "105 bn4c_branch2a\n",
      "106 activation_29\n",
      "107 res4c_branch2b\n",
      "108 bn4c_branch2b\n",
      "109 activation_30\n",
      "110 res4c_branch2c\n",
      "111 bn4c_branch2c\n",
      "112 add_10\n",
      "113 activation_31\n",
      "114 res4d_branch2a\n",
      "115 bn4d_branch2a\n",
      "116 activation_32\n",
      "117 res4d_branch2b\n",
      "118 bn4d_branch2b\n",
      "119 activation_33\n",
      "120 res4d_branch2c\n",
      "121 bn4d_branch2c\n",
      "122 add_11\n",
      "123 activation_34\n",
      "124 res4e_branch2a\n",
      "125 bn4e_branch2a\n",
      "126 activation_35\n",
      "127 res4e_branch2b\n",
      "128 bn4e_branch2b\n",
      "129 activation_36\n",
      "130 res4e_branch2c\n",
      "131 bn4e_branch2c\n",
      "132 add_12\n",
      "133 activation_37\n",
      "134 res4f_branch2a\n",
      "135 bn4f_branch2a\n",
      "136 activation_38\n",
      "137 res4f_branch2b\n",
      "138 bn4f_branch2b\n",
      "139 activation_39\n",
      "140 res4f_branch2c\n",
      "141 bn4f_branch2c\n",
      "142 add_13\n",
      "143 activation_40\n",
      "144 res5a_branch2a\n",
      "145 bn5a_branch2a\n",
      "146 activation_41\n",
      "147 res5a_branch2b\n",
      "148 bn5a_branch2b\n",
      "149 activation_42\n",
      "150 res5a_branch2c\n",
      "151 res5a_branch1\n",
      "152 bn5a_branch2c\n",
      "153 bn5a_branch1\n",
      "154 add_14\n",
      "155 activation_43\n",
      "156 res5b_branch2a\n",
      "157 bn5b_branch2a\n",
      "158 activation_44\n",
      "159 res5b_branch2b\n",
      "160 bn5b_branch2b\n",
      "161 activation_45\n",
      "162 res5b_branch2c\n",
      "163 bn5b_branch2c\n",
      "164 add_15\n",
      "165 activation_46\n",
      "166 res5c_branch2a\n",
      "167 bn5c_branch2a\n",
      "168 activation_47\n",
      "169 res5c_branch2b\n",
      "170 bn5c_branch2b\n",
      "171 activation_48\n",
      "172 res5c_branch2c\n",
      "173 bn5c_branch2c\n",
      "174 add_16\n",
      "175 activation_49\n",
      "176 global_average_pooling2d_1\n",
      "177 fc1\n",
      "178 dropout_1\n",
      "179 predictions\n"
     ]
    }
   ],
   "source": [
    "# 列出每一层的序号和名字\n",
    "for i,layer in enumerate(resnet_model.layers):\n",
    "    print(i,layer.name)"
   ]
  },
  {
   "cell_type": "markdown",
   "metadata": {},
   "source": [
    "`b.ResNet50模型训练`"
   ]
  },
  {
   "cell_type": "code",
   "execution_count": 0,
   "metadata": {
    "colab": {
     "base_uri": "https://localhost:8080/",
     "height": 948
    },
    "colab_type": "code",
    "id": "E_FugkCEf-nr",
    "outputId": "3205d856-8c2a-4b5f-e521-97700e790e5d"
   },
   "outputs": [
    {
     "name": "stdout",
     "output_type": "stream",
     "text": [
      "Train on 32000 samples, validate on 8000 samples\n",
      "Epoch 1/2\n",
      "32000/32000 [==============================] - 167s 5ms/step - loss: 2.7670 - acc: 0.3084 - val_loss: 2.8538 - val_acc: 0.3187\n",
      "Epoch 2/2\n",
      "32000/32000 [==============================] - 163s 5ms/step - loss: 2.4390 - acc: 0.3798 - val_loss: 2.8721 - val_acc: 0.3387\n",
      "Finish step_1\n",
      "Train on 32000 samples, validate on 8000 samples\n",
      "Epoch 1/10\n",
      "32000/32000 [==============================] - 461s 14ms/step - loss: 1.8796 - acc: 0.5350 - val_loss: 1.0564 - val_acc: 0.7298\n",
      "Epoch 2/10\n",
      "32000/32000 [==============================] - 450s 14ms/step - loss: 0.7572 - acc: 0.8001 - val_loss: 0.8284 - val_acc: 0.7805\n",
      "Epoch 3/10\n",
      "32000/32000 [==============================] - 449s 14ms/step - loss: 0.5099 - acc: 0.8641 - val_loss: 0.6372 - val_acc: 0.8349\n",
      "Epoch 4/10\n",
      "32000/32000 [==============================] - 449s 14ms/step - loss: 0.3501 - acc: 0.9027 - val_loss: 0.4703 - val_acc: 0.8792\n",
      "Epoch 5/10\n",
      "32000/32000 [==============================] - 449s 14ms/step - loss: 0.2291 - acc: 0.9346 - val_loss: 0.4064 - val_acc: 0.9045\n",
      "Epoch 6/10\n",
      "32000/32000 [==============================] - 449s 14ms/step - loss: 0.1676 - acc: 0.9525 - val_loss: 0.3506 - val_acc: 0.9116\n",
      "Epoch 7/10\n",
      "32000/32000 [==============================] - 449s 14ms/step - loss: 0.1142 - acc: 0.9663 - val_loss: 0.3440 - val_acc: 0.9197\n",
      "Epoch 8/10\n",
      "32000/32000 [==============================] - 449s 14ms/step - loss: 0.0872 - acc: 0.9730 - val_loss: 0.3720 - val_acc: 0.9164\n",
      "Epoch 9/10\n",
      "32000/32000 [==============================] - 449s 14ms/step - loss: 0.0680 - acc: 0.9790 - val_loss: 0.3651 - val_acc: 0.9171\n",
      "\n",
      "Epoch 00009: ReduceLROnPlateau reducing learning rate to 0.0010000000474974513.\n",
      "Epoch 10/10\n",
      "32000/32000 [==============================] - 449s 14ms/step - loss: 0.0254 - acc: 0.9929 - val_loss: 0.2833 - val_acc: 0.9433\n",
      "Finish fine-tune\n"
     ]
    },
    {
     "data": {
      "image/png": "[encoded data removed]",
      "text/plain": [
       "<Figure size 864x432 with 2 Axes>"
      ]
     },
     "metadata": {
      "tags": []
     },
     "output_type": "display_data"
    }
   ],
   "source": [
    "# 模型训练\n",
    "\n",
    "optimizer = optimizers.Adamax(lr=0.002, beta_1=0.9, beta_2=0.999, epsilon=1e-08)\n",
    "\n",
    "\n",
    "batch_size = 32\n",
    "epochs = 10\n",
    "freeze_num = 175\n",
    "    \n",
    "fine_tune_model(resnet_model, optimizer, batch_size, epochs, freeze_num)"
   ]
  },
  {
   "cell_type": "markdown",
   "metadata": {
    "colab_type": "text",
    "id": "frxlBloku0J7"
   },
   "source": [
    "`c.ResNet模型预测`"
   ]
  },
  {
   "cell_type": "code",
   "execution_count": 0,
   "metadata": {
    "colab": {},
    "colab_type": "code",
    "id": "-PFu7n30hT-F"
   },
   "outputs": [],
   "source": [
    "# 加载模型权重\n",
    "resnet_model.load_weights(\"resnet50.hdf5\")"
   ]
  },
  {
   "cell_type": "code",
   "execution_count": 0,
   "metadata": {
    "colab": {},
    "colab_type": "code",
    "id": "lkjpL9RfvD03"
   },
   "outputs": [],
   "source": [
    "# 获取预测结果\n",
    "y_preds = resnet_model.predict(x_test)"
   ]
  },
  {
   "cell_type": "code",
   "execution_count": 0,
   "metadata": {
    "colab": {},
    "colab_type": "code",
    "id": "NNLPEJxfvHVo"
   },
   "outputs": [],
   "source": [
    "from pandas import DataFrame\n",
    "\n",
    "# 定义创建csv文件的函数\n",
    "def create_submission(y_preds,x_test_id):\n",
    "    labels = []\n",
    "    for i,_ in enumerate(x_test_id):  \n",
    "\n",
    "        # key代表预测的character的序号，value代表预测概率\n",
    "        pred_dict = {key:value for key,value in enumerate(y_preds[i])} \n",
    "        pred_sorted = sorted(pred_dict.items(), key=lambda item:(-item[1])) \n",
    "        # pred_sorted: [(k1,v1), (k2,v2), ...]\n",
    "        top_5 = ''\n",
    "        for j in range(5):\n",
    "            index = pred_sorted[j][0]\n",
    "            top_5 += label_char[index]\n",
    "\n",
    "        labels.append(top_5) \n",
    "\n",
    "    result = DataFrame(labels,columns=[\"labels\"])\n",
    "    result.insert(0,\"filename\",x_test_id)\n",
    "\n",
    "    result.to_csv(\"submit2.csv\",index=None)\n",
    "\n",
    "    print(\"create submission succesfuly\")"
   ]
  },
  {
   "cell_type": "code",
   "execution_count": 0,
   "metadata": {
    "colab": {
     "base_uri": "https://localhost:8080/",
     "height": 35
    },
    "colab_type": "code",
    "id": "rnriLo2PvPY9",
    "outputId": "8cceaf68-3211-4a05-b2e7-f970e1a8f0c1"
   },
   "outputs": [
    {
     "name": "stdout",
     "output_type": "stream",
     "text": [
      "create submission succesfuly\n"
     ]
    }
   ],
   "source": [
    "# 生成csv文件\n",
    "create_submission(y_preds,x_test_id)"
   ]
  },
  {
   "cell_type": "code",
   "execution_count": 0,
   "metadata": {
    "colab": {
     "base_uri": "https://localhost:8080/",
     "height": 197
    },
    "colab_type": "code",
    "id": "-qWeDJquvV1O",
    "outputId": "42f0891b-7a3c-44a7-a005-e5723b595175"
   },
   "outputs": [
    {
     "data": {
      "text/html": [
       "<div>\n",
       "<style scoped>\n",
       "    .dataframe tbody tr th:only-of-type {\n",
       "        vertical-align: middle;\n",
       "    }\n",
       "\n",
       "    .dataframe tbody tr th {\n",
       "        vertical-align: top;\n",
       "    }\n",
       "\n",
       "    .dataframe thead th {\n",
       "        text-align: right;\n",
       "    }\n",
       "</style>\n",
       "<table border=\"1\" class=\"dataframe\">\n",
       "  <thead>\n",
       "    <tr style=\"text-align: right;\">\n",
       "      <th></th>\n",
       "      <th>filename</th>\n",
       "      <th>labels</th>\n",
       "    </tr>\n",
       "  </thead>\n",
       "  <tbody>\n",
       "    <tr>\n",
       "      <th>0</th>\n",
       "      <td>d280b395dfb55df44007304c954a9ec429c4331b.jpg</td>\n",
       "      <td>我多家衣氏</td>\n",
       "    </tr>\n",
       "    <tr>\n",
       "      <th>1</th>\n",
       "      <td>93b77c8918694f4fac8c9cfc14987e08940c909a.jpg</td>\n",
       "      <td>白申臣良父</td>\n",
       "    </tr>\n",
       "    <tr>\n",
       "      <th>2</th>\n",
       "      <td>b6b9f3cd882f419bec747a46376a5c9348ce60f3.jpg</td>\n",
       "      <td>武氏老春衣</td>\n",
       "    </tr>\n",
       "    <tr>\n",
       "      <th>3</th>\n",
       "      <td>e076e7d8ef6924c219c6829a79c267a5f55880c8.jpg</td>\n",
       "      <td>命令合御始</td>\n",
       "    </tr>\n",
       "    <tr>\n",
       "      <th>4</th>\n",
       "      <td>f75018a3c2e66fccd27b818c130e4d932d48e6f1.jpg</td>\n",
       "      <td>父必永氏我</td>\n",
       "    </tr>\n",
       "  </tbody>\n",
       "</table>\n",
       "</div>"
      ],
      "text/plain": [
       "                                       filename labels\n",
       "0  d280b395dfb55df44007304c954a9ec429c4331b.jpg  我多家衣氏\n",
       "1  93b77c8918694f4fac8c9cfc14987e08940c909a.jpg  白申臣良父\n",
       "2  b6b9f3cd882f419bec747a46376a5c9348ce60f3.jpg  武氏老春衣\n",
       "3  e076e7d8ef6924c219c6829a79c267a5f55880c8.jpg  命令合御始\n",
       "4  f75018a3c2e66fccd27b818c130e4d932d48e6f1.jpg  父必永氏我"
      ]
     },
     "execution_count": 26,
     "metadata": {
      "tags": []
     },
     "output_type": "execute_result"
    }
   ],
   "source": [
    "import pandas as pd\n",
    "# 预览一下提交文件\n",
    "predict_df = pd.read_csv(\"submit2.csv\")\n",
    "predict_df.head()"
   ]
  },
  {
   "cell_type": "markdown",
   "metadata": {
    "colab_type": "text",
    "id": "kUuE8gFh146y"
   },
   "source": [
    "**（5）Xception**"
   ]
  },
  {
   "cell_type": "markdown",
   "metadata": {},
   "source": [
    "`a.定义Xception模型`"
   ]
  },
  {
   "cell_type": "code",
   "execution_count": 0,
   "metadata": {
    "colab": {},
    "colab_type": "code",
    "id": "ZBUtRK3B11Hm"
   },
   "outputs": [],
   "source": [
    "# 定义一个Xception的模型\n",
    "def xception_model(img_rows, img_cols):\n",
    "    x = Input(shape=(img_rows, img_cols, 3))\n",
    "    x = Lambda(imagenet_utils.preprocess_input)(x)\n",
    "    \n",
    "    base_model = Xception(input_tensor=x, weights='imagenet', \n",
    "                      include_top=False, pooling='avg')\n",
    "    x = base_model.output\n",
    "    x = Dense(1024, activation='relu', name='fc1')(x)\n",
    "    x = Dropout(0.5)(x)\n",
    "    predictions = Dense(100, activation='softmax', name='predictions')(x)\n",
    "    \n",
    "    xception_model = Model(inputs=base_model.input, outputs=predictions, name='xception')\n",
    "    \n",
    "    return xception_model"
   ]
  },
  {
   "cell_type": "code",
   "execution_count": 0,
   "metadata": {
    "colab": {},
    "colab_type": "code",
    "id": "1AR64MX22Nc6"
   },
   "outputs": [],
   "source": [
    "# 创建Xception模型\n",
    "\n",
    "img_rows, img_cols = 224, 224\n",
    "xception_model = xception_model(img_rows,img_cols)"
   ]
  },
  {
   "cell_type": "code",
   "execution_count": 0,
   "metadata": {
    "colab": {
     "base_uri": "https://localhost:8080/",
     "height": 1000
    },
    "colab_type": "code",
    "id": "qT8wGIra2aXC",
    "outputId": "8d6cc02d-590b-4605-967d-8ff89354b417"
   },
   "outputs": [
    {
     "name": "stdout",
     "output_type": "stream",
     "text": [
      "0 input_3\n",
      "1 lambda_3\n",
      "2 block1_conv1\n",
      "3 block1_conv1_bn\n",
      "4 block1_conv1_act\n",
      "5 block1_conv2\n",
      "6 block1_conv2_bn\n",
      "7 block1_conv2_act\n",
      "8 block2_sepconv1\n",
      "9 block2_sepconv1_bn\n",
      "10 block2_sepconv2_act\n",
      "11 block2_sepconv2\n",
      "12 block2_sepconv2_bn\n",
      "13 conv2d_95\n",
      "14 block2_pool\n",
      "15 batch_normalization_95\n",
      "16 add_1\n",
      "17 block3_sepconv1_act\n",
      "18 block3_sepconv1\n",
      "19 block3_sepconv1_bn\n",
      "20 block3_sepconv2_act\n",
      "21 block3_sepconv2\n",
      "22 block3_sepconv2_bn\n",
      "23 conv2d_96\n",
      "24 block3_pool\n",
      "25 batch_normalization_96\n",
      "26 add_2\n",
      "27 block4_sepconv1_act\n",
      "28 block4_sepconv1\n",
      "29 block4_sepconv1_bn\n",
      "30 block4_sepconv2_act\n",
      "31 block4_sepconv2\n",
      "32 block4_sepconv2_bn\n",
      "33 conv2d_97\n",
      "34 block4_pool\n",
      "35 batch_normalization_97\n",
      "36 add_3\n",
      "37 block5_sepconv1_act\n",
      "38 block5_sepconv1\n",
      "39 block5_sepconv1_bn\n",
      "40 block5_sepconv2_act\n",
      "41 block5_sepconv2\n",
      "42 block5_sepconv2_bn\n",
      "43 block5_sepconv3_act\n",
      "44 block5_sepconv3\n",
      "45 block5_sepconv3_bn\n",
      "46 add_4\n",
      "47 block6_sepconv1_act\n",
      "48 block6_sepconv1\n",
      "49 block6_sepconv1_bn\n",
      "50 block6_sepconv2_act\n",
      "51 block6_sepconv2\n",
      "52 block6_sepconv2_bn\n",
      "53 block6_sepconv3_act\n",
      "54 block6_sepconv3\n",
      "55 block6_sepconv3_bn\n",
      "56 add_5\n",
      "57 block7_sepconv1_act\n",
      "58 block7_sepconv1\n",
      "59 block7_sepconv1_bn\n",
      "60 block7_sepconv2_act\n",
      "61 block7_sepconv2\n",
      "62 block7_sepconv2_bn\n",
      "63 block7_sepconv3_act\n",
      "64 block7_sepconv3\n",
      "65 block7_sepconv3_bn\n",
      "66 add_6\n",
      "67 block8_sepconv1_act\n",
      "68 block8_sepconv1\n",
      "69 block8_sepconv1_bn\n",
      "70 block8_sepconv2_act\n",
      "71 block8_sepconv2\n",
      "72 block8_sepconv2_bn\n",
      "73 block8_sepconv3_act\n",
      "74 block8_sepconv3\n",
      "75 block8_sepconv3_bn\n",
      "76 add_7\n",
      "77 block9_sepconv1_act\n",
      "78 block9_sepconv1\n",
      "79 block9_sepconv1_bn\n",
      "80 block9_sepconv2_act\n",
      "81 block9_sepconv2\n",
      "82 block9_sepconv2_bn\n",
      "83 block9_sepconv3_act\n",
      "84 block9_sepconv3\n",
      "85 block9_sepconv3_bn\n",
      "86 add_8\n",
      "87 block10_sepconv1_act\n",
      "88 block10_sepconv1\n",
      "89 block10_sepconv1_bn\n",
      "90 block10_sepconv2_act\n",
      "91 block10_sepconv2\n",
      "92 block10_sepconv2_bn\n",
      "93 block10_sepconv3_act\n",
      "94 block10_sepconv3\n",
      "95 block10_sepconv3_bn\n",
      "96 add_9\n",
      "97 block11_sepconv1_act\n",
      "98 block11_sepconv1\n",
      "99 block11_sepconv1_bn\n",
      "100 block11_sepconv2_act\n",
      "101 block11_sepconv2\n",
      "102 block11_sepconv2_bn\n",
      "103 block11_sepconv3_act\n",
      "104 block11_sepconv3\n",
      "105 block11_sepconv3_bn\n",
      "106 add_10\n",
      "107 block12_sepconv1_act\n",
      "108 block12_sepconv1\n",
      "109 block12_sepconv1_bn\n",
      "110 block12_sepconv2_act\n",
      "111 block12_sepconv2\n",
      "112 block12_sepconv2_bn\n",
      "113 block12_sepconv3_act\n",
      "114 block12_sepconv3\n",
      "115 block12_sepconv3_bn\n",
      "116 add_11\n",
      "117 block13_sepconv1_act\n",
      "118 block13_sepconv1\n",
      "119 block13_sepconv1_bn\n",
      "120 block13_sepconv2_act\n",
      "121 block13_sepconv2\n",
      "122 block13_sepconv2_bn\n",
      "123 conv2d_98\n",
      "124 block13_pool\n",
      "125 batch_normalization_98\n",
      "126 add_12\n",
      "127 block14_sepconv1\n",
      "128 block14_sepconv1_bn\n",
      "129 block14_sepconv1_act\n",
      "130 block14_sepconv2\n",
      "131 block14_sepconv2_bn\n",
      "132 block14_sepconv2_act\n",
      "133 global_average_pooling2d_3\n",
      "134 fc1\n",
      "135 dropout_3\n",
      "136 predictions\n"
     ]
    }
   ],
   "source": [
    "# 列出每一层的序号和名字\n",
    "for i,layer in enumerate(xception_model.layers):\n",
    "    print(i,layer.name)"
   ]
  },
  {
   "cell_type": "markdown",
   "metadata": {},
   "source": [
    "`b.Xception模型训练`"
   ]
  },
  {
   "cell_type": "code",
   "execution_count": 0,
   "metadata": {
    "colab": {},
    "colab_type": "code",
    "id": "BDJVDAE42fZ6"
   },
   "outputs": [],
   "source": [
    "# 模型训练\n",
    "\n",
    "optimizer = optimizers.Adamax(lr=0.002, beta_1=0.9, beta_2=0.999, epsilon=1e-08)\n",
    "\n",
    "\n",
    "batch_size = 32\n",
    "epochs = 15\n",
    "freeze_num = 132\n",
    "    \n",
    "fine_tune_model(xception_model, optimizer, batch_size, epochs, freeze_num)"
   ]
  },
  {
   "cell_type": "markdown",
   "metadata": {
    "colab_type": "text",
    "id": "rVCTfvXG2lPL"
   },
   "source": [
    "`c.Xception模型预测`"
   ]
  },
  {
   "cell_type": "code",
   "execution_count": 0,
   "metadata": {
    "colab": {},
    "colab_type": "code",
    "id": "WC1KsiyY2i21"
   },
   "outputs": [],
   "source": [
    "# 加载模型权重\n",
    "xception_model.load_weights(\"xception.hdf5\")"
   ]
  },
  {
   "cell_type": "code",
   "execution_count": 0,
   "metadata": {
    "colab": {},
    "colab_type": "code",
    "id": "7wFzh34W2rmd"
   },
   "outputs": [],
   "source": [
    "# 获取预测结果\n",
    "y_preds = xception_model.predict(x_test)"
   ]
  },
  {
   "cell_type": "code",
   "execution_count": 0,
   "metadata": {
    "colab": {},
    "colab_type": "code",
    "id": "UnSS6d2J2vIP"
   },
   "outputs": [],
   "source": [
    "from pandas import DataFrame\n",
    "\n",
    "# 定义创建csv文件的函数\n",
    "def create_submission(y_preds,x_test_id):\n",
    "    labels = []\n",
    "    for i,_ in enumerate(x_test_id):  \n",
    "\n",
    "        # key代表预测的character的序号，value代表预测概率\n",
    "        pred_dict = {key:value for key,value in enumerate(y_preds[i])} \n",
    "        pred_sorted = sorted(pred_dict.items(), key=lambda item:(-item[1])) \n",
    "        # pred_sorted: [(k1,v1), (k2,v2), ...]\n",
    "        top_5 = ''\n",
    "        for j in range(5):\n",
    "            index = pred_sorted[j][0]\n",
    "            top_5 += label_char[index]\n",
    "\n",
    "        labels.append(top_5) \n",
    "\n",
    "    result = DataFrame(labels,columns=[\"labels\"])\n",
    "    result.insert(0,\"filename\",x_test_id)\n",
    "\n",
    "    result.to_csv(\"submit3.csv\",index=None)\n",
    "\n",
    "    print(\"create submission succesfuly\")"
   ]
  },
  {
   "cell_type": "code",
   "execution_count": 0,
   "metadata": {
    "colab": {
     "base_uri": "https://localhost:8080/",
     "height": 35
    },
    "colab_type": "code",
    "id": "tFiybKYa2xNC",
    "outputId": "808fd4ed-ed8f-45a5-fe5f-88dbfed1e4d8"
   },
   "outputs": [
    {
     "name": "stdout",
     "output_type": "stream",
     "text": [
      "create submission succesfuly\n"
     ]
    }
   ],
   "source": [
    "# 生成csv文件\n",
    "create_submission(y_preds,x_test_id)"
   ]
  },
  {
   "cell_type": "code",
   "execution_count": 0,
   "metadata": {
    "colab": {
     "base_uri": "https://localhost:8080/",
     "height": 197
    },
    "colab_type": "code",
    "id": "8WJdlnoL2zBc",
    "outputId": "6edce722-1f38-4b92-c5f7-9e3540c31936"
   },
   "outputs": [
    {
     "data": {
      "text/html": [
       "<div>\n",
       "<style scoped>\n",
       "    .dataframe tbody tr th:only-of-type {\n",
       "        vertical-align: middle;\n",
       "    }\n",
       "\n",
       "    .dataframe tbody tr th {\n",
       "        vertical-align: top;\n",
       "    }\n",
       "\n",
       "    .dataframe thead th {\n",
       "        text-align: right;\n",
       "    }\n",
       "</style>\n",
       "<table border=\"1\" class=\"dataframe\">\n",
       "  <thead>\n",
       "    <tr style=\"text-align: right;\">\n",
       "      <th></th>\n",
       "      <th>filename</th>\n",
       "      <th>labels</th>\n",
       "    </tr>\n",
       "  </thead>\n",
       "  <tbody>\n",
       "    <tr>\n",
       "      <th>0</th>\n",
       "      <td>d280b395dfb55df44007304c954a9ec429c4331b.jpg</td>\n",
       "      <td>我孝遂受敬</td>\n",
       "    </tr>\n",
       "    <tr>\n",
       "      <th>1</th>\n",
       "      <td>93b77c8918694f4fac8c9cfc14987e08940c909a.jpg</td>\n",
       "      <td>白司官臣周</td>\n",
       "    </tr>\n",
       "    <tr>\n",
       "      <th>2</th>\n",
       "      <td>b6b9f3cd882f419bec747a46376a5c9348ce60f3.jpg</td>\n",
       "      <td>武春氏遂虎</td>\n",
       "    </tr>\n",
       "    <tr>\n",
       "      <th>3</th>\n",
       "      <td>e076e7d8ef6924c219c6829a79c267a5f55880c8.jpg</td>\n",
       "      <td>命令合衣右</td>\n",
       "    </tr>\n",
       "    <tr>\n",
       "      <th>4</th>\n",
       "      <td>f75018a3c2e66fccd27b818c130e4d932d48e6f1.jpg</td>\n",
       "      <td>父氏足名左</td>\n",
       "    </tr>\n",
       "  </tbody>\n",
       "</table>\n",
       "</div>"
      ],
      "text/plain": [
       "                                       filename labels\n",
       "0  d280b395dfb55df44007304c954a9ec429c4331b.jpg  我孝遂受敬\n",
       "1  93b77c8918694f4fac8c9cfc14987e08940c909a.jpg  白司官臣周\n",
       "2  b6b9f3cd882f419bec747a46376a5c9348ce60f3.jpg  武春氏遂虎\n",
       "3  e076e7d8ef6924c219c6829a79c267a5f55880c8.jpg  命令合衣右\n",
       "4  f75018a3c2e66fccd27b818c130e4d932d48e6f1.jpg  父氏足名左"
      ]
     },
     "execution_count": 35,
     "metadata": {
      "tags": []
     },
     "output_type": "execute_result"
    }
   ],
   "source": [
    "import pandas as pd\n",
    "# 预览一下提交文件\n",
    "predict_df = pd.read_csv(\"submit.csv\")\n",
    "predict_df.head()"
   ]
  },
  {
   "cell_type": "markdown",
   "metadata": {
    "colab_type": "text",
    "id": "yUbgJVsrGoSu"
   },
   "source": [
    "**（6）IncpetionV3**"
   ]
  },
  {
   "cell_type": "markdown",
   "metadata": {},
   "source": [
    "`a.InceptionV3模型定义`"
   ]
  },
  {
   "cell_type": "code",
   "execution_count": 0,
   "metadata": {
    "colab": {},
    "colab_type": "code",
    "id": "k1qscjqBGnFB"
   },
   "outputs": [],
   "source": [
    "# 定义一个Inception的模型\n",
    "def inception_model(img_rows, img_cols):\n",
    "    x = Input(shape=(img_rows, img_cols, 3))\n",
    "    x = Lambda(imagenet_utils.preprocess_input)(x)\n",
    "    \n",
    "    base_model = inception_v3.InceptionV3(input_tensor=x, weights='imagenet', \n",
    "                      include_top=False, pooling='avg')\n",
    "    x = base_model.output\n",
    "    x = Dense(1024, activation='relu', name='fc1')(x)\n",
    "    x = Dropout(0.5)(x)\n",
    "    predictions = Dense(100, activation='softmax', name='predictions')(x)\n",
    "    \n",
    "    inception_model = Model(inputs=base_model.input, outputs=predictions, name='inceptionv3')\n",
    "    \n",
    "    return inception_model"
   ]
  },
  {
   "cell_type": "code",
   "execution_count": 0,
   "metadata": {
    "colab": {},
    "colab_type": "code",
    "id": "0B3OgZeAG_fB"
   },
   "outputs": [],
   "source": [
    "# 创建Incpetion模型\n",
    "\n",
    "img_rows, img_cols = 224, 224\n",
    "inception_model = inception_model(img_rows,img_cols)"
   ]
  },
  {
   "cell_type": "code",
   "execution_count": 0,
   "metadata": {
    "colab": {
     "base_uri": "https://localhost:8080/",
     "height": 1000
    },
    "colab_type": "code",
    "id": "fqBoHLdcHLnc",
    "outputId": "3041e736-e749-43c9-ee14-f33cabc450d2"
   },
   "outputs": [
    {
     "name": "stdout",
     "output_type": "stream",
     "text": [
      "0 input_2\n",
      "1 lambda_2\n",
      "2 conv2d_1\n",
      "3 batch_normalization_1\n",
      "4 activation_1\n",
      "5 conv2d_2\n",
      "6 batch_normalization_2\n",
      "7 activation_2\n",
      "8 conv2d_3\n",
      "9 batch_normalization_3\n",
      "10 activation_3\n",
      "11 max_pooling2d_1\n",
      "12 conv2d_4\n",
      "13 batch_normalization_4\n",
      "14 activation_4\n",
      "15 conv2d_5\n",
      "16 batch_normalization_5\n",
      "17 activation_5\n",
      "18 max_pooling2d_2\n",
      "19 conv2d_9\n",
      "20 batch_normalization_9\n",
      "21 activation_9\n",
      "22 conv2d_7\n",
      "23 conv2d_10\n",
      "24 batch_normalization_7\n",
      "25 batch_normalization_10\n",
      "26 activation_7\n",
      "27 activation_10\n",
      "28 average_pooling2d_1\n",
      "29 conv2d_6\n",
      "30 conv2d_8\n",
      "31 conv2d_11\n",
      "32 conv2d_12\n",
      "33 batch_normalization_6\n",
      "34 batch_normalization_8\n",
      "35 batch_normalization_11\n",
      "36 batch_normalization_12\n",
      "37 activation_6\n",
      "38 activation_8\n",
      "39 activation_11\n",
      "40 activation_12\n",
      "41 mixed0\n",
      "42 conv2d_16\n",
      "43 batch_normalization_16\n",
      "44 activation_16\n",
      "45 conv2d_14\n",
      "46 conv2d_17\n",
      "47 batch_normalization_14\n",
      "48 batch_normalization_17\n",
      "49 activation_14\n",
      "50 activation_17\n",
      "51 average_pooling2d_2\n",
      "52 conv2d_13\n",
      "53 conv2d_15\n",
      "54 conv2d_18\n",
      "55 conv2d_19\n",
      "56 batch_normalization_13\n",
      "57 batch_normalization_15\n",
      "58 batch_normalization_18\n",
      "59 batch_normalization_19\n",
      "60 activation_13\n",
      "61 activation_15\n",
      "62 activation_18\n",
      "63 activation_19\n",
      "64 mixed1\n",
      "65 conv2d_23\n",
      "66 batch_normalization_23\n",
      "67 activation_23\n",
      "68 conv2d_21\n",
      "69 conv2d_24\n",
      "70 batch_normalization_21\n",
      "71 batch_normalization_24\n",
      "72 activation_21\n",
      "73 activation_24\n",
      "74 average_pooling2d_3\n",
      "75 conv2d_20\n",
      "76 conv2d_22\n",
      "77 conv2d_25\n",
      "78 conv2d_26\n",
      "79 batch_normalization_20\n",
      "80 batch_normalization_22\n",
      "81 batch_normalization_25\n",
      "82 batch_normalization_26\n",
      "83 activation_20\n",
      "84 activation_22\n",
      "85 activation_25\n",
      "86 activation_26\n",
      "87 mixed2\n",
      "88 conv2d_28\n",
      "89 batch_normalization_28\n",
      "90 activation_28\n",
      "91 conv2d_29\n",
      "92 batch_normalization_29\n",
      "93 activation_29\n",
      "94 conv2d_27\n",
      "95 conv2d_30\n",
      "96 batch_normalization_27\n",
      "97 batch_normalization_30\n",
      "98 activation_27\n",
      "99 activation_30\n",
      "100 max_pooling2d_3\n",
      "101 mixed3\n",
      "102 conv2d_35\n",
      "103 batch_normalization_35\n",
      "104 activation_35\n",
      "105 conv2d_36\n",
      "106 batch_normalization_36\n",
      "107 activation_36\n",
      "108 conv2d_32\n",
      "109 conv2d_37\n",
      "110 batch_normalization_32\n",
      "111 batch_normalization_37\n",
      "112 activation_32\n",
      "113 activation_37\n",
      "114 conv2d_33\n",
      "115 conv2d_38\n",
      "116 batch_normalization_33\n",
      "117 batch_normalization_38\n",
      "118 activation_33\n",
      "119 activation_38\n",
      "120 average_pooling2d_4\n",
      "121 conv2d_31\n",
      "122 conv2d_34\n",
      "123 conv2d_39\n",
      "124 conv2d_40\n",
      "125 batch_normalization_31\n",
      "126 batch_normalization_34\n",
      "127 batch_normalization_39\n",
      "128 batch_normalization_40\n",
      "129 activation_31\n",
      "130 activation_34\n",
      "131 activation_39\n",
      "132 activation_40\n",
      "133 mixed4\n",
      "134 conv2d_45\n",
      "135 batch_normalization_45\n",
      "136 activation_45\n",
      "137 conv2d_46\n",
      "138 batch_normalization_46\n",
      "139 activation_46\n",
      "140 conv2d_42\n",
      "141 conv2d_47\n",
      "142 batch_normalization_42\n",
      "143 batch_normalization_47\n",
      "144 activation_42\n",
      "145 activation_47\n",
      "146 conv2d_43\n",
      "147 conv2d_48\n",
      "148 batch_normalization_43\n",
      "149 batch_normalization_48\n",
      "150 activation_43\n",
      "151 activation_48\n",
      "152 average_pooling2d_5\n",
      "153 conv2d_41\n",
      "154 conv2d_44\n",
      "155 conv2d_49\n",
      "156 conv2d_50\n",
      "157 batch_normalization_41\n",
      "158 batch_normalization_44\n",
      "159 batch_normalization_49\n",
      "160 batch_normalization_50\n",
      "161 activation_41\n",
      "162 activation_44\n",
      "163 activation_49\n",
      "164 activation_50\n",
      "165 mixed5\n",
      "166 conv2d_55\n",
      "167 batch_normalization_55\n",
      "168 activation_55\n",
      "169 conv2d_56\n",
      "170 batch_normalization_56\n",
      "171 activation_56\n",
      "172 conv2d_52\n",
      "173 conv2d_57\n",
      "174 batch_normalization_52\n",
      "175 batch_normalization_57\n",
      "176 activation_52\n",
      "177 activation_57\n",
      "178 conv2d_53\n",
      "179 conv2d_58\n",
      "180 batch_normalization_53\n",
      "181 batch_normalization_58\n",
      "182 activation_53\n",
      "183 activation_58\n",
      "184 average_pooling2d_6\n",
      "185 conv2d_51\n",
      "186 conv2d_54\n",
      "187 conv2d_59\n",
      "188 conv2d_60\n",
      "189 batch_normalization_51\n",
      "190 batch_normalization_54\n",
      "191 batch_normalization_59\n",
      "192 batch_normalization_60\n",
      "193 activation_51\n",
      "194 activation_54\n",
      "195 activation_59\n",
      "196 activation_60\n",
      "197 mixed6\n",
      "198 conv2d_65\n",
      "199 batch_normalization_65\n",
      "200 activation_65\n",
      "201 conv2d_66\n",
      "202 batch_normalization_66\n",
      "203 activation_66\n",
      "204 conv2d_62\n",
      "205 conv2d_67\n",
      "206 batch_normalization_62\n",
      "207 batch_normalization_67\n",
      "208 activation_62\n",
      "209 activation_67\n",
      "210 conv2d_63\n",
      "211 conv2d_68\n",
      "212 batch_normalization_63\n",
      "213 batch_normalization_68\n",
      "214 activation_63\n",
      "215 activation_68\n",
      "216 average_pooling2d_7\n",
      "217 conv2d_61\n",
      "218 conv2d_64\n",
      "219 conv2d_69\n",
      "220 conv2d_70\n",
      "221 batch_normalization_61\n",
      "222 batch_normalization_64\n",
      "223 batch_normalization_69\n",
      "224 batch_normalization_70\n",
      "225 activation_61\n",
      "226 activation_64\n",
      "227 activation_69\n",
      "228 activation_70\n",
      "229 mixed7\n",
      "230 conv2d_73\n",
      "231 batch_normalization_73\n",
      "232 activation_73\n",
      "233 conv2d_74\n",
      "234 batch_normalization_74\n",
      "235 activation_74\n",
      "236 conv2d_71\n",
      "237 conv2d_75\n",
      "238 batch_normalization_71\n",
      "239 batch_normalization_75\n",
      "240 activation_71\n",
      "241 activation_75\n",
      "242 conv2d_72\n",
      "243 conv2d_76\n",
      "244 batch_normalization_72\n",
      "245 batch_normalization_76\n",
      "246 activation_72\n",
      "247 activation_76\n",
      "248 max_pooling2d_4\n",
      "249 mixed8\n",
      "250 conv2d_81\n",
      "251 batch_normalization_81\n",
      "252 activation_81\n",
      "253 conv2d_78\n",
      "254 conv2d_82\n",
      "255 batch_normalization_78\n",
      "256 batch_normalization_82\n",
      "257 activation_78\n",
      "258 activation_82\n",
      "259 conv2d_79\n",
      "260 conv2d_80\n",
      "261 conv2d_83\n",
      "262 conv2d_84\n",
      "263 average_pooling2d_8\n",
      "264 conv2d_77\n",
      "265 batch_normalization_79\n",
      "266 batch_normalization_80\n",
      "267 batch_normalization_83\n",
      "268 batch_normalization_84\n",
      "269 conv2d_85\n",
      "270 batch_normalization_77\n",
      "271 activation_79\n",
      "272 activation_80\n",
      "273 activation_83\n",
      "274 activation_84\n",
      "275 batch_normalization_85\n",
      "276 activation_77\n",
      "277 mixed9_0\n",
      "278 concatenate_1\n",
      "279 activation_85\n",
      "280 mixed9\n",
      "281 conv2d_90\n",
      "282 batch_normalization_90\n",
      "283 activation_90\n",
      "284 conv2d_87\n",
      "285 conv2d_91\n",
      "286 batch_normalization_87\n",
      "287 batch_normalization_91\n",
      "288 activation_87\n",
      "289 activation_91\n",
      "290 conv2d_88\n",
      "291 conv2d_89\n",
      "292 conv2d_92\n",
      "293 conv2d_93\n",
      "294 average_pooling2d_9\n",
      "295 conv2d_86\n",
      "296 batch_normalization_88\n",
      "297 batch_normalization_89\n",
      "298 batch_normalization_92\n",
      "299 batch_normalization_93\n",
      "300 conv2d_94\n",
      "301 batch_normalization_86\n",
      "302 activation_88\n",
      "303 activation_89\n",
      "304 activation_92\n",
      "305 activation_93\n",
      "306 batch_normalization_94\n",
      "307 activation_86\n",
      "308 mixed9_1\n",
      "309 concatenate_2\n",
      "310 activation_94\n",
      "311 mixed10\n",
      "312 global_average_pooling2d_2\n",
      "313 fc1\n",
      "314 dropout_2\n",
      "315 predictions\n"
     ]
    }
   ],
   "source": [
    "# 列出每一层的序号和名字\n",
    "for i,layer in enumerate(inception_model.layers):\n",
    "    print(i,layer.name)"
   ]
  },
  {
   "cell_type": "markdown",
   "metadata": {},
   "source": [
    "`b.InceptionV3模型训练`"
   ]
  },
  {
   "cell_type": "code",
   "execution_count": 0,
   "metadata": {
    "colab": {
     "base_uri": "https://localhost:8080/",
     "height": 1000
    },
    "colab_type": "code",
    "id": "US9A88lpHQxP",
    "outputId": "e7e73598-e295-4e78-942a-f441d1229691"
   },
   "outputs": [
    {
     "name": "stdout",
     "output_type": "stream",
     "text": [
      "Train on 32000 samples, validate on 8000 samples\n",
      "Epoch 1/2\n",
      "32000/32000 [==============================] - 233s 7ms/step - loss: 4.5317 - acc: 0.0246 - val_loss: 14.8521 - val_acc: 0.0125\n",
      "Epoch 2/2\n",
      "32000/32000 [==============================] - 228s 7ms/step - loss: 4.1858 - acc: 0.0615 - val_loss: 15.5956 - val_acc: 0.0094\n",
      "Finish step_1\n",
      "Train on 32000 samples, validate on 8000 samples\n",
      "Epoch 1/15\n",
      "32000/32000 [==============================] - 734s 23ms/step - loss: 2.4291 - acc: 0.4049 - val_loss: 1.2303 - val_acc: 0.6876\n",
      "Epoch 2/15\n",
      "32000/32000 [==============================] - 722s 23ms/step - loss: 0.8600 - acc: 0.7824 - val_loss: 0.6809 - val_acc: 0.8305\n",
      "Epoch 3/15\n",
      "32000/32000 [==============================] - 734s 23ms/step - loss: 0.5294 - acc: 0.8671 - val_loss: 0.5890 - val_acc: 0.8536\n",
      "Epoch 4/15\n",
      "32000/32000 [==============================] - 735s 23ms/step - loss: 0.3792 - acc: 0.9036 - val_loss: 0.4225 - val_acc: 0.8999\n",
      "Epoch 5/15\n",
      "32000/32000 [==============================] - 734s 23ms/step - loss: 0.2785 - acc: 0.9281 - val_loss: 0.4068 - val_acc: 0.9015\n",
      "Epoch 6/15\n",
      "32000/32000 [==============================] - 733s 23ms/step - loss: 0.2158 - acc: 0.9433 - val_loss: 0.3787 - val_acc: 0.9110\n",
      "Epoch 7/15\n",
      "32000/32000 [==============================] - 735s 23ms/step - loss: 0.1650 - acc: 0.9562 - val_loss: 0.3827 - val_acc: 0.9150\n",
      "Epoch 8/15\n",
      "32000/32000 [==============================] - 737s 23ms/step - loss: 0.1350 - acc: 0.9637 - val_loss: 0.3192 - val_acc: 0.9281\n",
      "Epoch 9/15\n",
      "32000/32000 [==============================] - 733s 23ms/step - loss: 0.1093 - acc: 0.9703 - val_loss: 0.3293 - val_acc: 0.9299\n",
      "Epoch 10/15\n",
      "32000/32000 [==============================] - 732s 23ms/step - loss: 0.0947 - acc: 0.9741 - val_loss: 0.3408 - val_acc: 0.9323\n",
      "\n",
      "Epoch 00010: ReduceLROnPlateau reducing learning rate to 0.0010000000474974513.\n",
      "Epoch 11/15\n",
      "32000/32000 [==============================] - 733s 23ms/step - loss: 0.0344 - acc: 0.9900 - val_loss: 0.2551 - val_acc: 0.9506\n",
      "Epoch 12/15\n",
      "32000/32000 [==============================] - 733s 23ms/step - loss: 0.0180 - acc: 0.9948 - val_loss: 0.2597 - val_acc: 0.9531\n",
      "Epoch 13/15\n",
      "32000/32000 [==============================] - 733s 23ms/step - loss: 0.0151 - acc: 0.9955 - val_loss: 0.2724 - val_acc: 0.9495\n",
      "\n",
      "Epoch 00013: ReduceLROnPlateau reducing learning rate to 0.0005000000237487257.\n",
      "Epoch 14/15\n",
      "32000/32000 [==============================] - 733s 23ms/step - loss: 0.0077 - acc: 0.9977 - val_loss: 0.2602 - val_acc: 0.9566\n",
      "Epoch 15/15\n",
      "32000/32000 [==============================] - 733s 23ms/step - loss: 0.0053 - acc: 0.9985 - val_loss: 0.2589 - val_acc: 0.9574\n",
      "\n",
      "Epoch 00015: ReduceLROnPlateau reducing learning rate to 0.0002500000118743628.\n",
      "Finish fine-tune\n"
     ]
    },
    {
     "data": {
      "image/png": "[encoded data removed]",
      "text/plain": [
       "<Figure size 864x432 with 2 Axes>"
      ]
     },
     "metadata": {
      "tags": []
     },
     "output_type": "display_data"
    }
   ],
   "source": [
    "# 模型训练\n",
    "\n",
    "optimizer = optimizers.Adamax(lr=0.002, beta_1=0.9, beta_2=0.999, epsilon=1e-08)\n",
    "\n",
    "\n",
    "batch_size = 32\n",
    "epochs = 15\n",
    "freeze_num = 311\n",
    "    \n",
    "fine_tune_model(inception_model, optimizer, batch_size, epochs, freeze_num)"
   ]
  },
  {
   "cell_type": "markdown",
   "metadata": {
    "colab_type": "text",
    "id": "WCsrSED4HWGO"
   },
   "source": [
    "`c.InceptionV3模型预测`"
   ]
  },
  {
   "cell_type": "code",
   "execution_count": 0,
   "metadata": {
    "colab": {},
    "colab_type": "code",
    "id": "KaCLfikPHVww"
   },
   "outputs": [],
   "source": [
    "# 加载模型权重\n",
    "inception_model.load_weights(\"inceptionv3.hdf5\")"
   ]
  },
  {
   "cell_type": "code",
   "execution_count": 0,
   "metadata": {
    "colab": {},
    "colab_type": "code",
    "id": "7tj7kjs3HVCl"
   },
   "outputs": [],
   "source": [
    "# 获取预测结果\n",
    "y_preds = inception_model.predict(x_test)"
   ]
  },
  {
   "cell_type": "code",
   "execution_count": 0,
   "metadata": {
    "colab": {},
    "colab_type": "code",
    "id": "CB2Os9IvHjQl"
   },
   "outputs": [],
   "source": [
    "from pandas import DataFrame\n",
    "\n",
    "# 定义创建csv文件的函数\n",
    "def create_submission(y_preds,x_test_id):\n",
    "    labels = []\n",
    "    for i,_ in enumerate(x_test_id):  \n",
    "\n",
    "        # key代表预测的character的序号，value代表预测概率\n",
    "        pred_dict = {key:value for key,value in enumerate(y_preds[i])} \n",
    "        pred_sorted = sorted(pred_dict.items(), key=lambda item:(-item[1])) \n",
    "        # pred_sorted: [(k1,v1), (k2,v2), ...]\n",
    "        top_5 = ''\n",
    "        for j in range(5):\n",
    "            index = pred_sorted[j][0]\n",
    "            top_5 += label_char[index]\n",
    "\n",
    "        labels.append(top_5) \n",
    "\n",
    "    result = DataFrame(labels,columns=[\"labels\"])\n",
    "    result.insert(0,\"filename\",x_test_id)\n",
    "\n",
    "    result.to_csv(\"submit4.csv\",index=None)\n",
    "\n",
    "    print(\"create submission succesfuly\")"
   ]
  },
  {
   "cell_type": "code",
   "execution_count": 38,
   "metadata": {
    "colab": {
     "base_uri": "https://localhost:8080/",
     "height": 35
    },
    "colab_type": "code",
    "id": "DHxFs1SdHmLB",
    "outputId": "b473967e-48c8-4d92-c9db-04adda0ec078"
   },
   "outputs": [
    {
     "name": "stdout",
     "output_type": "stream",
     "text": [
      "create submission succesfuly\n"
     ]
    }
   ],
   "source": [
    "# 生成csv文件\n",
    "create_submission(y_preds,x_test_id)"
   ]
  },
  {
   "cell_type": "code",
   "execution_count": 39,
   "metadata": {
    "colab": {
     "base_uri": "https://localhost:8080/",
     "height": 197
    },
    "colab_type": "code",
    "id": "a6kjCvyZHoKi",
    "outputId": "f777828b-7cab-407c-d756-637e94c26bc2"
   },
   "outputs": [
    {
     "data": {
      "text/html": [
       "<div>\n",
       "<style scoped>\n",
       "    .dataframe tbody tr th:only-of-type {\n",
       "        vertical-align: middle;\n",
       "    }\n",
       "\n",
       "    .dataframe tbody tr th {\n",
       "        vertical-align: top;\n",
       "    }\n",
       "\n",
       "    .dataframe thead th {\n",
       "        text-align: right;\n",
       "    }\n",
       "</style>\n",
       "<table border=\"1\" class=\"dataframe\">\n",
       "  <thead>\n",
       "    <tr style=\"text-align: right;\">\n",
       "      <th></th>\n",
       "      <th>filename</th>\n",
       "      <th>labels</th>\n",
       "    </tr>\n",
       "  </thead>\n",
       "  <tbody>\n",
       "    <tr>\n",
       "      <th>0</th>\n",
       "      <td>e3e25bf5cb2cdef2f538ec5e2b3039f6aae6c0ef.jpg</td>\n",
       "      <td>通海徐建深</td>\n",
       "    </tr>\n",
       "    <tr>\n",
       "      <th>1</th>\n",
       "      <td>cb68929c872feddcdd7d2f1d27c151e99575785f.jpg</td>\n",
       "      <td>好世御秋始</td>\n",
       "    </tr>\n",
       "    <tr>\n",
       "      <th>2</th>\n",
       "      <td>dbf840d7ed6d3d3604689e1062c57f22937c20ee.jpg</td>\n",
       "      <td>足从正起良</td>\n",
       "    </tr>\n",
       "    <tr>\n",
       "      <th>3</th>\n",
       "      <td>e32473a16786a031b230ccb4ab0bc9c04a2834af.jpg</td>\n",
       "      <td>多名易受印</td>\n",
       "    </tr>\n",
       "    <tr>\n",
       "      <th>4</th>\n",
       "      <td>db8aeee15d73b601f04f008a8354bb86f3956bf9.jpg</td>\n",
       "      <td>易物我虎必</td>\n",
       "    </tr>\n",
       "  </tbody>\n",
       "</table>\n",
       "</div>"
      ],
      "text/plain": [
       "                                       filename labels\n",
       "0  e3e25bf5cb2cdef2f538ec5e2b3039f6aae6c0ef.jpg  通海徐建深\n",
       "1  cb68929c872feddcdd7d2f1d27c151e99575785f.jpg  好世御秋始\n",
       "2  dbf840d7ed6d3d3604689e1062c57f22937c20ee.jpg  足从正起良\n",
       "3  e32473a16786a031b230ccb4ab0bc9c04a2834af.jpg  多名易受印\n",
       "4  db8aeee15d73b601f04f008a8354bb86f3956bf9.jpg  易物我虎必"
      ]
     },
     "execution_count": 39,
     "metadata": {
      "tags": []
     },
     "output_type": "execute_result"
    }
   ],
   "source": [
    "import pandas as pd\n",
    "# 预览一下提交文件\n",
    "predict_df = pd.read_csv(\"submit4.csv\")\n",
    "predict_df.head()"
   ]
  }
 ],
 "metadata": {
  "accelerator": "GPU",
  "colab": {
   "collapsed_sections": [],
   "machine_shape": "hm",
   "name": "Untitled0.ipynb",
   "provenance": [],
   "toc_visible": true,
   "version": "0.3.2"
  },
  "kernelspec": {
   "display_name": "Python 3",
   "language": "python",
   "name": "python3"
  },
  "language_info": {
   "codemirror_mode": {
    "name": "ipython",
    "version": 3
   },
   "file_extension": ".py",
   "mimetype": "text/x-python",
   "name": "python",
   "nbconvert_exporter": "python",
   "pygments_lexer": "ipython3",
   "version": "3.7.1"
  }
 },
 "nbformat": 4,
 "nbformat_minor": 1
}
